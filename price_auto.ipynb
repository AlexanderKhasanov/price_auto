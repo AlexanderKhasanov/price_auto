{
 "cells": [
  {
   "cell_type": "markdown",
   "metadata": {},
   "source": [
    "\n",
    "Привет, меня зовут Люман Аблаев. Сегодня я проверю твой проект.\n",
    "<br> Дальнейшее общение будет происходить на \"ты\" если это не вызывает никаких проблем.\n",
    "<br> Желательно реагировать на красные комментарии ('исправил', 'не понятно как исправить ошибку', ...)\n",
    "<br> Пожалуйста, не удаляй комментарии ревьюера, так как они повышают качество повторного ревью.\n",
    "\n",
    "Комментарии будут в <font color='green'>зеленой</font>, <font color='blue'>синей</font> или <font color='red'>красной</font> рамках:\n",
    "\n",
    "\n",
    "<div class=\"alert alert-block alert-success\">\n",
    "<b>Успех:</b> Если все сделано отлично\n",
    "</div>\n",
    "\n",
    "<div class=\"alert alert-block alert-info\">\n",
    "<b>Совет: </b> Если можно немного улучшить\n",
    "</div>\n",
    "\n",
    "<div class=\"alert alert-block alert-danger\">\n",
    "<b>Ошибка:</b> Если требуются исправления. Работа не может быть принята с красными комментариями.\n",
    "</div>\n",
    "\n",
    "-------------------\n",
    "\n",
    "Будет очень хорошо, если ты будешь помечать свои действия следующим образом:\n",
    "<div class=\"alert alert-block alert-warning\">\n",
    "<b>Комментарий студента:</b> ...\n",
    "</div>\n",
    "\n",
    "<div class=\"alert alert-block alert-warning\">\n",
    "<b>Изменения:</b> Были внесены следующие изменения ...\n",
    "</div>\n",
    "\n",
    "\n",
    "\n",
    "\n",
    "\n",
    "\n",
    "\n",
    "<font color='orange' style='font-size:24px; font-weight:bold'>Общее впечатление</font>\n",
    "* Спасибо за очень качественную работу - видно, что приложено много усилий,\n",
    "- Я оставил некоторые советы, надеюсь они будут полезными и интересными\n",
    "- Есть некоторые недочеты, которые нужно поправить, но у тебя это не должно занять много времени)\n",
    "- Жду обновленную работу"
   ]
  },
  {
   "cell_type": "markdown",
   "metadata": {},
   "source": [
    "# Определение стоимости автомобилей"
   ]
  },
  {
   "cell_type": "markdown",
   "metadata": {},
   "source": [
    "Сервис по продаже автомобилей с пробегом «Не бит, не крашен» разрабатывает приложение для привлечения новых клиентов. В нём можно быстро узнать рыночную стоимость своего автомобиля. В вашем распоряжении исторические данные: технические характеристики, комплектации и цены автомобилей. Вам нужно построить модель для определения стоимости. \n",
    "\n",
    "Заказчику важны:\n",
    "\n",
    "- качество предсказания;\n",
    "- скорость предсказания;\n",
    "- время обучения."
   ]
  },
  {
   "cell_type": "markdown",
   "metadata": {},
   "source": [
    "## Загрузка данных данных"
   ]
  },
  {
   "cell_type": "code",
   "execution_count": 76,
   "metadata": {},
   "outputs": [],
   "source": [
    "import pandas as pd\n",
    "import seaborn as sns\n",
    "import matplotlib.pyplot as plt\n",
    "from sklearn.model_selection import train_test_split, cross_validate\n",
    "from sklearn.preprocessing import OneHotEncoder, StandardScaler\n",
    "from sklearn.linear_model import LinearRegression\n",
    "from sklearn.ensemble import RandomForestRegressor\n",
    "from sklearn.model_selection import GridSearchCV\n",
    "from sklearn.metrics import mean_squared_error\n",
    "from lightgbm import LGBMRegressor\n",
    "from catboost import CatBoostRegressor\n",
    "from numpy.random import RandomState"
   ]
  },
  {
   "cell_type": "code",
   "execution_count": 77,
   "metadata": {},
   "outputs": [],
   "source": [
    "pd.set_option('display.max_colwidth', None)"
   ]
  },
  {
   "cell_type": "code",
   "execution_count": 78,
   "metadata": {},
   "outputs": [],
   "source": [
    "try:\n",
    "    df = pd.read_csv('./datasets/autos.csv') \n",
    "except:\n",
    "    df = pd.read_csv('/datasets/autos.csv')"
   ]
  },
  {
   "cell_type": "code",
   "execution_count": 79,
   "metadata": {},
   "outputs": [],
   "source": [
    "START_DATA_SIZE = df.shape[0]\n",
    "RANROM_STATE = RandomState(42)\n",
    "RANDOM_STATE_FOR_CAT_BOOST = 42"
   ]
  },
  {
   "cell_type": "markdown",
   "metadata": {},
   "source": [
    "\n",
    "<div class=\"alert alert-block alert-success\">\n",
    "<b>Успех:</b> Импорты  и настройки на месте\n",
    "</div>\n",
    "\n"
   ]
  },
  {
   "cell_type": "markdown",
   "metadata": {},
   "source": [
    "## Вспомогательные функции"
   ]
  },
  {
   "cell_type": "code",
   "execution_count": 80,
   "metadata": {},
   "outputs": [],
   "source": [
    "def get_info_about_dataset(df):\n",
    "    separate_line = '+' + 100*'-' + '+'\n",
    "    print(separate_line)\n",
    "    print('Первые 5 строк датасета:')\n",
    "    display(df.head())\n",
    "    print(separate_line)\n",
    "    print('Информация о датасете:')\n",
    "    display(df.info())\n",
    "    print(separate_line)\n",
    "    print('Описательная статистика:')\n",
    "    display(df.describe())\n",
    "    print(separate_line)\n",
    "    print('Количество пропусков:')\n",
    "    info_about_mising = {\n",
    "        'Кол-во пропусков': df.isna().sum(),\n",
    "        'Процент пропусков': round(df.isna().sum()/START_DATA_SIZE * 100, 2)\n",
    "    } \n",
    "    display(pd.DataFrame(info_about_mising))\n",
    "    print(separate_line)\n",
    "    print('Количество дубликатов: ', df.duplicated().sum())\n",
    "    print(separate_line)\n",
    "    print('Корреляция Пирсона:')\n",
    "    corr_matrix = df.corr()\n",
    "    display(corr_matrix)\n",
    "    sns.heatmap(corr_matrix).set_title('Корреляция Пирсона')\n",
    "    print(separate_line)"
   ]
  },
  {
   "cell_type": "code",
   "execution_count": 81,
   "metadata": {},
   "outputs": [],
   "source": [
    "def research_feature(df, column):\n",
    "    print(f'Анализ признака {column}')\n",
    "    separate_line = '+' + 100 * '-' + '+'\n",
    "    print(separate_line)\n",
    "    print('Описательная статистика:')\n",
    "    display(df[column].describe())\n",
    "    print(separate_line)\n",
    "    print(f'Количество пропусков: {df[column].isna().sum()}')\n",
    "    print(f'Процент пропусков: {df[column].isna().sum() / START_DATA_SIZE:.2%}')\n",
    "    print(separate_line)"
   ]
  },
  {
   "cell_type": "code",
   "execution_count": 82,
   "metadata": {},
   "outputs": [],
   "source": [
    "def research_numerical_feature(df, column):\n",
    "    research_feature(df, column)\n",
    "    _, ax = plt.subplots(figsize=(20, 10))\n",
    "    ax.xaxis.grid(True)\n",
    "    sns.violinplot(\n",
    "        data=df,\n",
    "        x=column, ax=ax\n",
    "    ).set_title(f'Распределение признака {column}')"
   ]
  },
  {
   "cell_type": "code",
   "execution_count": 83,
   "metadata": {},
   "outputs": [],
   "source": [
    "def research_categorical_features(df, column):\n",
    "    research_feature(df, column)\n",
    "    _, ax = plt.subplots(figsize=(20, 10))\n",
    "    ax.xaxis.grid(True)\n",
    "    ax.set_xticklabels(ax.get_xticklabels(), rotation=90, fontdict= { 'fontsize': 12})\n",
    "    sns.countplot(\n",
    "        data=df,\n",
    "        x=column, ax=ax\n",
    "    ).set_title(f'Распределение признака {column}')"
   ]
  },
  {
   "cell_type": "code",
   "execution_count": 84,
   "metadata": {},
   "outputs": [],
   "source": [
    "def ohe(df, encoder, columns):\n",
    "    encoder_categorical = pd.DataFrame(\n",
    "        encoder.transform(df[columns]).toarray(),\n",
    "        index=df.index,\n",
    "        columns=encoder.get_feature_names()\n",
    "    )\n",
    "    df = df.join(encoder_categorical)\n",
    "    df.drop(columns, inplace=True, axis=1)\n",
    "    return df"
   ]
  },
  {
   "cell_type": "code",
   "execution_count": 85,
   "metadata": {},
   "outputs": [],
   "source": [
    "def research_model(model, params, features, target, cv=5, fit_params={}):\n",
    "    gscv = GridSearchCV(\n",
    "        model, params, cv=cv,\n",
    "        scoring='neg_root_mean_squared_error',\n",
    "        n_jobs=-1,\n",
    "        refit=False,\n",
    "        return_train_score=True,\n",
    "    )\n",
    "    gscv.fit(features, target, **fit_params)\n",
    "    return pd.DataFrame(gscv.cv_results_).sort_values(\n",
    "        by='mean_test_score', ascending=False\n",
    "    )"
   ]
  },
  {
   "cell_type": "markdown",
   "metadata": {},
   "source": [
    "\n",
    "<div class=\"alert alert-block alert-success\">\n",
    "<b>Успех:</b> Хорошие помощники\n",
    "</div>\n",
    "\n"
   ]
  },
  {
   "cell_type": "markdown",
   "metadata": {},
   "source": [
    "## Загрузка данных данных"
   ]
  },
  {
   "cell_type": "code",
   "execution_count": 86,
   "metadata": {},
   "outputs": [],
   "source": [
    "df = pd.read_csv('./datasets/autos.csv')"
   ]
  },
  {
   "cell_type": "code",
   "execution_count": 87,
   "metadata": {},
   "outputs": [],
   "source": [
    "START_DATA_SIZE = df.shape[0]"
   ]
  },
  {
   "cell_type": "markdown",
   "metadata": {},
   "source": [
    "## Исследовательский анализ и предобратботка данных"
   ]
  },
  {
   "cell_type": "code",
   "execution_count": 88,
   "metadata": {},
   "outputs": [
    {
     "name": "stdout",
     "output_type": "stream",
     "text": [
      "+----------------------------------------------------------------------------------------------------+\n",
      "Первые 5 строк датасета:\n"
     ]
    },
    {
     "data": {
      "text/html": [
       "<div>\n",
       "<style scoped>\n",
       "    .dataframe tbody tr th:only-of-type {\n",
       "        vertical-align: middle;\n",
       "    }\n",
       "\n",
       "    .dataframe tbody tr th {\n",
       "        vertical-align: top;\n",
       "    }\n",
       "\n",
       "    .dataframe thead th {\n",
       "        text-align: right;\n",
       "    }\n",
       "</style>\n",
       "<table border=\"1\" class=\"dataframe\">\n",
       "  <thead>\n",
       "    <tr style=\"text-align: right;\">\n",
       "      <th></th>\n",
       "      <th>DateCrawled</th>\n",
       "      <th>Price</th>\n",
       "      <th>VehicleType</th>\n",
       "      <th>RegistrationYear</th>\n",
       "      <th>Gearbox</th>\n",
       "      <th>Power</th>\n",
       "      <th>Model</th>\n",
       "      <th>Kilometer</th>\n",
       "      <th>RegistrationMonth</th>\n",
       "      <th>FuelType</th>\n",
       "      <th>Brand</th>\n",
       "      <th>Repaired</th>\n",
       "      <th>DateCreated</th>\n",
       "      <th>NumberOfPictures</th>\n",
       "      <th>PostalCode</th>\n",
       "      <th>LastSeen</th>\n",
       "    </tr>\n",
       "  </thead>\n",
       "  <tbody>\n",
       "    <tr>\n",
       "      <th>0</th>\n",
       "      <td>2016-03-24 11:52:17</td>\n",
       "      <td>480</td>\n",
       "      <td>NaN</td>\n",
       "      <td>1993</td>\n",
       "      <td>manual</td>\n",
       "      <td>0</td>\n",
       "      <td>golf</td>\n",
       "      <td>150000</td>\n",
       "      <td>0</td>\n",
       "      <td>petrol</td>\n",
       "      <td>volkswagen</td>\n",
       "      <td>NaN</td>\n",
       "      <td>2016-03-24 00:00:00</td>\n",
       "      <td>0</td>\n",
       "      <td>70435</td>\n",
       "      <td>2016-04-07 03:16:57</td>\n",
       "    </tr>\n",
       "    <tr>\n",
       "      <th>1</th>\n",
       "      <td>2016-03-24 10:58:45</td>\n",
       "      <td>18300</td>\n",
       "      <td>coupe</td>\n",
       "      <td>2011</td>\n",
       "      <td>manual</td>\n",
       "      <td>190</td>\n",
       "      <td>NaN</td>\n",
       "      <td>125000</td>\n",
       "      <td>5</td>\n",
       "      <td>gasoline</td>\n",
       "      <td>audi</td>\n",
       "      <td>yes</td>\n",
       "      <td>2016-03-24 00:00:00</td>\n",
       "      <td>0</td>\n",
       "      <td>66954</td>\n",
       "      <td>2016-04-07 01:46:50</td>\n",
       "    </tr>\n",
       "    <tr>\n",
       "      <th>2</th>\n",
       "      <td>2016-03-14 12:52:21</td>\n",
       "      <td>9800</td>\n",
       "      <td>suv</td>\n",
       "      <td>2004</td>\n",
       "      <td>auto</td>\n",
       "      <td>163</td>\n",
       "      <td>grand</td>\n",
       "      <td>125000</td>\n",
       "      <td>8</td>\n",
       "      <td>gasoline</td>\n",
       "      <td>jeep</td>\n",
       "      <td>NaN</td>\n",
       "      <td>2016-03-14 00:00:00</td>\n",
       "      <td>0</td>\n",
       "      <td>90480</td>\n",
       "      <td>2016-04-05 12:47:46</td>\n",
       "    </tr>\n",
       "    <tr>\n",
       "      <th>3</th>\n",
       "      <td>2016-03-17 16:54:04</td>\n",
       "      <td>1500</td>\n",
       "      <td>small</td>\n",
       "      <td>2001</td>\n",
       "      <td>manual</td>\n",
       "      <td>75</td>\n",
       "      <td>golf</td>\n",
       "      <td>150000</td>\n",
       "      <td>6</td>\n",
       "      <td>petrol</td>\n",
       "      <td>volkswagen</td>\n",
       "      <td>no</td>\n",
       "      <td>2016-03-17 00:00:00</td>\n",
       "      <td>0</td>\n",
       "      <td>91074</td>\n",
       "      <td>2016-03-17 17:40:17</td>\n",
       "    </tr>\n",
       "    <tr>\n",
       "      <th>4</th>\n",
       "      <td>2016-03-31 17:25:20</td>\n",
       "      <td>3600</td>\n",
       "      <td>small</td>\n",
       "      <td>2008</td>\n",
       "      <td>manual</td>\n",
       "      <td>69</td>\n",
       "      <td>fabia</td>\n",
       "      <td>90000</td>\n",
       "      <td>7</td>\n",
       "      <td>gasoline</td>\n",
       "      <td>skoda</td>\n",
       "      <td>no</td>\n",
       "      <td>2016-03-31 00:00:00</td>\n",
       "      <td>0</td>\n",
       "      <td>60437</td>\n",
       "      <td>2016-04-06 10:17:21</td>\n",
       "    </tr>\n",
       "  </tbody>\n",
       "</table>\n",
       "</div>"
      ],
      "text/plain": [
       "           DateCrawled  Price VehicleType  RegistrationYear Gearbox  Power  \\\n",
       "0  2016-03-24 11:52:17    480         NaN              1993  manual      0   \n",
       "1  2016-03-24 10:58:45  18300       coupe              2011  manual    190   \n",
       "2  2016-03-14 12:52:21   9800         suv              2004    auto    163   \n",
       "3  2016-03-17 16:54:04   1500       small              2001  manual     75   \n",
       "4  2016-03-31 17:25:20   3600       small              2008  manual     69   \n",
       "\n",
       "   Model  Kilometer  RegistrationMonth  FuelType       Brand Repaired  \\\n",
       "0   golf     150000                  0    petrol  volkswagen      NaN   \n",
       "1    NaN     125000                  5  gasoline        audi      yes   \n",
       "2  grand     125000                  8  gasoline        jeep      NaN   \n",
       "3   golf     150000                  6    petrol  volkswagen       no   \n",
       "4  fabia      90000                  7  gasoline       skoda       no   \n",
       "\n",
       "           DateCreated  NumberOfPictures  PostalCode             LastSeen  \n",
       "0  2016-03-24 00:00:00                 0       70435  2016-04-07 03:16:57  \n",
       "1  2016-03-24 00:00:00                 0       66954  2016-04-07 01:46:50  \n",
       "2  2016-03-14 00:00:00                 0       90480  2016-04-05 12:47:46  \n",
       "3  2016-03-17 00:00:00                 0       91074  2016-03-17 17:40:17  \n",
       "4  2016-03-31 00:00:00                 0       60437  2016-04-06 10:17:21  "
      ]
     },
     "metadata": {},
     "output_type": "display_data"
    },
    {
     "name": "stdout",
     "output_type": "stream",
     "text": [
      "+----------------------------------------------------------------------------------------------------+\n",
      "Информация о датасете:\n",
      "<class 'pandas.core.frame.DataFrame'>\n",
      "RangeIndex: 354369 entries, 0 to 354368\n",
      "Data columns (total 16 columns):\n",
      " #   Column             Non-Null Count   Dtype \n",
      "---  ------             --------------   ----- \n",
      " 0   DateCrawled        354369 non-null  object\n",
      " 1   Price              354369 non-null  int64 \n",
      " 2   VehicleType        316879 non-null  object\n",
      " 3   RegistrationYear   354369 non-null  int64 \n",
      " 4   Gearbox            334536 non-null  object\n",
      " 5   Power              354369 non-null  int64 \n",
      " 6   Model              334664 non-null  object\n",
      " 7   Kilometer          354369 non-null  int64 \n",
      " 8   RegistrationMonth  354369 non-null  int64 \n",
      " 9   FuelType           321474 non-null  object\n",
      " 10  Brand              354369 non-null  object\n",
      " 11  Repaired           283215 non-null  object\n",
      " 12  DateCreated        354369 non-null  object\n",
      " 13  NumberOfPictures   354369 non-null  int64 \n",
      " 14  PostalCode         354369 non-null  int64 \n",
      " 15  LastSeen           354369 non-null  object\n",
      "dtypes: int64(7), object(9)\n",
      "memory usage: 43.3+ MB\n"
     ]
    },
    {
     "data": {
      "text/plain": [
       "None"
      ]
     },
     "metadata": {},
     "output_type": "display_data"
    },
    {
     "name": "stdout",
     "output_type": "stream",
     "text": [
      "+----------------------------------------------------------------------------------------------------+\n",
      "Описательная статистика:\n"
     ]
    },
    {
     "data": {
      "text/html": [
       "<div>\n",
       "<style scoped>\n",
       "    .dataframe tbody tr th:only-of-type {\n",
       "        vertical-align: middle;\n",
       "    }\n",
       "\n",
       "    .dataframe tbody tr th {\n",
       "        vertical-align: top;\n",
       "    }\n",
       "\n",
       "    .dataframe thead th {\n",
       "        text-align: right;\n",
       "    }\n",
       "</style>\n",
       "<table border=\"1\" class=\"dataframe\">\n",
       "  <thead>\n",
       "    <tr style=\"text-align: right;\">\n",
       "      <th></th>\n",
       "      <th>Price</th>\n",
       "      <th>RegistrationYear</th>\n",
       "      <th>Power</th>\n",
       "      <th>Kilometer</th>\n",
       "      <th>RegistrationMonth</th>\n",
       "      <th>NumberOfPictures</th>\n",
       "      <th>PostalCode</th>\n",
       "    </tr>\n",
       "  </thead>\n",
       "  <tbody>\n",
       "    <tr>\n",
       "      <th>count</th>\n",
       "      <td>354369.000000</td>\n",
       "      <td>354369.000000</td>\n",
       "      <td>354369.000000</td>\n",
       "      <td>354369.000000</td>\n",
       "      <td>354369.000000</td>\n",
       "      <td>354369.0</td>\n",
       "      <td>354369.000000</td>\n",
       "    </tr>\n",
       "    <tr>\n",
       "      <th>mean</th>\n",
       "      <td>4416.656776</td>\n",
       "      <td>2004.234448</td>\n",
       "      <td>110.094337</td>\n",
       "      <td>128211.172535</td>\n",
       "      <td>5.714645</td>\n",
       "      <td>0.0</td>\n",
       "      <td>50508.689087</td>\n",
       "    </tr>\n",
       "    <tr>\n",
       "      <th>std</th>\n",
       "      <td>4514.158514</td>\n",
       "      <td>90.227958</td>\n",
       "      <td>189.850405</td>\n",
       "      <td>37905.341530</td>\n",
       "      <td>3.726421</td>\n",
       "      <td>0.0</td>\n",
       "      <td>25783.096248</td>\n",
       "    </tr>\n",
       "    <tr>\n",
       "      <th>min</th>\n",
       "      <td>0.000000</td>\n",
       "      <td>1000.000000</td>\n",
       "      <td>0.000000</td>\n",
       "      <td>5000.000000</td>\n",
       "      <td>0.000000</td>\n",
       "      <td>0.0</td>\n",
       "      <td>1067.000000</td>\n",
       "    </tr>\n",
       "    <tr>\n",
       "      <th>25%</th>\n",
       "      <td>1050.000000</td>\n",
       "      <td>1999.000000</td>\n",
       "      <td>69.000000</td>\n",
       "      <td>125000.000000</td>\n",
       "      <td>3.000000</td>\n",
       "      <td>0.0</td>\n",
       "      <td>30165.000000</td>\n",
       "    </tr>\n",
       "    <tr>\n",
       "      <th>50%</th>\n",
       "      <td>2700.000000</td>\n",
       "      <td>2003.000000</td>\n",
       "      <td>105.000000</td>\n",
       "      <td>150000.000000</td>\n",
       "      <td>6.000000</td>\n",
       "      <td>0.0</td>\n",
       "      <td>49413.000000</td>\n",
       "    </tr>\n",
       "    <tr>\n",
       "      <th>75%</th>\n",
       "      <td>6400.000000</td>\n",
       "      <td>2008.000000</td>\n",
       "      <td>143.000000</td>\n",
       "      <td>150000.000000</td>\n",
       "      <td>9.000000</td>\n",
       "      <td>0.0</td>\n",
       "      <td>71083.000000</td>\n",
       "    </tr>\n",
       "    <tr>\n",
       "      <th>max</th>\n",
       "      <td>20000.000000</td>\n",
       "      <td>9999.000000</td>\n",
       "      <td>20000.000000</td>\n",
       "      <td>150000.000000</td>\n",
       "      <td>12.000000</td>\n",
       "      <td>0.0</td>\n",
       "      <td>99998.000000</td>\n",
       "    </tr>\n",
       "  </tbody>\n",
       "</table>\n",
       "</div>"
      ],
      "text/plain": [
       "               Price  RegistrationYear          Power      Kilometer  \\\n",
       "count  354369.000000     354369.000000  354369.000000  354369.000000   \n",
       "mean     4416.656776       2004.234448     110.094337  128211.172535   \n",
       "std      4514.158514         90.227958     189.850405   37905.341530   \n",
       "min         0.000000       1000.000000       0.000000    5000.000000   \n",
       "25%      1050.000000       1999.000000      69.000000  125000.000000   \n",
       "50%      2700.000000       2003.000000     105.000000  150000.000000   \n",
       "75%      6400.000000       2008.000000     143.000000  150000.000000   \n",
       "max     20000.000000       9999.000000   20000.000000  150000.000000   \n",
       "\n",
       "       RegistrationMonth  NumberOfPictures     PostalCode  \n",
       "count      354369.000000          354369.0  354369.000000  \n",
       "mean            5.714645               0.0   50508.689087  \n",
       "std             3.726421               0.0   25783.096248  \n",
       "min             0.000000               0.0    1067.000000  \n",
       "25%             3.000000               0.0   30165.000000  \n",
       "50%             6.000000               0.0   49413.000000  \n",
       "75%             9.000000               0.0   71083.000000  \n",
       "max            12.000000               0.0   99998.000000  "
      ]
     },
     "metadata": {},
     "output_type": "display_data"
    },
    {
     "name": "stdout",
     "output_type": "stream",
     "text": [
      "+----------------------------------------------------------------------------------------------------+\n",
      "Количество пропусков:\n"
     ]
    },
    {
     "data": {
      "text/html": [
       "<div>\n",
       "<style scoped>\n",
       "    .dataframe tbody tr th:only-of-type {\n",
       "        vertical-align: middle;\n",
       "    }\n",
       "\n",
       "    .dataframe tbody tr th {\n",
       "        vertical-align: top;\n",
       "    }\n",
       "\n",
       "    .dataframe thead th {\n",
       "        text-align: right;\n",
       "    }\n",
       "</style>\n",
       "<table border=\"1\" class=\"dataframe\">\n",
       "  <thead>\n",
       "    <tr style=\"text-align: right;\">\n",
       "      <th></th>\n",
       "      <th>Кол-во пропусков</th>\n",
       "      <th>Процент пропусков</th>\n",
       "    </tr>\n",
       "  </thead>\n",
       "  <tbody>\n",
       "    <tr>\n",
       "      <th>DateCrawled</th>\n",
       "      <td>0</td>\n",
       "      <td>0.00</td>\n",
       "    </tr>\n",
       "    <tr>\n",
       "      <th>Price</th>\n",
       "      <td>0</td>\n",
       "      <td>0.00</td>\n",
       "    </tr>\n",
       "    <tr>\n",
       "      <th>VehicleType</th>\n",
       "      <td>37490</td>\n",
       "      <td>10.58</td>\n",
       "    </tr>\n",
       "    <tr>\n",
       "      <th>RegistrationYear</th>\n",
       "      <td>0</td>\n",
       "      <td>0.00</td>\n",
       "    </tr>\n",
       "    <tr>\n",
       "      <th>Gearbox</th>\n",
       "      <td>19833</td>\n",
       "      <td>5.60</td>\n",
       "    </tr>\n",
       "    <tr>\n",
       "      <th>Power</th>\n",
       "      <td>0</td>\n",
       "      <td>0.00</td>\n",
       "    </tr>\n",
       "    <tr>\n",
       "      <th>Model</th>\n",
       "      <td>19705</td>\n",
       "      <td>5.56</td>\n",
       "    </tr>\n",
       "    <tr>\n",
       "      <th>Kilometer</th>\n",
       "      <td>0</td>\n",
       "      <td>0.00</td>\n",
       "    </tr>\n",
       "    <tr>\n",
       "      <th>RegistrationMonth</th>\n",
       "      <td>0</td>\n",
       "      <td>0.00</td>\n",
       "    </tr>\n",
       "    <tr>\n",
       "      <th>FuelType</th>\n",
       "      <td>32895</td>\n",
       "      <td>9.28</td>\n",
       "    </tr>\n",
       "    <tr>\n",
       "      <th>Brand</th>\n",
       "      <td>0</td>\n",
       "      <td>0.00</td>\n",
       "    </tr>\n",
       "    <tr>\n",
       "      <th>Repaired</th>\n",
       "      <td>71154</td>\n",
       "      <td>20.08</td>\n",
       "    </tr>\n",
       "    <tr>\n",
       "      <th>DateCreated</th>\n",
       "      <td>0</td>\n",
       "      <td>0.00</td>\n",
       "    </tr>\n",
       "    <tr>\n",
       "      <th>NumberOfPictures</th>\n",
       "      <td>0</td>\n",
       "      <td>0.00</td>\n",
       "    </tr>\n",
       "    <tr>\n",
       "      <th>PostalCode</th>\n",
       "      <td>0</td>\n",
       "      <td>0.00</td>\n",
       "    </tr>\n",
       "    <tr>\n",
       "      <th>LastSeen</th>\n",
       "      <td>0</td>\n",
       "      <td>0.00</td>\n",
       "    </tr>\n",
       "  </tbody>\n",
       "</table>\n",
       "</div>"
      ],
      "text/plain": [
       "                   Кол-во пропусков  Процент пропусков\n",
       "DateCrawled                       0               0.00\n",
       "Price                             0               0.00\n",
       "VehicleType                   37490              10.58\n",
       "RegistrationYear                  0               0.00\n",
       "Gearbox                       19833               5.60\n",
       "Power                             0               0.00\n",
       "Model                         19705               5.56\n",
       "Kilometer                         0               0.00\n",
       "RegistrationMonth                 0               0.00\n",
       "FuelType                      32895               9.28\n",
       "Brand                             0               0.00\n",
       "Repaired                      71154              20.08\n",
       "DateCreated                       0               0.00\n",
       "NumberOfPictures                  0               0.00\n",
       "PostalCode                        0               0.00\n",
       "LastSeen                          0               0.00"
      ]
     },
     "metadata": {},
     "output_type": "display_data"
    },
    {
     "name": "stdout",
     "output_type": "stream",
     "text": [
      "+----------------------------------------------------------------------------------------------------+\n",
      "Количество дубликатов:  4\n",
      "+----------------------------------------------------------------------------------------------------+\n",
      "Корреляция Пирсона:\n"
     ]
    },
    {
     "data": {
      "text/html": [
       "<div>\n",
       "<style scoped>\n",
       "    .dataframe tbody tr th:only-of-type {\n",
       "        vertical-align: middle;\n",
       "    }\n",
       "\n",
       "    .dataframe tbody tr th {\n",
       "        vertical-align: top;\n",
       "    }\n",
       "\n",
       "    .dataframe thead th {\n",
       "        text-align: right;\n",
       "    }\n",
       "</style>\n",
       "<table border=\"1\" class=\"dataframe\">\n",
       "  <thead>\n",
       "    <tr style=\"text-align: right;\">\n",
       "      <th></th>\n",
       "      <th>Price</th>\n",
       "      <th>RegistrationYear</th>\n",
       "      <th>Power</th>\n",
       "      <th>Kilometer</th>\n",
       "      <th>RegistrationMonth</th>\n",
       "      <th>NumberOfPictures</th>\n",
       "      <th>PostalCode</th>\n",
       "    </tr>\n",
       "  </thead>\n",
       "  <tbody>\n",
       "    <tr>\n",
       "      <th>Price</th>\n",
       "      <td>1.000000</td>\n",
       "      <td>0.026916</td>\n",
       "      <td>0.158872</td>\n",
       "      <td>-0.333199</td>\n",
       "      <td>0.110581</td>\n",
       "      <td>NaN</td>\n",
       "      <td>0.076055</td>\n",
       "    </tr>\n",
       "    <tr>\n",
       "      <th>RegistrationYear</th>\n",
       "      <td>0.026916</td>\n",
       "      <td>1.000000</td>\n",
       "      <td>-0.000828</td>\n",
       "      <td>-0.053447</td>\n",
       "      <td>-0.011619</td>\n",
       "      <td>NaN</td>\n",
       "      <td>-0.003459</td>\n",
       "    </tr>\n",
       "    <tr>\n",
       "      <th>Power</th>\n",
       "      <td>0.158872</td>\n",
       "      <td>-0.000828</td>\n",
       "      <td>1.000000</td>\n",
       "      <td>0.024002</td>\n",
       "      <td>0.043380</td>\n",
       "      <td>NaN</td>\n",
       "      <td>0.021665</td>\n",
       "    </tr>\n",
       "    <tr>\n",
       "      <th>Kilometer</th>\n",
       "      <td>-0.333199</td>\n",
       "      <td>-0.053447</td>\n",
       "      <td>0.024002</td>\n",
       "      <td>1.000000</td>\n",
       "      <td>0.009571</td>\n",
       "      <td>NaN</td>\n",
       "      <td>-0.007698</td>\n",
       "    </tr>\n",
       "    <tr>\n",
       "      <th>RegistrationMonth</th>\n",
       "      <td>0.110581</td>\n",
       "      <td>-0.011619</td>\n",
       "      <td>0.043380</td>\n",
       "      <td>0.009571</td>\n",
       "      <td>1.000000</td>\n",
       "      <td>NaN</td>\n",
       "      <td>0.013995</td>\n",
       "    </tr>\n",
       "    <tr>\n",
       "      <th>NumberOfPictures</th>\n",
       "      <td>NaN</td>\n",
       "      <td>NaN</td>\n",
       "      <td>NaN</td>\n",
       "      <td>NaN</td>\n",
       "      <td>NaN</td>\n",
       "      <td>NaN</td>\n",
       "      <td>NaN</td>\n",
       "    </tr>\n",
       "    <tr>\n",
       "      <th>PostalCode</th>\n",
       "      <td>0.076055</td>\n",
       "      <td>-0.003459</td>\n",
       "      <td>0.021665</td>\n",
       "      <td>-0.007698</td>\n",
       "      <td>0.013995</td>\n",
       "      <td>NaN</td>\n",
       "      <td>1.000000</td>\n",
       "    </tr>\n",
       "  </tbody>\n",
       "</table>\n",
       "</div>"
      ],
      "text/plain": [
       "                      Price  RegistrationYear     Power  Kilometer  \\\n",
       "Price              1.000000          0.026916  0.158872  -0.333199   \n",
       "RegistrationYear   0.026916          1.000000 -0.000828  -0.053447   \n",
       "Power              0.158872         -0.000828  1.000000   0.024002   \n",
       "Kilometer         -0.333199         -0.053447  0.024002   1.000000   \n",
       "RegistrationMonth  0.110581         -0.011619  0.043380   0.009571   \n",
       "NumberOfPictures        NaN               NaN       NaN        NaN   \n",
       "PostalCode         0.076055         -0.003459  0.021665  -0.007698   \n",
       "\n",
       "                   RegistrationMonth  NumberOfPictures  PostalCode  \n",
       "Price                       0.110581               NaN    0.076055  \n",
       "RegistrationYear           -0.011619               NaN   -0.003459  \n",
       "Power                       0.043380               NaN    0.021665  \n",
       "Kilometer                   0.009571               NaN   -0.007698  \n",
       "RegistrationMonth           1.000000               NaN    0.013995  \n",
       "NumberOfPictures                 NaN               NaN         NaN  \n",
       "PostalCode                  0.013995               NaN    1.000000  "
      ]
     },
     "metadata": {},
     "output_type": "display_data"
    },
    {
     "name": "stdout",
     "output_type": "stream",
     "text": [
      "+----------------------------------------------------------------------------------------------------+\n"
     ]
    },
    {
     "data": {
      "image/png": "[encoded data removed]",
      "text/plain": [
       "<Figure size 640x480 with 2 Axes>"
      ]
     },
     "metadata": {},
     "output_type": "display_data"
    }
   ],
   "source": [
    "get_info_about_dataset(df)"
   ]
  },
  {
   "cell_type": "markdown",
   "metadata": {},
   "source": [
    "Перед анализом признаков исключим из датасета следующие признаки:  \n",
    "* `DateCrawled ` - дата скачивания анкеты из базы  \n",
    "* `RegistrationMonth` - месяц регистрации автомобиля  \n",
    "* `DateCreated` - дата создания анкеты. Так как в рамках данного проекта не будет учитываться инфляция цен  \n",
    "* `PostalCode` - почтовый индекс владельца анкеты (пользователя)  \n",
    "* `LastSeen` - дата последней активности пользователя"
   ]
  },
  {
   "cell_type": "markdown",
   "metadata": {},
   "source": [
    "### Признак Brand - марка автомобиля"
   ]
  },
  {
   "cell_type": "code",
   "execution_count": 89,
   "metadata": {},
   "outputs": [
    {
     "name": "stdout",
     "output_type": "stream",
     "text": [
      "Анализ признака Brand\n",
      "+----------------------------------------------------------------------------------------------------+\n",
      "Описательная статистика:\n"
     ]
    },
    {
     "data": {
      "text/plain": [
       "count         354369\n",
       "unique            40\n",
       "top       volkswagen\n",
       "freq           77013\n",
       "Name: Brand, dtype: object"
      ]
     },
     "metadata": {},
     "output_type": "display_data"
    },
    {
     "name": "stdout",
     "output_type": "stream",
     "text": [
      "+----------------------------------------------------------------------------------------------------+\n",
      "Количество пропусков: 0\n",
      "Процент пропусков: 0.00%\n",
      "+----------------------------------------------------------------------------------------------------+\n"
     ]
    },
    {
     "name": "stderr",
     "output_type": "stream",
     "text": [
      "C:\\Users\\Alexander\\AppData\\Local\\Temp\\ipykernel_12824\\3896368005.py:5: UserWarning: set_ticklabels() should only be used with a fixed number of ticks, i.e. after set_ticks() or using a FixedLocator.\n",
      "  ax.set_xticklabels(ax.get_xticklabels(), rotation=90, fontdict= { 'fontsize': 12})\n"
     ]
    },
    {
     "data": {
      "image/png": "[encoded data removed]",
      "text/plain": [
       "<Figure size 2000x1000 with 1 Axes>"
      ]
     },
     "metadata": {},
     "output_type": "display_data"
    }
   ],
   "source": [
    "research_categorical_features(df, 'Brand')"
   ]
  },
  {
   "cell_type": "markdown",
   "metadata": {},
   "source": [
    "В столбце нет пропусков. Предобработка не требуется"
   ]
  },
  {
   "cell_type": "markdown",
   "metadata": {},
   "source": [
    "### Признак Model -  модель автомобиля"
   ]
  },
  {
   "cell_type": "code",
   "execution_count": 90,
   "metadata": {},
   "outputs": [
    {
     "name": "stdout",
     "output_type": "stream",
     "text": [
      "Анализ признака Model\n",
      "+----------------------------------------------------------------------------------------------------+\n",
      "Описательная статистика:\n"
     ]
    },
    {
     "data": {
      "text/plain": [
       "count     334664\n",
       "unique       250\n",
       "top         golf\n",
       "freq       29232\n",
       "Name: Model, dtype: object"
      ]
     },
     "metadata": {},
     "output_type": "display_data"
    },
    {
     "name": "stdout",
     "output_type": "stream",
     "text": [
      "+----------------------------------------------------------------------------------------------------+\n",
      "Количество пропусков: 19705\n",
      "Процент пропусков: 5.56%\n",
      "+----------------------------------------------------------------------------------------------------+\n"
     ]
    },
    {
     "name": "stderr",
     "output_type": "stream",
     "text": [
      "C:\\Users\\Alexander\\AppData\\Local\\Temp\\ipykernel_12824\\3896368005.py:5: UserWarning: set_ticklabels() should only be used with a fixed number of ticks, i.e. after set_ticks() or using a FixedLocator.\n",
      "  ax.set_xticklabels(ax.get_xticklabels(), rotation=90, fontdict= { 'fontsize': 12})\n"
     ]
    },
    {
     "data": {
      "image/png": "[encoded data removed]",
      "text/plain": [
       "<Figure size 2000x1000 with 1 Axes>"
      ]
     },
     "metadata": {},
     "output_type": "display_data"
    }
   ],
   "source": [
    "research_categorical_features(df, 'Model')"
   ]
  },
  {
   "cell_type": "markdown",
   "metadata": {},
   "source": [
    "Данный признак содержит пропуски. Достоверно восстановить модель по имеющимся данным не возможно. Поэтому заполним пропуски значением `unknown`"
   ]
  },
  {
   "cell_type": "code",
   "execution_count": 91,
   "metadata": {},
   "outputs": [],
   "source": [
    "df['Model'] = df['Model'].fillna('unknown')"
   ]
  },
  {
   "cell_type": "code",
   "execution_count": 92,
   "metadata": {},
   "outputs": [
    {
     "data": {
      "text/plain": [
       "0"
      ]
     },
     "execution_count": 92,
     "metadata": {},
     "output_type": "execute_result"
    }
   ],
   "source": [
    "df['Model'].isna().sum()"
   ]
  },
  {
   "cell_type": "markdown",
   "metadata": {},
   "source": [
    "Пропусков в столбце не остлоась"
   ]
  },
  {
   "cell_type": "markdown",
   "metadata": {},
   "source": [
    "### VehicleType — тип автомобильного кузова"
   ]
  },
  {
   "cell_type": "code",
   "execution_count": 93,
   "metadata": {},
   "outputs": [
    {
     "name": "stdout",
     "output_type": "stream",
     "text": [
      "Анализ признака VehicleType\n",
      "+----------------------------------------------------------------------------------------------------+\n",
      "Описательная статистика:\n"
     ]
    },
    {
     "data": {
      "text/plain": [
       "count     316879\n",
       "unique         8\n",
       "top        sedan\n",
       "freq       91457\n",
       "Name: VehicleType, dtype: object"
      ]
     },
     "metadata": {},
     "output_type": "display_data"
    },
    {
     "name": "stdout",
     "output_type": "stream",
     "text": [
      "+----------------------------------------------------------------------------------------------------+\n",
      "Количество пропусков: 37490\n",
      "Процент пропусков: 10.58%\n",
      "+----------------------------------------------------------------------------------------------------+\n"
     ]
    },
    {
     "name": "stderr",
     "output_type": "stream",
     "text": [
      "C:\\Users\\Alexander\\AppData\\Local\\Temp\\ipykernel_12824\\3896368005.py:5: UserWarning: set_ticklabels() should only be used with a fixed number of ticks, i.e. after set_ticks() or using a FixedLocator.\n",
      "  ax.set_xticklabels(ax.get_xticklabels(), rotation=90, fontdict= { 'fontsize': 12})\n"
     ]
    },
    {
     "data": {
      "image/png": "[encoded data removed]",
      "text/plain": [
       "<Figure size 2000x1000 with 1 Axes>"
      ]
     },
     "metadata": {},
     "output_type": "display_data"
    }
   ],
   "source": [
    "research_categorical_features(df, 'VehicleType')"
   ]
  },
  {
   "cell_type": "markdown",
   "metadata": {},
   "source": [
    "В столбце `10.58%` значени пропущено. Слишком большой процент данных пропущен, чтобы удалять пропуски. Заполним пропуски следующим образом:\n",
    "1. Сгруппируем данные по марке и модели.  \n",
    "2. Посчитаем частоту, с которой встречаются типы кузовов в каждой группе.  \n",
    "3. Выберем самый частовстречающийся тип кузова."
   ]
  },
  {
   "cell_type": "code",
   "execution_count": 94,
   "metadata": {},
   "outputs": [],
   "source": [
    "vehicle_type = (\n",
    "    df\n",
    "    .pivot_table(\n",
    "        index=['Brand', 'Model'],\n",
    "        values='VehicleType',\n",
    "        aggfunc=lambda x: x.value_counts().index[0])\n",
    "    )"
   ]
  },
  {
   "cell_type": "code",
   "execution_count": 95,
   "metadata": {},
   "outputs": [],
   "source": [
    "def fix_vehicle_type(row, table_vehicle_type):\n",
    "    return table_vehicle_type.loc[row['Brand'], row['Model']]"
   ]
  },
  {
   "cell_type": "code",
   "execution_count": 96,
   "metadata": {},
   "outputs": [],
   "source": [
    "df.loc[df['VehicleType'].isna(), 'VehicleType'] = df.loc[\n",
    "    df['VehicleType'].isna()\n",
    "].apply(fix_vehicle_type, axis=1, table_vehicle_type=vehicle_type)"
   ]
  },
  {
   "cell_type": "code",
   "execution_count": 97,
   "metadata": {},
   "outputs": [
    {
     "data": {
      "text/plain": [
       "0"
      ]
     },
     "execution_count": 97,
     "metadata": {},
     "output_type": "execute_result"
    }
   ],
   "source": [
    "df['VehicleType'].isna().sum()"
   ]
  },
  {
   "cell_type": "markdown",
   "metadata": {},
   "source": [
    "В столбце не осталось пропусков"
   ]
  },
  {
   "cell_type": "markdown",
   "metadata": {},
   "source": [
    "### Признак Gearbox — тип коробки передач"
   ]
  },
  {
   "cell_type": "code",
   "execution_count": 98,
   "metadata": {},
   "outputs": [
    {
     "name": "stdout",
     "output_type": "stream",
     "text": [
      "Анализ признака Gearbox\n",
      "+----------------------------------------------------------------------------------------------------+\n",
      "Описательная статистика:\n"
     ]
    },
    {
     "data": {
      "text/plain": [
       "count     334536\n",
       "unique         2\n",
       "top       manual\n",
       "freq      268251\n",
       "Name: Gearbox, dtype: object"
      ]
     },
     "metadata": {},
     "output_type": "display_data"
    },
    {
     "name": "stdout",
     "output_type": "stream",
     "text": [
      "+----------------------------------------------------------------------------------------------------+\n",
      "Количество пропусков: 19833\n",
      "Процент пропусков: 5.60%\n",
      "+----------------------------------------------------------------------------------------------------+\n"
     ]
    },
    {
     "name": "stderr",
     "output_type": "stream",
     "text": [
      "C:\\Users\\Alexander\\AppData\\Local\\Temp\\ipykernel_12824\\3896368005.py:5: UserWarning: set_ticklabels() should only be used with a fixed number of ticks, i.e. after set_ticks() or using a FixedLocator.\n",
      "  ax.set_xticklabels(ax.get_xticklabels(), rotation=90, fontdict= { 'fontsize': 12})\n"
     ]
    },
    {
     "data": {
      "image/png": "[encoded data removed]",
      "text/plain": [
       "<Figure size 2000x1000 with 1 Axes>"
      ]
     },
     "metadata": {},
     "output_type": "display_data"
    }
   ],
   "source": [
    "research_categorical_features(df, 'Gearbox')"
   ]
  },
  {
   "cell_type": "markdown",
   "metadata": {},
   "source": [
    "В стобце `5.60%` пропусков. Восстановим пропуски по той же схеме, как делали со столбуом `VehicleType`"
   ]
  },
  {
   "cell_type": "code",
   "execution_count": 99,
   "metadata": {},
   "outputs": [],
   "source": [
    "gearbox_type = (\n",
    "    df\n",
    "    .pivot_table(\n",
    "        index=['Brand', 'Model'],\n",
    "        values='Gearbox',\n",
    "        aggfunc=lambda x: x.value_counts().index[0])\n",
    "    )"
   ]
  },
  {
   "cell_type": "code",
   "execution_count": 100,
   "metadata": {},
   "outputs": [],
   "source": [
    "def fix_gearbox(row, table_vehicle_type):\n",
    "    return table_vehicle_type.loc[row['Brand'], row['Model']]"
   ]
  },
  {
   "cell_type": "code",
   "execution_count": 101,
   "metadata": {},
   "outputs": [],
   "source": [
    "df.loc[df['Gearbox'].isna(), 'Gearbox'] = df.loc[\n",
    "    df['Gearbox'].isna()\n",
    "].apply(fix_gearbox, axis=1, table_vehicle_type=gearbox_type)"
   ]
  },
  {
   "cell_type": "code",
   "execution_count": 102,
   "metadata": {},
   "outputs": [
    {
     "data": {
      "text/plain": [
       "0"
      ]
     },
     "execution_count": 102,
     "metadata": {},
     "output_type": "execute_result"
    }
   ],
   "source": [
    "df['Gearbox'].isna().sum()"
   ]
  },
  {
   "cell_type": "markdown",
   "metadata": {},
   "source": [
    "В столбце не осталось пропусков"
   ]
  },
  {
   "cell_type": "markdown",
   "metadata": {},
   "source": [
    "Есть всего 2 типа коробки передач. Поэтому можно заменить значения в столбцах на 0 и 1:\n",
    "* manual = 1\n",
    "* auto = 0"
   ]
  },
  {
   "cell_type": "code",
   "execution_count": 103,
   "metadata": {},
   "outputs": [],
   "source": [
    "df['Gearbox'] = df['Gearbox'].apply(lambda x: 1 if x == 'manual' else 0)"
   ]
  },
  {
   "cell_type": "code",
   "execution_count": 104,
   "metadata": {},
   "outputs": [],
   "source": [
    "df['Gearbox'] = df['Gearbox'].astype('int32')"
   ]
  },
  {
   "cell_type": "markdown",
   "metadata": {},
   "source": [
    "### Признак FuelType - тип топлива"
   ]
  },
  {
   "cell_type": "code",
   "execution_count": 105,
   "metadata": {},
   "outputs": [
    {
     "name": "stdout",
     "output_type": "stream",
     "text": [
      "Анализ признака FuelType\n",
      "+----------------------------------------------------------------------------------------------------+\n",
      "Описательная статистика:\n"
     ]
    },
    {
     "data": {
      "text/plain": [
       "count     321474\n",
       "unique         7\n",
       "top       petrol\n",
       "freq      216352\n",
       "Name: FuelType, dtype: object"
      ]
     },
     "metadata": {},
     "output_type": "display_data"
    },
    {
     "name": "stdout",
     "output_type": "stream",
     "text": [
      "+----------------------------------------------------------------------------------------------------+\n",
      "Количество пропусков: 32895\n",
      "Процент пропусков: 9.28%\n",
      "+----------------------------------------------------------------------------------------------------+\n"
     ]
    },
    {
     "name": "stderr",
     "output_type": "stream",
     "text": [
      "C:\\Users\\Alexander\\AppData\\Local\\Temp\\ipykernel_12824\\3896368005.py:5: UserWarning: set_ticklabels() should only be used with a fixed number of ticks, i.e. after set_ticks() or using a FixedLocator.\n",
      "  ax.set_xticklabels(ax.get_xticklabels(), rotation=90, fontdict= { 'fontsize': 12})\n"
     ]
    },
    {
     "data": {
      "image/png": "[encoded data removed]",
      "text/plain": [
       "<Figure size 2000x1000 with 1 Axes>"
      ]
     },
     "metadata": {},
     "output_type": "display_data"
    }
   ],
   "source": [
    "research_categorical_features(df, 'FuelType')"
   ]
  },
  {
   "cell_type": "markdown",
   "metadata": {},
   "source": [
    "В столбце `9.28%` процентов пропусков. В столбце сильно преобладает значение `petrol`. Заполним пропуски этим значением"
   ]
  },
  {
   "cell_type": "code",
   "execution_count": 106,
   "metadata": {},
   "outputs": [],
   "source": [
    "df.fillna({'FuelType': 'petrol'}, inplace=True)"
   ]
  },
  {
   "cell_type": "code",
   "execution_count": 107,
   "metadata": {},
   "outputs": [
    {
     "data": {
      "text/plain": [
       "0"
      ]
     },
     "execution_count": 107,
     "metadata": {},
     "output_type": "execute_result"
    }
   ],
   "source": [
    "df['FuelType'].isna().sum()"
   ]
  },
  {
   "cell_type": "markdown",
   "metadata": {},
   "source": [
    "В столбце не осталось пропусков"
   ]
  },
  {
   "cell_type": "markdown",
   "metadata": {},
   "source": [
    "### Признак Repaired — была машина в ремонте или нет"
   ]
  },
  {
   "cell_type": "code",
   "execution_count": 108,
   "metadata": {},
   "outputs": [
    {
     "name": "stdout",
     "output_type": "stream",
     "text": [
      "Анализ признака Repaired\n",
      "+----------------------------------------------------------------------------------------------------+\n",
      "Описательная статистика:\n"
     ]
    },
    {
     "data": {
      "text/plain": [
       "count     283215\n",
       "unique         2\n",
       "top           no\n",
       "freq      247161\n",
       "Name: Repaired, dtype: object"
      ]
     },
     "metadata": {},
     "output_type": "display_data"
    },
    {
     "name": "stdout",
     "output_type": "stream",
     "text": [
      "+----------------------------------------------------------------------------------------------------+\n",
      "Количество пропусков: 71154\n",
      "Процент пропусков: 20.08%\n",
      "+----------------------------------------------------------------------------------------------------+\n"
     ]
    },
    {
     "name": "stderr",
     "output_type": "stream",
     "text": [
      "C:\\Users\\Alexander\\AppData\\Local\\Temp\\ipykernel_12824\\3896368005.py:5: UserWarning: set_ticklabels() should only be used with a fixed number of ticks, i.e. after set_ticks() or using a FixedLocator.\n",
      "  ax.set_xticklabels(ax.get_xticklabels(), rotation=90, fontdict= { 'fontsize': 12})\n"
     ]
    },
    {
     "data": {
      "image/png": "[encoded data removed]",
      "text/plain": [
       "<Figure size 2000x1000 with 1 Axes>"
      ]
     },
     "metadata": {},
     "output_type": "display_data"
    }
   ],
   "source": [
    "research_categorical_features(df, 'Repaired')"
   ]
  },
  {
   "cell_type": "markdown",
   "metadata": {},
   "source": [
    "Признак содержит `18.25%` пропусков. Удалять такое количество данных нельзя. Заполним пропуски значением no, так как:\n",
    "1. Данное значение преобладает в столбце  \n",
    "2. Если автомобиль не был в ремонте, то человек, скорее всего, просто не заполнял это поле"
   ]
  },
  {
   "cell_type": "code",
   "execution_count": 109,
   "metadata": {},
   "outputs": [],
   "source": [
    "df.fillna({'Repaired': 'no'}, inplace=True)"
   ]
  },
  {
   "cell_type": "code",
   "execution_count": 110,
   "metadata": {},
   "outputs": [
    {
     "data": {
      "text/plain": [
       "0"
      ]
     },
     "execution_count": 110,
     "metadata": {},
     "output_type": "execute_result"
    }
   ],
   "source": [
    "df['Repaired'].isna().sum()"
   ]
  },
  {
   "cell_type": "markdown",
   "metadata": {},
   "source": [
    "В столбце не осталось пропусков"
   ]
  },
  {
   "cell_type": "markdown",
   "metadata": {},
   "source": [
    "Признак содержит только 2 значение. Поэтому можно заменить значения в столбцах на 0 и 1:\n",
    "* yes = 1\n",
    "* no = 0"
   ]
  },
  {
   "cell_type": "code",
   "execution_count": 111,
   "metadata": {},
   "outputs": [],
   "source": [
    "df['Repaired'] = df['Repaired'].apply(lambda x: 1 if x == 'yes' else 0)"
   ]
  },
  {
   "cell_type": "code",
   "execution_count": 112,
   "metadata": {},
   "outputs": [],
   "source": [
    "df['Repaired'] = df['Repaired'].astype('int32')"
   ]
  },
  {
   "cell_type": "markdown",
   "metadata": {},
   "source": [
    "<div class=\"alert alert-block alert-success\">\n",
    "<b>Успех:</b>  Пропуски обработаны хорошим образом\n",
    "</div>\n",
    "\n",
    "\n",
    "<div class=\"alert alert-block alert-info\">\n",
    "<b>Совет:</b> У fuel_type есть категории, которые означают одно и тоже - их можно объединить, либо подумать может они действительно означают, что-то разное.\n",
    "</div>\n",
    "\n"
   ]
  },
  {
   "cell_type": "markdown",
   "metadata": {},
   "source": [
    "### Признак RegistrationYear - год регистрации автомобиля "
   ]
  },
  {
   "cell_type": "code",
   "execution_count": 113,
   "metadata": {},
   "outputs": [
    {
     "name": "stdout",
     "output_type": "stream",
     "text": [
      "Анализ признака RegistrationYear\n",
      "+----------------------------------------------------------------------------------------------------+\n",
      "Описательная статистика:\n"
     ]
    },
    {
     "data": {
      "text/plain": [
       "count    354369.000000\n",
       "mean       2004.234448\n",
       "std          90.227958\n",
       "min        1000.000000\n",
       "25%        1999.000000\n",
       "50%        2003.000000\n",
       "75%        2008.000000\n",
       "max        9999.000000\n",
       "Name: RegistrationYear, dtype: float64"
      ]
     },
     "metadata": {},
     "output_type": "display_data"
    },
    {
     "name": "stdout",
     "output_type": "stream",
     "text": [
      "+----------------------------------------------------------------------------------------------------+\n",
      "Количество пропусков: 0\n",
      "Процент пропусков: 0.00%\n",
      "+----------------------------------------------------------------------------------------------------+\n"
     ]
    },
    {
     "data": {
      "image/png": "[encoded data removed]",
      "text/plain": [
       "<Figure size 2000x1000 with 1 Axes>"
      ]
     },
     "metadata": {},
     "output_type": "display_data"
    }
   ],
   "source": [
    "research_numerical_feature(df, 'RegistrationYear')"
   ]
  },
  {
   "cell_type": "markdown",
   "metadata": {},
   "source": [
    "Признак не имеет пропусков. Однако содержит аномальные значения:  \n",
    "* Минимальный год регистрации - 1000  \n",
    "* Максимальный год регистрации - 9999  "
   ]
  },
  {
   "cell_type": "code",
   "execution_count": 114,
   "metadata": {},
   "outputs": [
    {
     "name": "stdout",
     "output_type": "stream",
     "text": [
      "Самый поздний год регистрации анкеты: 2016\n"
     ]
    }
   ],
   "source": [
    "df['DateCreated'] = pd.to_datetime(\n",
    "    df['DateCreated'], format='%Y-%m-%d'\n",
    ")\n",
    "max_year_created = df['DateCreated'].dt.year.max()\n",
    "print(f'Самый поздний год регистрации анкеты: {max_year_created}')"
   ]
  },
  {
   "cell_type": "markdown",
   "metadata": {},
   "source": [
    "Исключим из датасета анкеты, имеющие год регистрации до 1950 и после 2016"
   ]
  },
  {
   "cell_type": "code",
   "execution_count": 115,
   "metadata": {},
   "outputs": [],
   "source": [
    "df = df.query('1950 <= RegistrationYear <= 2016')"
   ]
  },
  {
   "cell_type": "markdown",
   "metadata": {},
   "source": [
    "\n",
    "\n",
    "<div class=\"alert alert-block alert-success\">\n",
    "<b>Успех:</b> С границами согласен\n",
    "</div>\n"
   ]
  },
  {
   "cell_type": "code",
   "execution_count": 116,
   "metadata": {},
   "outputs": [
    {
     "name": "stdout",
     "output_type": "stream",
     "text": [
      "В датасете осталось 95.83% данных\n"
     ]
    }
   ],
   "source": [
    "print(f'В датасете осталось {df.shape[0] / START_DATA_SIZE:.2%} данных')"
   ]
  },
  {
   "cell_type": "markdown",
   "metadata": {},
   "source": [
    "Вместо данного признака будем использовать признак - возраст автомобиля (год создания анкеты - год регистрации автомобиля )"
   ]
  },
  {
   "cell_type": "code",
   "execution_count": 117,
   "metadata": {},
   "outputs": [],
   "source": [
    "df['age'] = df['DateCreated'].dt.year - df['RegistrationYear']"
   ]
  },
  {
   "cell_type": "markdown",
   "metadata": {},
   "source": [
    "\n",
    "<div class=\"alert alert-block alert-info\">\n",
    "<b>Совет:</b> У нас разный возраст машин. Есть гипотеза, что для разных возрастов - своё ценообразование. Поэтому, можно попробовать ввести фактор \"тип возраста\" (ретро, супер-ретро, старая, новая... надо подумать..)..<br>\n",
    "\n",
    "</div>"
   ]
  },
  {
   "cell_type": "markdown",
   "metadata": {},
   "source": [
    "<div class=\"alert alert-block alert-warning\">\n",
    "<b>Комментарий студента:</b> Интересная теория. Но думаю, что внесение таких признаков требует консультации с экспертами по автомобилям\n",
    "</div>"
   ]
  },
  {
   "cell_type": "markdown",
   "metadata": {},
   "source": [
    "### Power — мощность (л. с.)"
   ]
  },
  {
   "cell_type": "code",
   "execution_count": 118,
   "metadata": {},
   "outputs": [
    {
     "name": "stdout",
     "output_type": "stream",
     "text": [
      "Анализ признака Power\n",
      "+----------------------------------------------------------------------------------------------------+\n",
      "Описательная статистика:\n"
     ]
    },
    {
     "data": {
      "text/plain": [
       "count    339593.000000\n",
       "mean        111.045696\n",
       "std         186.899948\n",
       "min           0.000000\n",
       "25%          69.000000\n",
       "50%         105.000000\n",
       "75%         143.000000\n",
       "max       20000.000000\n",
       "Name: Power, dtype: float64"
      ]
     },
     "metadata": {},
     "output_type": "display_data"
    },
    {
     "name": "stdout",
     "output_type": "stream",
     "text": [
      "+----------------------------------------------------------------------------------------------------+\n",
      "Количество пропусков: 0\n",
      "Процент пропусков: 0.00%\n",
      "+----------------------------------------------------------------------------------------------------+\n"
     ]
    },
    {
     "data": {
      "image/png": "[encoded data removed]",
      "text/plain": [
       "<Figure size 2000x1000 with 1 Axes>"
      ]
     },
     "metadata": {},
     "output_type": "display_data"
    }
   ],
   "source": [
    "research_numerical_feature(df, 'Power')"
   ]
  },
  {
   "cell_type": "markdown",
   "metadata": {},
   "source": [
    "Признак не имеет пропусков, однако содержит аномальные значения:\n",
    "* Есть строки со значением 0  \n",
    "* Максимальное значение, которое содержит признак 20000, что привышает разумные пределы  \n",
    "  \n",
    "В интернете удалось найти следующие данные:\n",
    "* Самый мощный найденный автомобиль - Dagger GT(2028 л.с.). Поэтому оставим только анкеты, у которых можность двигателя меньше 2000 л.с.  \n",
    "* Самый маломащный найденный автомобиль - СеАЗ СМЗ С-3А (8 л.с). Автомобиль выпускался с 1958 по 1970 гг, что подходит под наши ограничения по году регистраии. Оставим только анкеты, у которыз мощность двигателя больше 10 л.с.  \n",
    "  \n",
    "Помимо удаления аномальных значений данного признака можно попробовать заменить их на медиану мощности по модели или марке автомобиля"
   ]
  },
  {
   "cell_type": "code",
   "execution_count": 119,
   "metadata": {},
   "outputs": [
    {
     "name": "stdout",
     "output_type": "stream",
     "text": [
      "Количество аномальных значений в столбце Power: 36649\n"
     ]
    }
   ],
   "source": [
    "count_anomaly_power = df.query('Power < 10 or Power > 2000')['Power'].count()\n",
    "print(f'Количество аномальных значений в столбце Power: {count_anomaly_power}')"
   ]
  },
  {
   "cell_type": "markdown",
   "metadata": {},
   "source": [
    "\n",
    "<div class=\"alert alert-block alert-info\">\n",
    "<b>Совет:</b>  Вопрос на подумать: Как думаешь а машины с 0-ой мощностью могут быть просто без двигателя?\n",
    "</div>\n"
   ]
  },
  {
   "cell_type": "markdown",
   "metadata": {},
   "source": [
    "<div class=\"alert alert-block alert-warning\">\n",
    "<b>Комментарий студента:</b> Тоже интересная теория. Однако не будет ли это сбивать модель?\n",
    "</div>"
   ]
  },
  {
   "cell_type": "markdown",
   "metadata": {},
   "source": [
    "Аномальные значения составляют примерно 10% датасета. Это очень много, чтобы удалять. Для начала попробуем заменить на медиану по марке автомобиле. При этом, если значение марки будет `unknown`, то будем заменять на среднее значение по марке автомобиля"
   ]
  },
  {
   "cell_type": "code",
   "execution_count": 120,
   "metadata": {},
   "outputs": [],
   "source": [
    "df.loc[\n",
    "    (df['Power'] < 10) |\n",
    "    (df['Power'] > 2000) &\n",
    "    (df['Model'] == 'unknown'),\n",
    "    'Power'\n",
    "] = df.groupby('Brand')['Power'].transform('median')"
   ]
  },
  {
   "cell_type": "code",
   "execution_count": 121,
   "metadata": {},
   "outputs": [],
   "source": [
    "df.loc[\n",
    "    (df['Power'] < 10) |\n",
    "    (df['Power'] > 2000) &\n",
    "    (df['Model'] != 'unknown'),\n",
    "    'Power'\n",
    "] = df.groupby('Model')['Power'].transform('median')"
   ]
  },
  {
   "cell_type": "code",
   "execution_count": 122,
   "metadata": {},
   "outputs": [
    {
     "data": {
      "text/plain": [
       "339578"
      ]
     },
     "execution_count": 122,
     "metadata": {},
     "output_type": "execute_result"
    }
   ],
   "source": [
    "df.query('10 < Power < 2000')['Power'].count()"
   ]
  },
  {
   "cell_type": "markdown",
   "metadata": {},
   "source": [
    "Аномальные значения в столбце исключены"
   ]
  },
  {
   "cell_type": "markdown",
   "metadata": {},
   "source": [
    "### Признак Kilometer"
   ]
  },
  {
   "cell_type": "code",
   "execution_count": 123,
   "metadata": {},
   "outputs": [
    {
     "name": "stdout",
     "output_type": "stream",
     "text": [
      "Анализ признака Kilometer\n",
      "+----------------------------------------------------------------------------------------------------+\n",
      "Описательная статистика:\n"
     ]
    },
    {
     "data": {
      "text/plain": [
       "count    339593.000000\n",
       "mean     128123.960152\n",
       "std       37842.413937\n",
       "min        5000.000000\n",
       "25%      125000.000000\n",
       "50%      150000.000000\n",
       "75%      150000.000000\n",
       "max      150000.000000\n",
       "Name: Kilometer, dtype: float64"
      ]
     },
     "metadata": {},
     "output_type": "display_data"
    },
    {
     "name": "stdout",
     "output_type": "stream",
     "text": [
      "+----------------------------------------------------------------------------------------------------+\n",
      "Количество пропусков: 0\n",
      "Процент пропусков: 0.00%\n",
      "+----------------------------------------------------------------------------------------------------+\n"
     ]
    },
    {
     "data": {
      "image/png": "[encoded data removed]",
      "text/plain": [
       "<Figure size 2000x1000 with 1 Axes>"
      ]
     },
     "metadata": {},
     "output_type": "display_data"
    }
   ],
   "source": [
    "research_numerical_feature(df, 'Kilometer')"
   ]
  },
  {
   "cell_type": "markdown",
   "metadata": {},
   "source": [
    "В столбце нет пропусков. Также первый взгяд в столбце не аномалий. Однако стоит заметить, что значение 2, 3 квантилей и максимальное значение равны между собой. Следовательно, минимум половина датасета содержит в данном столбце значение 150000. Это достаточно странно и стоило бы уточнить данный момент."
   ]
  },
  {
   "cell_type": "markdown",
   "metadata": {},
   "source": [
    "### Признак NumberOfPictures"
   ]
  },
  {
   "cell_type": "code",
   "execution_count": 124,
   "metadata": {},
   "outputs": [
    {
     "name": "stdout",
     "output_type": "stream",
     "text": [
      "Анализ признака NumberOfPictures\n",
      "+----------------------------------------------------------------------------------------------------+\n",
      "Описательная статистика:\n"
     ]
    },
    {
     "data": {
      "text/plain": [
       "count    339593.0\n",
       "mean          0.0\n",
       "std           0.0\n",
       "min           0.0\n",
       "25%           0.0\n",
       "50%           0.0\n",
       "75%           0.0\n",
       "max           0.0\n",
       "Name: NumberOfPictures, dtype: float64"
      ]
     },
     "metadata": {},
     "output_type": "display_data"
    },
    {
     "name": "stdout",
     "output_type": "stream",
     "text": [
      "+----------------------------------------------------------------------------------------------------+\n",
      "Количество пропусков: 0\n",
      "Процент пропусков: 0.00%\n",
      "+----------------------------------------------------------------------------------------------------+\n"
     ]
    },
    {
     "data": {
      "image/png": "[encoded data removed]",
      "text/plain": [
       "<Figure size 2000x1000 with 1 Axes>"
      ]
     },
     "metadata": {},
     "output_type": "display_data"
    }
   ],
   "source": [
    "research_numerical_feature(df, 'NumberOfPictures')"
   ]
  },
  {
   "cell_type": "markdown",
   "metadata": {},
   "source": [
    "В столбце все значения равно 0. Поэтому данный признак совершенно бесполезен и использовать его нет смысла"
   ]
  },
  {
   "cell_type": "markdown",
   "metadata": {},
   "source": [
    "### Целевой признак Price — цена (евро)"
   ]
  },
  {
   "cell_type": "code",
   "execution_count": 125,
   "metadata": {},
   "outputs": [
    {
     "name": "stdout",
     "output_type": "stream",
     "text": [
      "Анализ признака Price\n",
      "+----------------------------------------------------------------------------------------------------+\n",
      "Описательная статистика:\n"
     ]
    },
    {
     "data": {
      "text/plain": [
       "count    339593.000000\n",
       "mean       4471.566207\n",
       "std        4545.245169\n",
       "min           0.000000\n",
       "25%        1100.000000\n",
       "50%        2799.000000\n",
       "75%        6500.000000\n",
       "max       20000.000000\n",
       "Name: Price, dtype: float64"
      ]
     },
     "metadata": {},
     "output_type": "display_data"
    },
    {
     "name": "stdout",
     "output_type": "stream",
     "text": [
      "+----------------------------------------------------------------------------------------------------+\n",
      "Количество пропусков: 0\n",
      "Процент пропусков: 0.00%\n",
      "+----------------------------------------------------------------------------------------------------+\n"
     ]
    },
    {
     "data": {
      "image/png": "[encoded data removed]",
      "text/plain": [
       "<Figure size 2000x1000 with 1 Axes>"
      ]
     },
     "metadata": {},
     "output_type": "display_data"
    }
   ],
   "source": [
    "research_numerical_feature(df, 'Price')"
   ]
  },
  {
   "cell_type": "markdown",
   "metadata": {},
   "source": [
    "Можно заметить, что минимальное значение признака равно 0, не соответствует реалиям. Также по графику видно, что признак имеет длинный правых хвост. Оставим только данные, которые лежат правее 5 перцентили"
   ]
  },
  {
   "cell_type": "markdown",
   "metadata": {},
   "source": [
    "<div class=\"alert alert-block alert-success\">\n",
    "<b>Успех:</b> Самое интересное, что на нескольких сайтов по продажам подержанных автомобилей в Германии (страну можно определить по почтовым индексам, большинство из них из Германии) показало, что цены начинаются действительно с 0 и 1 евро, но это единичные объявления и не понятно, то ли это ошибка при заполнении формы, то ли машины на металлолом. Но я  все-таки склоняюсь к тому, чтобы избавиться от таких данных\n",
    "</div>\n",
    "\n",
    "<div class=\"alert alert-block alert-danger\">\n",
    "<b>Ошибка:</b> Не согласен с удалением данных, используя верхнюю границу. Разве цены на машины в 15,20 тысяч евро являются неадекватными? Это ценные наблюдения, которые мы можем потерять\n",
    "</div>\n"
   ]
  },
  {
   "cell_type": "markdown",
   "metadata": {},
   "source": [
    "<div class=\"alert alert-block alert-warning\">\n",
    "<b>Изменения:</b> исправил\n",
    "</div>"
   ]
  },
  {
   "cell_type": "code",
   "execution_count": 126,
   "metadata": {},
   "outputs": [],
   "source": [
    "q_05 = df['Price'].quantile(.05)\n",
    "df = df.query('@q_05 < Price')"
   ]
  },
  {
   "cell_type": "markdown",
   "metadata": {},
   "source": [
    "### Удаление дубликатов"
   ]
  },
  {
   "cell_type": "code",
   "execution_count": 127,
   "metadata": {},
   "outputs": [
    {
     "data": {
      "text/plain": [
       "5"
      ]
     },
     "execution_count": 127,
     "metadata": {},
     "output_type": "execute_result"
    }
   ],
   "source": [
    "df.duplicated().sum()"
   ]
  },
  {
   "cell_type": "code",
   "execution_count": 128,
   "metadata": {},
   "outputs": [],
   "source": [
    "df.drop_duplicates(inplace=True)"
   ]
  },
  {
   "cell_type": "code",
   "execution_count": 129,
   "metadata": {
    "scrolled": true
   },
   "outputs": [
    {
     "name": "stdout",
     "output_type": "stream",
     "text": [
      "После предобработки данных в датасете осталось 90.64% данных\n"
     ]
    }
   ],
   "source": [
    "print(f'После предобработки данных в датасете осталось {df.shape[0] / START_DATA_SIZE:.2%} данных')"
   ]
  },
  {
   "cell_type": "markdown",
   "metadata": {},
   "source": [
    "\n",
    "<div class=\"alert alert-block alert-success\">\n",
    "<b>Успех:</b> А так в целом хорошая, детальная предобработка - идем дальше\n",
    "</div>\n",
    "\n",
    "<div class=\"alert alert-block alert-info\">\n",
    "<b>Совет:</b> \n",
    "\n",
    " Советую обратить внимание на библиотеки sweetviz и pandas_profiling помогут в проведении более тщательного EDA анализа. Исследовательский анализ можно делать и с помощью ручного вызова функций дефолтных библиотек. Данные библиотеки хороши для максимизации комфорта презентации результатов анализа бизнес-пользователям. \n",
    "    \n",
    "Очень просты в использоовании, на вход кладется датафрейм: pandas_profiling.ProfileReport(df) \n",
    "</div>\n"
   ]
  },
  {
   "cell_type": "markdown",
   "metadata": {},
   "source": [
    "<div class=\"alert alert-block alert-warning\">\n",
    "<b>Комментарий студента:</b> Спасибо за наводку. Про pandas_profiling слышал. Однако решил, что мои уже давно написанные функции очень похожи на то, что делает эта библиотека. А вот sweetviz изучу подробнее\n",
    "</div>"
   ]
  },
  {
   "cell_type": "markdown",
   "metadata": {},
   "source": [
    "## Обучение моделей"
   ]
  },
  {
   "cell_type": "markdown",
   "metadata": {},
   "source": [
    "### Подготовка признаков"
   ]
  },
  {
   "cell_type": "markdown",
   "metadata": {},
   "source": [
    "Для обучения буду использоваться следующие признаки:\n",
    "1. Количественные:\n",
    "    * Power — мощность (л. с.)  \n",
    "    * Kilometer — пробег (км)  \n",
    "    * age - возраст автомобиля  \n",
    "2. Категориальные:\n",
    "    * VehicleType — тип автомобильного кузова  \n",
    "    * Model — модель автомобиля  \n",
    "    * FuelType — тип топлива  \n",
    "    * Brand — марка автомобиля  \n",
    "3. Булевы:\n",
    "    * Gearbox — тип коробки передач (1 - manual(ручная коробка передач))\n",
    "    * Repaired — была машина в ремонте или нет (1 - была в ремонте)  "
   ]
  },
  {
   "cell_type": "code",
   "execution_count": 130,
   "metadata": {},
   "outputs": [],
   "source": [
    "features_numerical = ['Power', 'Kilometer', 'age']\n",
    "features_categorical = ['Model', 'Brand', 'VehicleType', 'FuelType']\n",
    "features_bool = ['Gearbox', 'Repaired']\n",
    "target_column = ['Price']\n",
    "columns_all = features_numerical + features_categorical + features_bool + target_column"
   ]
  },
  {
   "cell_type": "code",
   "execution_count": 131,
   "metadata": {},
   "outputs": [],
   "source": [
    "df = df[columns_all]"
   ]
  },
  {
   "cell_type": "markdown",
   "metadata": {},
   "source": [
    "Для анализа будут использоваться следующие модели:  \n",
    "1. LinearRegression\n",
    "2. CatBoostRegressor  \n",
    "3. LGBMRegressor  \n",
    "  \n",
    "Так как CatBoostRegressor и LGBMRegressor могут работать с категориальными признаками сами, то подготовим 2 набора данных: с кодированием категориальных признаков и без"
   ]
  },
  {
   "cell_type": "code",
   "execution_count": 132,
   "metadata": {},
   "outputs": [],
   "source": [
    "features = df.drop('Price', axis=1)\n",
    "target = df['Price']"
   ]
  },
  {
   "cell_type": "code",
   "execution_count": 133,
   "metadata": {},
   "outputs": [],
   "source": [
    "features_train, features_test, target_train, target_test = train_test_split(\n",
    "    features, target, test_size=.2, random_state=RANROM_STATE\n",
    ")"
   ]
  },
  {
   "cell_type": "code",
   "execution_count": 134,
   "metadata": {
    "scrolled": true
   },
   "outputs": [
    {
     "name": "stderr",
     "output_type": "stream",
     "text": [
      "C:\\Users\\Alexander\\AppData\\Local\\Temp\\ipykernel_12824\\1213871706.py:2: SettingWithCopyWarning: \n",
      "A value is trying to be set on a copy of a slice from a DataFrame.\n",
      "Try using .loc[row_indexer,col_indexer] = value instead\n",
      "\n",
      "See the caveats in the documentation: https://pandas.pydata.org/pandas-docs/stable/user_guide/indexing.html#returning-a-view-versus-a-copy\n",
      "  features_train[features_numerical] = scaler.transform(features_train[features_numerical])\n",
      "c:\\Data\\practicum\\data_science\\price_auto\\venv\\lib\\site-packages\\pandas\\core\\indexing.py:1738: SettingWithCopyWarning: \n",
      "A value is trying to be set on a copy of a slice from a DataFrame.\n",
      "Try using .loc[row_indexer,col_indexer] = value instead\n",
      "\n",
      "See the caveats in the documentation: https://pandas.pydata.org/pandas-docs/stable/user_guide/indexing.html#returning-a-view-versus-a-copy\n",
      "  self._setitem_single_column(loc, value[:, i].tolist(), pi)\n",
      "C:\\Users\\Alexander\\AppData\\Local\\Temp\\ipykernel_12824\\1213871706.py:3: SettingWithCopyWarning: \n",
      "A value is trying to be set on a copy of a slice from a DataFrame.\n",
      "Try using .loc[row_indexer,col_indexer] = value instead\n",
      "\n",
      "See the caveats in the documentation: https://pandas.pydata.org/pandas-docs/stable/user_guide/indexing.html#returning-a-view-versus-a-copy\n",
      "  features_test[features_numerical] = scaler.transform(features_test[features_numerical])\n",
      "c:\\Data\\practicum\\data_science\\price_auto\\venv\\lib\\site-packages\\pandas\\core\\indexing.py:1738: SettingWithCopyWarning: \n",
      "A value is trying to be set on a copy of a slice from a DataFrame.\n",
      "Try using .loc[row_indexer,col_indexer] = value instead\n",
      "\n",
      "See the caveats in the documentation: https://pandas.pydata.org/pandas-docs/stable/user_guide/indexing.html#returning-a-view-versus-a-copy\n",
      "  self._setitem_single_column(loc, value[:, i].tolist(), pi)\n"
     ]
    }
   ],
   "source": [
    "scaler = StandardScaler().fit(features_train[features_numerical])\n",
    "features_train[features_numerical] = scaler.transform(features_train[features_numerical])\n",
    "features_test[features_numerical] = scaler.transform(features_test[features_numerical])"
   ]
  },
  {
   "cell_type": "markdown",
   "metadata": {},
   "source": [
    "\n",
    "<div class=\"alert alert-block alert-success\">\n",
    "<b>Успех:</b> Масштабирование применено корректно"
   ]
  },
  {
   "cell_type": "code",
   "execution_count": 135,
   "metadata": {},
   "outputs": [],
   "source": [
    "features_train_ohe = features_train.copy()\n",
    "features_test_ohe = features_test.copy()"
   ]
  },
  {
   "cell_type": "code",
   "execution_count": 136,
   "metadata": {},
   "outputs": [],
   "source": [
    "encoder = OneHotEncoder(handle_unknown='ignore', dtype='int').fit(features_train_ohe[features_categorical])"
   ]
  },
  {
   "cell_type": "code",
   "execution_count": 137,
   "metadata": {},
   "outputs": [],
   "source": [
    "features_train_ohe = ohe(features_train_ohe, encoder, features_categorical)\n",
    "features_test_ohe = ohe(features_test_ohe, encoder, features_categorical)"
   ]
  },
  {
   "cell_type": "markdown",
   "metadata": {},
   "source": [
    "\n",
    "<div class=\"alert alert-block alert-danger\">\n",
    "    \n",
    "<b>Ошибка:</b> Важно указывать параметр `drop='first'`, иначе попадаем в dummy-ловушку.  https://www.codecamp.ru/blog/dummy-variable-trap/\n",
    "\n",
    "Если возникает конфликт параметров, то нужно перед импортами обновить пакет до подходящий версии. `!pip install scikit-learn==1.1.3` \n",
    "\n",
    "</div>"
   ]
  },
  {
   "cell_type": "markdown",
   "metadata": {},
   "source": [
    "<div class=\"alert alert-block alert-warning\">\n",
    "<b>Комментарий студента:</b> Исправил для части признаков. Однако для признаков марка и модель считаю, что лучше оставить энкодер с игнорирование неизвестных значений. Так как в тестовой выборке нам может прийти значение, которое просто не попало в тренировочную и все сломается...\n",
    "</div>"
   ]
  },
  {
   "cell_type": "markdown",
   "metadata": {},
   "source": [
    "Для тестирования моделей LightGBMRegressor и CatBoostRegressor без преобразования категориальных признаков изменим тип колонок с категориальными признаками на `caterogy` (без этого модели не захотели работать)"
   ]
  },
  {
   "cell_type": "code",
   "execution_count": 138,
   "metadata": {},
   "outputs": [
    {
     "name": "stderr",
     "output_type": "stream",
     "text": [
      "c:\\Data\\practicum\\data_science\\price_auto\\venv\\lib\\site-packages\\pandas\\core\\frame.py:3191: SettingWithCopyWarning: \n",
      "A value is trying to be set on a copy of a slice from a DataFrame.\n",
      "Try using .loc[row_indexer,col_indexer] = value instead\n",
      "\n",
      "See the caveats in the documentation: https://pandas.pydata.org/pandas-docs/stable/user_guide/indexing.html#returning-a-view-versus-a-copy\n",
      "  self[k1] = value[k2]\n"
     ]
    }
   ],
   "source": [
    "features_train[features_categorical] = features_train[features_categorical].astype('category')\n",
    "features_test[features_categorical] = features_test[features_categorical].astype('category')"
   ]
  },
  {
   "cell_type": "code",
   "execution_count": 139,
   "metadata": {},
   "outputs": [
    {
     "name": "stdout",
     "output_type": "stream",
     "text": [
      "<class 'pandas.core.frame.DataFrame'>\n",
      "Int64Index: 256967 entries, 293063 to 134498\n",
      "Data columns (total 9 columns):\n",
      " #   Column       Non-Null Count   Dtype   \n",
      "---  ------       --------------   -----   \n",
      " 0   Power        256967 non-null  float64 \n",
      " 1   Kilometer    256967 non-null  float64 \n",
      " 2   age          256967 non-null  float64 \n",
      " 3   Model        256967 non-null  category\n",
      " 4   Brand        256967 non-null  category\n",
      " 5   VehicleType  256967 non-null  category\n",
      " 6   FuelType     256967 non-null  category\n",
      " 7   Gearbox      256967 non-null  int32   \n",
      " 8   Repaired     256967 non-null  int32   \n",
      "dtypes: category(4), float64(3), int32(2)\n",
      "memory usage: 19.1 MB\n",
      "<class 'pandas.core.frame.DataFrame'>\n",
      "Int64Index: 64242 entries, 160409 to 352743\n",
      "Data columns (total 9 columns):\n",
      " #   Column       Non-Null Count  Dtype   \n",
      "---  ------       --------------  -----   \n",
      " 0   Power        64242 non-null  float64 \n",
      " 1   Kilometer    64242 non-null  float64 \n",
      " 2   age          64242 non-null  float64 \n",
      " 3   Model        64242 non-null  category\n",
      " 4   Brand        64242 non-null  category\n",
      " 5   VehicleType  64242 non-null  category\n",
      " 6   FuelType     64242 non-null  category\n",
      " 7   Gearbox      64242 non-null  int32   \n",
      " 8   Repaired     64242 non-null  int32   \n",
      "dtypes: category(4), float64(3), int32(2)\n",
      "memory usage: 4.8 MB\n"
     ]
    }
   ],
   "source": [
    "features_train.info()\n",
    "features_test.info()"
   ]
  },
  {
   "cell_type": "markdown",
   "metadata": {},
   "source": [
    "#### Проверям скорость обучения и придсказания"
   ]
  },
  {
   "cell_type": "markdown",
   "metadata": {},
   "source": [
    "### Модель LinearRegression"
   ]
  },
  {
   "cell_type": "markdown",
   "metadata": {},
   "source": [
    "#### Проверяем качество модели"
   ]
  },
  {
   "cell_type": "code",
   "execution_count": 140,
   "metadata": {},
   "outputs": [],
   "source": [
    "linear_model = LinearRegression(n_jobs=-1)"
   ]
  },
  {
   "cell_type": "code",
   "execution_count": 141,
   "metadata": {},
   "outputs": [
    {
     "name": "stdout",
     "output_type": "stream",
     "text": [
      "CPU times: total: 1min 56s\n",
      "Wall time: 13.6 s\n"
     ]
    }
   ],
   "source": [
    "%%time\n",
    "results_linear_model = cross_validate(\n",
    "    linear_model,\n",
    "    features_train_ohe,\n",
    "    target_train,\n",
    "    cv=5,\n",
    "    scoring='neg_root_mean_squared_error'\n",
    ")"
   ]
  },
  {
   "cell_type": "code",
   "execution_count": 142,
   "metadata": {},
   "outputs": [
    {
     "data": {
      "text/plain": [
       "{'fit_time': array([2.68695927, 2.63338971, 2.66242194, 2.68235421, 2.68445754]),\n",
       " 'score_time': array([0.04330945, 0.0440402 , 0.04504108, 0.04403973, 0.04404044]),\n",
       " 'test_score': array([-1.03808706e+12, -7.12433087e+11, -2.80246880e+03, -2.81573016e+03,\n",
       "        -2.81283806e+03])}"
      ]
     },
     "execution_count": 142,
     "metadata": {},
     "output_type": "execute_result"
    }
   ],
   "source": [
    "results_linear_model"
   ]
  },
  {
   "cell_type": "code",
   "execution_count": 143,
   "metadata": {},
   "outputs": [
    {
     "name": "stdout",
     "output_type": "stream",
     "text": [
      "RMSE = 350104030983.50916\n"
     ]
    }
   ],
   "source": [
    "rmse_linear_model = -1 * results_linear_model[\"test_score\"].mean()\n",
    "print(f'RMSE = {rmse_linear_model}')"
   ]
  },
  {
   "cell_type": "markdown",
   "metadata": {},
   "source": [
    "По результатам модели на кросс-валидации видно, что модель линейной регрессии нестабильная. На некоторых выборках она дает очень большую ошибку"
   ]
  },
  {
   "cell_type": "markdown",
   "metadata": {},
   "source": [
    "#### Проверям скорость обучения и предсказания"
   ]
  },
  {
   "cell_type": "code",
   "execution_count": 144,
   "metadata": {},
   "outputs": [],
   "source": [
    "linear_model = LinearRegression(n_jobs=-1)"
   ]
  },
  {
   "cell_type": "code",
   "execution_count": 145,
   "metadata": {},
   "outputs": [
    {
     "name": "stdout",
     "output_type": "stream",
     "text": [
      "CPU times: total: 30.7 s\n",
      "Wall time: 3.34 s\n"
     ]
    },
    {
     "data": {
      "text/plain": [
       "LinearRegression(n_jobs=-1)"
      ]
     },
     "execution_count": 145,
     "metadata": {},
     "output_type": "execute_result"
    }
   ],
   "source": [
    "%%time\n",
    "linear_model.fit(features_train_ohe, target_train)"
   ]
  },
  {
   "cell_type": "markdown",
   "metadata": {},
   "source": [
    "Для предсказания используем тренировочную выборку, так как сейчас нам не важно качество модели. Цель - изучить время работы модели"
   ]
  },
  {
   "cell_type": "code",
   "execution_count": 146,
   "metadata": {},
   "outputs": [
    {
     "name": "stdout",
     "output_type": "stream",
     "text": [
      "CPU times: total: 672 ms\n",
      "Wall time: 212 ms\n"
     ]
    }
   ],
   "source": [
    "%%time\n",
    "predicted = linear_model.predict(features_train_ohe)"
   ]
  },
  {
   "cell_type": "markdown",
   "metadata": {},
   "source": [
    "Обучение модели занимает `26 с`, предсказание занимает `0.45 c`"
   ]
  },
  {
   "cell_type": "markdown",
   "metadata": {},
   "source": [
    "### Модель LightGBMRegressor"
   ]
  },
  {
   "cell_type": "markdown",
   "metadata": {},
   "source": [
    "#### Проверяем качество модели"
   ]
  },
  {
   "cell_type": "code",
   "execution_count": 147,
   "metadata": {},
   "outputs": [],
   "source": [
    "gscv_lgbm_regressor_config = {\n",
    "    'num_leaves': [50, 100, 200],\n",
    "    'learning_rate': [.1, .3, .5],\n",
    "    'max_depth': [-1, 1, 2, 3, 4, 5],\n",
    "    'n_estimators': range(50, 301, 50)\n",
    "}"
   ]
  },
  {
   "cell_type": "markdown",
   "metadata": {},
   "source": [
    "##### Использование признаков с OHE"
   ]
  },
  {
   "cell_type": "markdown",
   "metadata": {},
   "source": [
    "##### Проверяем качество модели"
   ]
  },
  {
   "cell_type": "code",
   "execution_count": 148,
   "metadata": {},
   "outputs": [],
   "source": [
    "model_lgbm_regressor = LGBMRegressor(n_jobs=-1, random_state=RANROM_STATE) "
   ]
  },
  {
   "cell_type": "code",
   "execution_count": 149,
   "metadata": {},
   "outputs": [
    {
     "name": "stdout",
     "output_type": "stream",
     "text": [
      "CPU times: total: 15.2 s\n",
      "Wall time: 26min 9s\n"
     ]
    }
   ],
   "source": [
    "%%time\n",
    "result_lgbm_regressor = research_model(\n",
    "    model_lgbm_regressor, gscv_lgbm_regressor_config, features_train_ohe, target_train\n",
    ")"
   ]
  },
  {
   "cell_type": "code",
   "execution_count": 150,
   "metadata": {},
   "outputs": [
    {
     "data": {
      "text/html": [
       "<div>\n",
       "<style scoped>\n",
       "    .dataframe tbody tr th:only-of-type {\n",
       "        vertical-align: middle;\n",
       "    }\n",
       "\n",
       "    .dataframe tbody tr th {\n",
       "        vertical-align: top;\n",
       "    }\n",
       "\n",
       "    .dataframe thead th {\n",
       "        text-align: right;\n",
       "    }\n",
       "</style>\n",
       "<table border=\"1\" class=\"dataframe\">\n",
       "  <thead>\n",
       "    <tr style=\"text-align: right;\">\n",
       "      <th></th>\n",
       "      <th>params</th>\n",
       "      <th>mean_train_score</th>\n",
       "      <th>mean_test_score</th>\n",
       "    </tr>\n",
       "  </thead>\n",
       "  <tbody>\n",
       "    <tr>\n",
       "      <th>17</th>\n",
       "      <td>{'learning_rate': 0.1, 'max_depth': -1, 'n_estimators': 300, 'num_leaves': 200}</td>\n",
       "      <td>-1339.658911</td>\n",
       "      <td>-1559.241860</td>\n",
       "    </tr>\n",
       "    <tr>\n",
       "      <th>14</th>\n",
       "      <td>{'learning_rate': 0.1, 'max_depth': -1, 'n_estimators': 250, 'num_leaves': 200}</td>\n",
       "      <td>-1362.380410</td>\n",
       "      <td>-1563.378322</td>\n",
       "    </tr>\n",
       "    <tr>\n",
       "      <th>11</th>\n",
       "      <td>{'learning_rate': 0.1, 'max_depth': -1, 'n_estimators': 200, 'num_leaves': 200}</td>\n",
       "      <td>-1389.706552</td>\n",
       "      <td>-1569.412672</td>\n",
       "    </tr>\n",
       "  </tbody>\n",
       "</table>\n",
       "</div>"
      ],
      "text/plain": [
       "                                                                             params  \\\n",
       "17  {'learning_rate': 0.1, 'max_depth': -1, 'n_estimators': 300, 'num_leaves': 200}   \n",
       "14  {'learning_rate': 0.1, 'max_depth': -1, 'n_estimators': 250, 'num_leaves': 200}   \n",
       "11  {'learning_rate': 0.1, 'max_depth': -1, 'n_estimators': 200, 'num_leaves': 200}   \n",
       "\n",
       "    mean_train_score  mean_test_score  \n",
       "17      -1339.658911     -1559.241860  \n",
       "14      -1362.380410     -1563.378322  \n",
       "11      -1389.706552     -1569.412672  "
      ]
     },
     "execution_count": 150,
     "metadata": {},
     "output_type": "execute_result"
    }
   ],
   "source": [
    "pd.set_option('display.max_colwidth', None)\n",
    "result_lgbm_regressor[['params', 'mean_train_score', 'mean_test_score']].head(3)"
   ]
  },
  {
   "cell_type": "markdown",
   "metadata": {},
   "source": [
    "params\tmean_train_score\tmean_test_score  \n",
    "17\t{'learning_rate': 0.1, 'max_depth': -1, 'n_estimators': 300, 'num_leaves': 200}\t-1144.966729\t-1312.656374  \n",
    "14\t{'learning_rate': 0.1, 'max_depth': -1, 'n_estimators': 250, 'num_leaves': 200}\t-1163.664050\t-1315.498704  \n",
    "11\t{'learning_rate': 0.1, 'max_depth': -1, 'n_estimators': 200, 'num_leaves': 200}\t-1185.001529\t-1319.879796  "
   ]
  },
  {
   "cell_type": "code",
   "execution_count": 151,
   "metadata": {},
   "outputs": [
    {
     "name": "stdout",
     "output_type": "stream",
     "text": [
      "Модель с лучшем качеством имеет параметры - {'learning_rate': 0.1, 'max_depth': -1, 'n_estimators': 300, 'num_leaves': 200}\n"
     ]
    }
   ],
   "source": [
    "print(f'Модель с лучшем качеством имеет параметры - {result_lgbm_regressor.loc[17, \"params\"]}')"
   ]
  },
  {
   "cell_type": "code",
   "execution_count": 152,
   "metadata": {},
   "outputs": [
    {
     "name": "stdout",
     "output_type": "stream",
     "text": [
      "Качество лучшей модели: RMSE = 1559.2418599625512\n"
     ]
    }
   ],
   "source": [
    "rmse_lgbm_regressor = -1 * result_lgbm_regressor.loc[17, \"mean_test_score\"]\n",
    "print(f'Качество лучшей модели: RMSE = {rmse_lgbm_regressor}')"
   ]
  },
  {
   "cell_type": "markdown",
   "metadata": {},
   "source": [
    "##### Проверям скорость обучения и предсказания"
   ]
  },
  {
   "cell_type": "code",
   "execution_count": 153,
   "metadata": {},
   "outputs": [],
   "source": [
    "model_lgbm_regressor = LGBMRegressor(\n",
    "    n_jobs=-1,\n",
    "    random_state=RANROM_STATE,\n",
    "    learning_rate=.1,\n",
    "    max_depth=-1,\n",
    "    n_estimators=300,\n",
    "    num_leaves=200\n",
    ")"
   ]
  },
  {
   "cell_type": "code",
   "execution_count": 154,
   "metadata": {},
   "outputs": [
    {
     "name": "stdout",
     "output_type": "stream",
     "text": [
      "[LightGBM] [Info] Auto-choosing row-wise multi-threading, the overhead of testing was 0.003199 seconds.\n",
      "You can set `force_row_wise=true` to remove the overhead.\n",
      "And if memory is not enough, you can set `force_col_wise=true`.\n",
      "[LightGBM] [Info] Total Bins 919\n",
      "[LightGBM] [Info] Number of data points in the train set: 256967, number of used features: 294\n",
      "[LightGBM] [Info] Start training from score 4719.405803\n",
      "CPU times: total: 31.7 s\n",
      "Wall time: 2.69 s\n"
     ]
    }
   ],
   "source": [
    "%%time\n",
    "model_lgbm_regressor.fit(features_train_ohe, target_train)\n",
    "!"
   ]
  },
  {
   "cell_type": "markdown",
   "metadata": {},
   "source": [
    "Для предсказания используем тренировочную выборку, так как сейчас нам не важно качество модели. Цель - изучить время работы модели"
   ]
  },
  {
   "cell_type": "code",
   "execution_count": 155,
   "metadata": {},
   "outputs": [
    {
     "name": "stdout",
     "output_type": "stream",
     "text": [
      "CPU times: total: 13 s\n",
      "Wall time: 1.02 s\n"
     ]
    }
   ],
   "source": [
    "%%time\n",
    "predicted = model_lgbm_regressor.predict(features_train_ohe)"
   ]
  },
  {
   "cell_type": "markdown",
   "metadata": {},
   "source": [
    "Обучение модели занимает `27.2 c`, предсказание занимает `12.1 c`"
   ]
  },
  {
   "cell_type": "markdown",
   "metadata": {},
   "source": [
    "##### Использование признаков без кодирования OHE"
   ]
  },
  {
   "cell_type": "markdown",
   "metadata": {},
   "source": [
    "##### Проверяем качество модели"
   ]
  },
  {
   "cell_type": "code",
   "execution_count": 156,
   "metadata": {},
   "outputs": [],
   "source": [
    "fit_params = {'categorical_feature': features_categorical}"
   ]
  },
  {
   "cell_type": "code",
   "execution_count": 157,
   "metadata": {},
   "outputs": [
    {
     "name": "stdout",
     "output_type": "stream",
     "text": [
      "CPU times: total: 19 s\n",
      "Wall time: 13min 30s\n"
     ]
    }
   ],
   "source": [
    "%%time\n",
    "result_lgbm_regressor_without_ohe = research_model(\n",
    "    model_lgbm_regressor, gscv_lgbm_regressor_config, features_train, target_train, 5, fit_params\n",
    ")"
   ]
  },
  {
   "cell_type": "code",
   "execution_count": 158,
   "metadata": {},
   "outputs": [
    {
     "data": {
      "text/html": [
       "<div>\n",
       "<style scoped>\n",
       "    .dataframe tbody tr th:only-of-type {\n",
       "        vertical-align: middle;\n",
       "    }\n",
       "\n",
       "    .dataframe tbody tr th {\n",
       "        vertical-align: top;\n",
       "    }\n",
       "\n",
       "    .dataframe thead th {\n",
       "        text-align: right;\n",
       "    }\n",
       "</style>\n",
       "<table border=\"1\" class=\"dataframe\">\n",
       "  <thead>\n",
       "    <tr style=\"text-align: right;\">\n",
       "      <th></th>\n",
       "      <th>params</th>\n",
       "      <th>mean_train_score</th>\n",
       "      <th>mean_test_score</th>\n",
       "    </tr>\n",
       "  </thead>\n",
       "  <tbody>\n",
       "    <tr>\n",
       "      <th>17</th>\n",
       "      <td>{'learning_rate': 0.1, 'max_depth': -1, 'n_estimators': 300, 'num_leaves': 200}</td>\n",
       "      <td>-1290.613773</td>\n",
       "      <td>-1547.892553</td>\n",
       "    </tr>\n",
       "    <tr>\n",
       "      <th>14</th>\n",
       "      <td>{'learning_rate': 0.1, 'max_depth': -1, 'n_estimators': 250, 'num_leaves': 200}</td>\n",
       "      <td>-1310.636748</td>\n",
       "      <td>-1550.561867</td>\n",
       "    </tr>\n",
       "    <tr>\n",
       "      <th>11</th>\n",
       "      <td>{'learning_rate': 0.1, 'max_depth': -1, 'n_estimators': 200, 'num_leaves': 200}</td>\n",
       "      <td>-1334.127861</td>\n",
       "      <td>-1553.804425</td>\n",
       "    </tr>\n",
       "  </tbody>\n",
       "</table>\n",
       "</div>"
      ],
      "text/plain": [
       "                                                                             params  \\\n",
       "17  {'learning_rate': 0.1, 'max_depth': -1, 'n_estimators': 300, 'num_leaves': 200}   \n",
       "14  {'learning_rate': 0.1, 'max_depth': -1, 'n_estimators': 250, 'num_leaves': 200}   \n",
       "11  {'learning_rate': 0.1, 'max_depth': -1, 'n_estimators': 200, 'num_leaves': 200}   \n",
       "\n",
       "    mean_train_score  mean_test_score  \n",
       "17      -1290.613773     -1547.892553  \n",
       "14      -1310.636748     -1550.561867  \n",
       "11      -1334.127861     -1553.804425  "
      ]
     },
     "execution_count": 158,
     "metadata": {},
     "output_type": "execute_result"
    }
   ],
   "source": [
    "result_lgbm_regressor_without_ohe[['params', 'mean_train_score', 'mean_test_score']].head(3)"
   ]
  },
  {
   "cell_type": "markdown",
   "metadata": {},
   "source": [
    "params\tmean_train_score\tmean_test_score  \n",
    "17\t{'learning_rate': 0.1, 'max_depth': -1, 'n_estimators': 300, 'num_leaves': 200}\t-1111.151785\t-1304.802934  \n",
    "14\t{'learning_rate': 0.1, 'max_depth': -1, 'n_estimators': 250, 'num_leaves': 200}\t-1126.433403\t-1306.787713  \n",
    "11\t{'learning_rate': 0.1, 'max_depth': -1, 'n_estimators': 200, 'num_leaves': 200}\t-1144.571583\t-1309.673676  "
   ]
  },
  {
   "cell_type": "code",
   "execution_count": 159,
   "metadata": {},
   "outputs": [
    {
     "name": "stdout",
     "output_type": "stream",
     "text": [
      "Модель с лучшем качеством имеет параметры - {'learning_rate': 0.1, 'max_depth': -1, 'n_estimators': 300, 'num_leaves': 200}\n"
     ]
    }
   ],
   "source": [
    "print(f'Модель с лучшем качеством имеет параметры - {result_lgbm_regressor_without_ohe.loc[17, \"params\"]}')"
   ]
  },
  {
   "cell_type": "code",
   "execution_count": 160,
   "metadata": {},
   "outputs": [
    {
     "name": "stdout",
     "output_type": "stream",
     "text": [
      "Качество лучшей модели: RMSE = 1547.892553065981\n"
     ]
    }
   ],
   "source": [
    "rmse_lgbm_regressor_without_ohe = -1 * result_lgbm_regressor_without_ohe.loc[17, \"mean_test_score\"]\n",
    "print(f'Качество лучшей модели: RMSE = {rmse_lgbm_regressor_without_ohe}')"
   ]
  },
  {
   "cell_type": "markdown",
   "metadata": {},
   "source": [
    "##### Проверям скорость обучения и предсказания"
   ]
  },
  {
   "cell_type": "code",
   "execution_count": 161,
   "metadata": {},
   "outputs": [],
   "source": [
    "model_lgbm_regressor_without_ohe = LGBMRegressor(\n",
    "    n_jobs=-1,\n",
    "    random_state=RANROM_STATE,\n",
    "    learning_rate=.1,\n",
    "    max_depth=-1,\n",
    "    n_estimators=300,\n",
    "    num_leaves=200\n",
    ")"
   ]
  },
  {
   "cell_type": "code",
   "execution_count": 162,
   "metadata": {},
   "outputs": [
    {
     "name": "stdout",
     "output_type": "stream",
     "text": [
      "[LightGBM] [Info] Auto-choosing row-wise multi-threading, the overhead of testing was 0.004018 seconds.\n",
      "You can set `force_row_wise=true` to remove the overhead.\n",
      "And if memory is not enough, you can set `force_col_wise=true`.\n",
      "[LightGBM] [Info] Total Bins 642\n",
      "[LightGBM] [Info] Number of data points in the train set: 256967, number of used features: 9\n",
      "[LightGBM] [Info] Start training from score 4719.405803\n",
      "CPU times: total: 26.1 s\n",
      "Wall time: 1.97 s\n"
     ]
    }
   ],
   "source": [
    "%%time\n",
    "model_lgbm_regressor_without_ohe.fit(features_train, target_train, categorical_feature=features_categorical)\n",
    "!"
   ]
  },
  {
   "cell_type": "markdown",
   "metadata": {},
   "source": [
    "Для предсказания используем тренировочную выборку, так как сейчас нам не важно качество модели. Цель - изучить время работы модели"
   ]
  },
  {
   "cell_type": "code",
   "execution_count": 165,
   "metadata": {},
   "outputs": [
    {
     "name": "stdout",
     "output_type": "stream",
     "text": [
      "CPU times: total: 10.3 s\n",
      "Wall time: 736 ms\n"
     ]
    }
   ],
   "source": [
    "%%time\n",
    "predicted = model_lgbm_regressor_without_ohe.predict(features_train)"
   ]
  },
  {
   "cell_type": "markdown",
   "metadata": {},
   "source": [
    "Обучение модели занимает `24 c`, предсказание занимает `12.1 c`"
   ]
  },
  {
   "cell_type": "markdown",
   "metadata": {},
   "source": [
    "### Модель CatBoostRegressor"
   ]
  },
  {
   "cell_type": "code",
   "execution_count": 166,
   "metadata": {},
   "outputs": [],
   "source": [
    "gscv_cat_boost_regressor_config = {\n",
    "    'learning_rate':[.1, .5, .8],\n",
    "    'max_depth': range(1, 6),\n",
    "    'n_estimators': range(50, 401, 50)\n",
    "}"
   ]
  },
  {
   "cell_type": "markdown",
   "metadata": {},
   "source": [
    "#### Использование признаков с OHE"
   ]
  },
  {
   "cell_type": "markdown",
   "metadata": {},
   "source": [
    "##### Проверяем качество модели"
   ]
  },
  {
   "cell_type": "code",
   "execution_count": 167,
   "metadata": {},
   "outputs": [],
   "source": [
    "model_cat_boost_regressor = CatBoostRegressor(random_state=RANDOM_STATE_FOR_CAT_BOOST, verbose=False)"
   ]
  },
  {
   "cell_type": "code",
   "execution_count": 168,
   "metadata": {},
   "outputs": [
    {
     "ename": "KeyboardInterrupt",
     "evalue": "",
     "output_type": "error",
     "traceback": [
      "\u001b[1;31m---------------------------------------------------------------------------\u001b[0m",
      "\u001b[1;31mKeyboardInterrupt\u001b[0m                         Traceback (most recent call last)",
      "File \u001b[1;32m<timed exec>:1\u001b[0m\n",
      "\u001b[1;32mc:\\Data\\practicum\\data_science\\price_auto\\price_auto.ipynb Ячейка 177\u001b[0m line \u001b[0;36m9\n\u001b[0;32m      <a href='vscode-notebook-cell:/c%3A/Data/practicum/data_science/price_auto/price_auto.ipynb#Y341sZmlsZQ%3D%3D?line=0'>1</a>\u001b[0m \u001b[39mdef\u001b[39;00m \u001b[39mresearch_model\u001b[39m(model, params, features, target, cv\u001b[39m=\u001b[39m\u001b[39m5\u001b[39m, fit_params\u001b[39m=\u001b[39m{}):\n\u001b[0;32m      <a href='vscode-notebook-cell:/c%3A/Data/practicum/data_science/price_auto/price_auto.ipynb#Y341sZmlsZQ%3D%3D?line=1'>2</a>\u001b[0m     gscv \u001b[39m=\u001b[39m GridSearchCV(\n\u001b[0;32m      <a href='vscode-notebook-cell:/c%3A/Data/practicum/data_science/price_auto/price_auto.ipynb#Y341sZmlsZQ%3D%3D?line=2'>3</a>\u001b[0m         model, params, cv\u001b[39m=\u001b[39mcv,\n\u001b[0;32m      <a href='vscode-notebook-cell:/c%3A/Data/practicum/data_science/price_auto/price_auto.ipynb#Y341sZmlsZQ%3D%3D?line=3'>4</a>\u001b[0m         scoring\u001b[39m=\u001b[39m\u001b[39m'\u001b[39m\u001b[39mneg_root_mean_squared_error\u001b[39m\u001b[39m'\u001b[39m,\n\u001b[1;32m   (...)\u001b[0m\n\u001b[0;32m      <a href='vscode-notebook-cell:/c%3A/Data/practicum/data_science/price_auto/price_auto.ipynb#Y341sZmlsZQ%3D%3D?line=6'>7</a>\u001b[0m         return_train_score\u001b[39m=\u001b[39m\u001b[39mTrue\u001b[39;00m,\n\u001b[0;32m      <a href='vscode-notebook-cell:/c%3A/Data/practicum/data_science/price_auto/price_auto.ipynb#Y341sZmlsZQ%3D%3D?line=7'>8</a>\u001b[0m     )\n\u001b[1;32m----> <a href='vscode-notebook-cell:/c%3A/Data/practicum/data_science/price_auto/price_auto.ipynb#Y341sZmlsZQ%3D%3D?line=8'>9</a>\u001b[0m     gscv\u001b[39m.\u001b[39mfit(features, target, \u001b[39m*\u001b[39m\u001b[39m*\u001b[39mfit_params)\n\u001b[0;32m     <a href='vscode-notebook-cell:/c%3A/Data/practicum/data_science/price_auto/price_auto.ipynb#Y341sZmlsZQ%3D%3D?line=9'>10</a>\u001b[0m     \u001b[39mreturn\u001b[39;00m pd\u001b[39m.\u001b[39mDataFrame(gscv\u001b[39m.\u001b[39mcv_results_)\u001b[39m.\u001b[39msort_values(\n\u001b[0;32m     <a href='vscode-notebook-cell:/c%3A/Data/practicum/data_science/price_auto/price_auto.ipynb#Y341sZmlsZQ%3D%3D?line=10'>11</a>\u001b[0m         by\u001b[39m=\u001b[39m\u001b[39m'\u001b[39m\u001b[39mmean_test_score\u001b[39m\u001b[39m'\u001b[39m, ascending\u001b[39m=\u001b[39m\u001b[39mFalse\u001b[39;00m\n\u001b[0;32m     <a href='vscode-notebook-cell:/c%3A/Data/practicum/data_science/price_auto/price_auto.ipynb#Y341sZmlsZQ%3D%3D?line=11'>12</a>\u001b[0m     )\n",
      "File \u001b[1;32mc:\\Data\\practicum\\data_science\\price_auto\\venv\\lib\\site-packages\\sklearn\\utils\\validation.py:63\u001b[0m, in \u001b[0;36m_deprecate_positional_args.<locals>._inner_deprecate_positional_args.<locals>.inner_f\u001b[1;34m(*args, **kwargs)\u001b[0m\n\u001b[0;32m     61\u001b[0m extra_args \u001b[39m=\u001b[39m \u001b[39mlen\u001b[39m(args) \u001b[39m-\u001b[39m \u001b[39mlen\u001b[39m(all_args)\n\u001b[0;32m     62\u001b[0m \u001b[39mif\u001b[39;00m extra_args \u001b[39m<\u001b[39m\u001b[39m=\u001b[39m \u001b[39m0\u001b[39m:\n\u001b[1;32m---> 63\u001b[0m     \u001b[39mreturn\u001b[39;00m f(\u001b[39m*\u001b[39margs, \u001b[39m*\u001b[39m\u001b[39m*\u001b[39mkwargs)\n\u001b[0;32m     65\u001b[0m \u001b[39m# extra_args > 0\u001b[39;00m\n\u001b[0;32m     66\u001b[0m args_msg \u001b[39m=\u001b[39m [\u001b[39m'\u001b[39m\u001b[39m{}\u001b[39;00m\u001b[39m=\u001b[39m\u001b[39m{}\u001b[39;00m\u001b[39m'\u001b[39m\u001b[39m.\u001b[39mformat(name, arg)\n\u001b[0;32m     67\u001b[0m             \u001b[39mfor\u001b[39;00m name, arg \u001b[39min\u001b[39;00m \u001b[39mzip\u001b[39m(kwonly_args[:extra_args],\n\u001b[0;32m     68\u001b[0m                                  args[\u001b[39m-\u001b[39mextra_args:])]\n",
      "File \u001b[1;32mc:\\Data\\practicum\\data_science\\price_auto\\venv\\lib\\site-packages\\sklearn\\model_selection\\_search.py:841\u001b[0m, in \u001b[0;36mBaseSearchCV.fit\u001b[1;34m(self, X, y, groups, **fit_params)\u001b[0m\n\u001b[0;32m    835\u001b[0m     results \u001b[39m=\u001b[39m \u001b[39mself\u001b[39m\u001b[39m.\u001b[39m_format_results(\n\u001b[0;32m    836\u001b[0m         all_candidate_params, n_splits, all_out,\n\u001b[0;32m    837\u001b[0m         all_more_results)\n\u001b[0;32m    839\u001b[0m     \u001b[39mreturn\u001b[39;00m results\n\u001b[1;32m--> 841\u001b[0m \u001b[39mself\u001b[39;49m\u001b[39m.\u001b[39;49m_run_search(evaluate_candidates)\n\u001b[0;32m    843\u001b[0m \u001b[39m# multimetric is determined here because in the case of a callable\u001b[39;00m\n\u001b[0;32m    844\u001b[0m \u001b[39m# self.scoring the return type is only known after calling\u001b[39;00m\n\u001b[0;32m    845\u001b[0m first_test_score \u001b[39m=\u001b[39m all_out[\u001b[39m0\u001b[39m][\u001b[39m'\u001b[39m\u001b[39mtest_scores\u001b[39m\u001b[39m'\u001b[39m]\n",
      "File \u001b[1;32mc:\\Data\\practicum\\data_science\\price_auto\\venv\\lib\\site-packages\\sklearn\\model_selection\\_search.py:1288\u001b[0m, in \u001b[0;36mGridSearchCV._run_search\u001b[1;34m(self, evaluate_candidates)\u001b[0m\n\u001b[0;32m   1286\u001b[0m \u001b[39mdef\u001b[39;00m \u001b[39m_run_search\u001b[39m(\u001b[39mself\u001b[39m, evaluate_candidates):\n\u001b[0;32m   1287\u001b[0m \u001b[39m    \u001b[39m\u001b[39m\"\"\"Search all candidates in param_grid\"\"\"\u001b[39;00m\n\u001b[1;32m-> 1288\u001b[0m     evaluate_candidates(ParameterGrid(\u001b[39mself\u001b[39;49m\u001b[39m.\u001b[39;49mparam_grid))\n",
      "File \u001b[1;32mc:\\Data\\practicum\\data_science\\price_auto\\venv\\lib\\site-packages\\sklearn\\model_selection\\_search.py:795\u001b[0m, in \u001b[0;36mBaseSearchCV.fit.<locals>.evaluate_candidates\u001b[1;34m(candidate_params, cv, more_results)\u001b[0m\n\u001b[0;32m    790\u001b[0m \u001b[39mif\u001b[39;00m \u001b[39mself\u001b[39m\u001b[39m.\u001b[39mverbose \u001b[39m>\u001b[39m \u001b[39m0\u001b[39m:\n\u001b[0;32m    791\u001b[0m     \u001b[39mprint\u001b[39m(\u001b[39m\"\u001b[39m\u001b[39mFitting \u001b[39m\u001b[39m{0}\u001b[39;00m\u001b[39m folds for each of \u001b[39m\u001b[39m{1}\u001b[39;00m\u001b[39m candidates,\u001b[39m\u001b[39m\"\u001b[39m\n\u001b[0;32m    792\u001b[0m           \u001b[39m\"\u001b[39m\u001b[39m totalling \u001b[39m\u001b[39m{2}\u001b[39;00m\u001b[39m fits\u001b[39m\u001b[39m\"\u001b[39m\u001b[39m.\u001b[39mformat(\n\u001b[0;32m    793\u001b[0m               n_splits, n_candidates, n_candidates \u001b[39m*\u001b[39m n_splits))\n\u001b[1;32m--> 795\u001b[0m out \u001b[39m=\u001b[39m parallel(delayed(_fit_and_score)(clone(base_estimator),\n\u001b[0;32m    796\u001b[0m                                        X, y,\n\u001b[0;32m    797\u001b[0m                                        train\u001b[39m=\u001b[39;49mtrain, test\u001b[39m=\u001b[39;49mtest,\n\u001b[0;32m    798\u001b[0m                                        parameters\u001b[39m=\u001b[39;49mparameters,\n\u001b[0;32m    799\u001b[0m                                        split_progress\u001b[39m=\u001b[39;49m(\n\u001b[0;32m    800\u001b[0m                                            split_idx,\n\u001b[0;32m    801\u001b[0m                                            n_splits),\n\u001b[0;32m    802\u001b[0m                                        candidate_progress\u001b[39m=\u001b[39;49m(\n\u001b[0;32m    803\u001b[0m                                            cand_idx,\n\u001b[0;32m    804\u001b[0m                                            n_candidates),\n\u001b[0;32m    805\u001b[0m                                        \u001b[39m*\u001b[39;49m\u001b[39m*\u001b[39;49mfit_and_score_kwargs)\n\u001b[0;32m    806\u001b[0m                \u001b[39mfor\u001b[39;49;00m (cand_idx, parameters),\n\u001b[0;32m    807\u001b[0m                    (split_idx, (train, test)) \u001b[39min\u001b[39;49;00m product(\n\u001b[0;32m    808\u001b[0m                    \u001b[39menumerate\u001b[39;49m(candidate_params),\n\u001b[0;32m    809\u001b[0m                    \u001b[39menumerate\u001b[39;49m(cv\u001b[39m.\u001b[39;49msplit(X, y, groups))))\n\u001b[0;32m    811\u001b[0m \u001b[39mif\u001b[39;00m \u001b[39mlen\u001b[39m(out) \u001b[39m<\u001b[39m \u001b[39m1\u001b[39m:\n\u001b[0;32m    812\u001b[0m     \u001b[39mraise\u001b[39;00m \u001b[39mValueError\u001b[39;00m(\u001b[39m'\u001b[39m\u001b[39mNo fits were performed. \u001b[39m\u001b[39m'\u001b[39m\n\u001b[0;32m    813\u001b[0m                      \u001b[39m'\u001b[39m\u001b[39mWas the CV iterator empty? \u001b[39m\u001b[39m'\u001b[39m\n\u001b[0;32m    814\u001b[0m                      \u001b[39m'\u001b[39m\u001b[39mWere there no candidates?\u001b[39m\u001b[39m'\u001b[39m)\n",
      "File \u001b[1;32mc:\\Data\\practicum\\data_science\\price_auto\\venv\\lib\\site-packages\\joblib\\parallel.py:1952\u001b[0m, in \u001b[0;36mParallel.__call__\u001b[1;34m(self, iterable)\u001b[0m\n\u001b[0;32m   1946\u001b[0m \u001b[39m# The first item from the output is blank, but it makes the interpreter\u001b[39;00m\n\u001b[0;32m   1947\u001b[0m \u001b[39m# progress until it enters the Try/Except block of the generator and\u001b[39;00m\n\u001b[0;32m   1948\u001b[0m \u001b[39m# reach the first `yield` statement. This starts the aynchronous\u001b[39;00m\n\u001b[0;32m   1949\u001b[0m \u001b[39m# dispatch of the tasks to the workers.\u001b[39;00m\n\u001b[0;32m   1950\u001b[0m \u001b[39mnext\u001b[39m(output)\n\u001b[1;32m-> 1952\u001b[0m \u001b[39mreturn\u001b[39;00m output \u001b[39mif\u001b[39;00m \u001b[39mself\u001b[39m\u001b[39m.\u001b[39mreturn_generator \u001b[39melse\u001b[39;00m \u001b[39mlist\u001b[39;49m(output)\n",
      "File \u001b[1;32mc:\\Data\\practicum\\data_science\\price_auto\\venv\\lib\\site-packages\\joblib\\parallel.py:1595\u001b[0m, in \u001b[0;36mParallel._get_outputs\u001b[1;34m(self, iterator, pre_dispatch)\u001b[0m\n\u001b[0;32m   1592\u001b[0m     \u001b[39myield\u001b[39;00m\n\u001b[0;32m   1594\u001b[0m     \u001b[39mwith\u001b[39;00m \u001b[39mself\u001b[39m\u001b[39m.\u001b[39m_backend\u001b[39m.\u001b[39mretrieval_context():\n\u001b[1;32m-> 1595\u001b[0m         \u001b[39myield from\u001b[39;00m \u001b[39mself\u001b[39m\u001b[39m.\u001b[39m_retrieve()\n\u001b[0;32m   1597\u001b[0m \u001b[39mexcept\u001b[39;00m \u001b[39mGeneratorExit\u001b[39;00m:\n\u001b[0;32m   1598\u001b[0m     \u001b[39m# The generator has been garbage collected before being fully\u001b[39;00m\n\u001b[0;32m   1599\u001b[0m     \u001b[39m# consumed. This aborts the remaining tasks if possible and warn\u001b[39;00m\n\u001b[0;32m   1600\u001b[0m     \u001b[39m# the user if necessary.\u001b[39;00m\n\u001b[0;32m   1601\u001b[0m     \u001b[39mself\u001b[39m\u001b[39m.\u001b[39m_exception \u001b[39m=\u001b[39m \u001b[39mTrue\u001b[39;00m\n",
      "File \u001b[1;32mc:\\Data\\practicum\\data_science\\price_auto\\venv\\lib\\site-packages\\joblib\\parallel.py:1707\u001b[0m, in \u001b[0;36mParallel._retrieve\u001b[1;34m(self)\u001b[0m\n\u001b[0;32m   1702\u001b[0m \u001b[39m# If the next job is not ready for retrieval yet, we just wait for\u001b[39;00m\n\u001b[0;32m   1703\u001b[0m \u001b[39m# async callbacks to progress.\u001b[39;00m\n\u001b[0;32m   1704\u001b[0m \u001b[39mif\u001b[39;00m ((\u001b[39mlen\u001b[39m(\u001b[39mself\u001b[39m\u001b[39m.\u001b[39m_jobs) \u001b[39m==\u001b[39m \u001b[39m0\u001b[39m) \u001b[39mor\u001b[39;00m\n\u001b[0;32m   1705\u001b[0m     (\u001b[39mself\u001b[39m\u001b[39m.\u001b[39m_jobs[\u001b[39m0\u001b[39m]\u001b[39m.\u001b[39mget_status(\n\u001b[0;32m   1706\u001b[0m         timeout\u001b[39m=\u001b[39m\u001b[39mself\u001b[39m\u001b[39m.\u001b[39mtimeout) \u001b[39m==\u001b[39m TASK_PENDING)):\n\u001b[1;32m-> 1707\u001b[0m     time\u001b[39m.\u001b[39;49msleep(\u001b[39m0.01\u001b[39;49m)\n\u001b[0;32m   1708\u001b[0m     \u001b[39mcontinue\u001b[39;00m\n\u001b[0;32m   1710\u001b[0m \u001b[39m# We need to be careful: the job list can be filling up as\u001b[39;00m\n\u001b[0;32m   1711\u001b[0m \u001b[39m# we empty it and Python list are not thread-safe by\u001b[39;00m\n\u001b[0;32m   1712\u001b[0m \u001b[39m# default hence the use of the lock\u001b[39;00m\n",
      "\u001b[1;31mKeyboardInterrupt\u001b[0m: "
     ]
    }
   ],
   "source": [
    "%%time\n",
    "result_cat_boost_regressor_config = research_model(\n",
    "    model_cat_boost_regressor, gscv_cat_boost_regressor_config, features_train_ohe, target_train\n",
    ")"
   ]
  },
  {
   "cell_type": "code",
   "execution_count": null,
   "metadata": {},
   "outputs": [],
   "source": [
    "result_cat_boost_regressor_config[['params', 'mean_train_score', 'mean_test_score']].head(3)"
   ]
  },
  {
   "cell_type": "markdown",
   "metadata": {},
   "source": [
    "params\tmean_train_score\tmean_test_score  \n",
    "119\t{'learning_rate': 0.8, 'max_depth': 5, 'n_estimators': 400}\t-1278.753542\t-1365.457625  \n",
    "79\t{'learning_rate': 0.5, 'max_depth': 5, 'n_estimators': 400}\t-1305.508150\t-1367.887442  \n",
    "118\t{'learning_rate': 0.8, 'max_depth': 5, 'n_estimators': 350}\t-1290.513183\t-1368.972890  "
   ]
  },
  {
   "cell_type": "code",
   "execution_count": null,
   "metadata": {},
   "outputs": [],
   "source": [
    "print(f'Модель с лучшем качеством имеет параметры - {result_cat_boost_regressor_config.loc[119, \"params\"]}')"
   ]
  },
  {
   "cell_type": "code",
   "execution_count": null,
   "metadata": {},
   "outputs": [],
   "source": [
    "rmse_cat_boost_regressor = -1 * result_cat_boost_regressor_config.loc[119, \"mean_test_score\"]\n",
    "print(f'Качество лучшей модели: RMSE = {rmse_cat_boost_regressor}')"
   ]
  },
  {
   "cell_type": "markdown",
   "metadata": {},
   "source": [
    "##### Проверям скорость обучения и предсказания"
   ]
  },
  {
   "cell_type": "code",
   "execution_count": null,
   "metadata": {},
   "outputs": [],
   "source": [
    "model_cat_boost_regressor = CatBoostRegressor(\n",
    "    random_state=RANDOM_STATE_FOR_CAT_BOOST,\n",
    "    verbose=False, \n",
    "    learning_rate=.8,\n",
    "    max_depth=5,\n",
    "    n_estimators=400,\n",
    ")"
   ]
  },
  {
   "cell_type": "code",
   "execution_count": null,
   "metadata": {},
   "outputs": [],
   "source": [
    "%%time\n",
    "model_cat_boost_regressor.fit(features_train_ohe, target_train)"
   ]
  },
  {
   "cell_type": "markdown",
   "metadata": {},
   "source": [
    "Для предсказания используем тренировочную выборку, так как сейчас нам не важно качество модели. Цель - изучить время работы модели"
   ]
  },
  {
   "cell_type": "code",
   "execution_count": null,
   "metadata": {},
   "outputs": [],
   "source": [
    "%%time\n",
    "predicted = model_cat_boost_regressor.predict(features_train_ohe)"
   ]
  },
  {
   "cell_type": "markdown",
   "metadata": {},
   "source": [
    "Обучение модели занимает `50.3 c`, предсказание занимает `0.66 c`"
   ]
  },
  {
   "cell_type": "markdown",
   "metadata": {},
   "source": [
    "#### Использование признаков без кодирования OHE"
   ]
  },
  {
   "cell_type": "markdown",
   "metadata": {},
   "source": [
    "##### Проверяем качество модели"
   ]
  },
  {
   "cell_type": "code",
   "execution_count": null,
   "metadata": {},
   "outputs": [],
   "source": [
    "model_cat_boost_regressor_without_ohe = CatBoostRegressor(\n",
    "    random_state=RANDOM_STATE_FOR_CAT_BOOST,\n",
    "    verbose=False,\n",
    "    cat_features=features_categorical\n",
    ")"
   ]
  },
  {
   "cell_type": "code",
   "execution_count": null,
   "metadata": {},
   "outputs": [],
   "source": [
    "%%time\n",
    "result_cat_boost_regressor_config_without_ohe = research_model(\n",
    "    model_cat_boost_regressor_without_ohe, gscv_cat_boost_regressor_config, features_train, target_train\n",
    ")"
   ]
  },
  {
   "cell_type": "code",
   "execution_count": null,
   "metadata": {},
   "outputs": [],
   "source": [
    "result_cat_boost_regressor_config_without_ohe[['params', 'mean_train_score', 'mean_test_score']].head(3)"
   ]
  },
  {
   "cell_type": "markdown",
   "metadata": {},
   "source": [
    "params\tmean_train_score\tmean_test_score  \n",
    "79\t{'learning_rate': 0.5, 'max_depth': 5, 'n_estimators': 400}\t-1325.658623\t-1379.560517  \n",
    "78\t{'learning_rate': 0.5, 'max_depth': 5, 'n_estimators': 350}\t-1333.766341\t-1383.363397  \n",
    "77\t{'learning_rate': 0.5, 'max_depth': 5, 'n_estimators': 300}\t-1343.083669\t-1388.572968  "
   ]
  },
  {
   "cell_type": "code",
   "execution_count": null,
   "metadata": {},
   "outputs": [],
   "source": [
    "print(f'Модель с лучшем качеством имеет параметры - {result_cat_boost_regressor_config_without_ohe.loc[79, \"params\"]}')"
   ]
  },
  {
   "cell_type": "code",
   "execution_count": null,
   "metadata": {},
   "outputs": [],
   "source": [
    "rmse_cat_boost_regressor_config_without_ohe= -1 * result_cat_boost_regressor_config_without_ohe.loc[79, \"mean_test_score\"]\n",
    "print(f'Качество лучшей модели: RMSE = {rmse_cat_boost_regressor_config_without_ohe}')"
   ]
  },
  {
   "cell_type": "markdown",
   "metadata": {},
   "source": [
    "##### Проверям скорость обучения и предсказания"
   ]
  },
  {
   "cell_type": "code",
   "execution_count": null,
   "metadata": {},
   "outputs": [],
   "source": [
    "model_cat_boost_regressor_without_ohe = CatBoostRegressor(\n",
    "    random_state=RANDOM_STATE_FOR_CAT_BOOST,\n",
    "    verbose=False,\n",
    "    cat_features=features_categorical,\n",
    "    learning_rate=.5,\n",
    "    max_depth=5,\n",
    "    n_estimators=400,\n",
    ")"
   ]
  },
  {
   "cell_type": "code",
   "execution_count": null,
   "metadata": {},
   "outputs": [],
   "source": [
    "%%time\n",
    "model_cat_boost_regressor_without_ohe.fit(features_train, target_train)"
   ]
  },
  {
   "cell_type": "markdown",
   "metadata": {},
   "source": [
    "Для предсказания используем тренировочную выборку, так как сейчас нам не важно качество модели. Цель - изучить время работы модели"
   ]
  },
  {
   "cell_type": "code",
   "execution_count": null,
   "metadata": {},
   "outputs": [],
   "source": [
    "%%time\n",
    "predicted = model_cat_boost_regressor_without_ohe.predict(features_train)"
   ]
  },
  {
   "cell_type": "markdown",
   "metadata": {},
   "source": [
    "Обучение модели занимает `169 c`, предсказание занимает `0.91 c`"
   ]
  },
  {
   "cell_type": "markdown",
   "metadata": {},
   "source": [
    "## Анализ моделей"
   ]
  },
  {
   "cell_type": "markdown",
   "metadata": {},
   "source": [
    "Составим таблицу с результатами"
   ]
  },
  {
   "cell_type": "code",
   "execution_count": null,
   "metadata": {},
   "outputs": [],
   "source": [
    "index = [\n",
    "    'LinearRegression',\n",
    "    'LightGBMRegressor с OHE',\n",
    "    'LightGBMRegressor без OHE',\n",
    "    'CatBoostRegressor с OHE',\n",
    "    'CatBoostRegressor без OHE',\n",
    "]\n",
    "data = {\n",
    "    'RMSE' : [\n",
    "        rmse_linear_model,\n",
    "        rmse_lgbm_regressor,\n",
    "        rmse_lgbm_regressor_without_ohe,\n",
    "        rmse_cat_boost_regressor,\n",
    "        rmse_cat_boost_regressor_config_without_ohe\n",
    "    ],\n",
    "    'Training time' : [\n",
    "        26,\n",
    "        27.2,\n",
    "        24,\n",
    "        50.3,\n",
    "        169,\n",
    "    ],\n",
    "    'Prediction time' : [\n",
    "        .45,\n",
    "        12.1,\n",
    "        12.1,\n",
    "        0.66,\n",
    "        0.91\n",
    "    ]\n",
    "}\n",
    "result = pd.DataFrame(data, index=index)\n",
    "result"
   ]
  },
  {
   "cell_type": "markdown",
   "metadata": {},
   "source": [
    "Из таблицы с результатами видно, что лучшее качество имеет модель LightGBMRegressor без кодирования OHE - `RMSE=1304.80`. Также данная модель имеет самое быстрое обучение - `24 с`. Однако эта модель значительно уступает по времени предсказания модели CatBoostRegressor, которая незанчительно уступает по качеству и дольше обучается"
   ]
  },
  {
   "cell_type": "markdown",
   "metadata": {},
   "source": [
    "### Проверка модели на тестовой выборке"
   ]
  },
  {
   "cell_type": "markdown",
   "metadata": {},
   "source": [
    "Так как нет однозначного варианта выбора модели, решил проверить качество на тестовой выборке для 2 моделей: LightGBMRegressor без кодирования OHE и CatBoostRegressor с OHE. Дальше пусть уже заказчик решает, что ему важнее"
   ]
  },
  {
   "cell_type": "code",
   "execution_count": null,
   "metadata": {},
   "outputs": [
    {
     "name": "stdout",
     "output_type": "stream",
     "text": [
      "Для модели CatBoostRegressor на тестовой выборке RMSE=1638.62\n"
     ]
    }
   ],
   "source": [
    "model_cat_boost_regressor = CatBoostRegressor(\n",
    "    random_state=RANDOM_STATE_FOR_CAT_BOOST,\n",
    "    verbose=False, \n",
    "    learning_rate=.8,\n",
    "    max_depth=5,\n",
    "    n_estimators=400,\n",
    ")\n",
    "model_cat_boost_regressor.fit(features_train_ohe, target_train)\n",
    "predicted = model_cat_boost_regressor.predict(features_test_ohe)\n",
    "rmse_catboost = mean_squared_error(target_test, predicted, squared=False)\n",
    "print(f'Для модели CatBoostRegressor на тестовой выборке RMSE={rmse_catboost:.2f}')"
   ]
  },
  {
   "cell_type": "code",
   "execution_count": null,
   "metadata": {},
   "outputs": [
    {
     "name": "stdout",
     "output_type": "stream",
     "text": [
      "[LightGBM] [Info] Auto-choosing row-wise multi-threading, the overhead of testing was 0.003218 seconds.\n",
      "You can set `force_row_wise=true` to remove the overhead.\n",
      "And if memory is not enough, you can set `force_col_wise=true`.\n",
      "[LightGBM] [Info] Total Bins 641\n",
      "[LightGBM] [Info] Number of data points in the train set: 256967, number of used features: 9\n",
      "[LightGBM] [Info] Start training from score 4719.405803\n",
      "Для модели LGBMRegressor на тестовой выборке RMSE=1547.47\n"
     ]
    }
   ],
   "source": [
    "model_lgbm_regressor = LGBMRegressor(\n",
    "    n_jobs=-1,\n",
    "    random_state=RANROM_STATE,\n",
    "    learning_rate=.1,\n",
    "    max_depth=-1,\n",
    "    n_estimators=300,\n",
    "    num_leaves=200\n",
    ")\n",
    "model_lgbm_regressor.fit(features_train, target_train, categorical_feature=features_categorical)\n",
    "predicted = model_lgbm_regressor.predict(features_test)\n",
    "rmse_lgbm = mean_squared_error(target_test, predicted, squared=False)\n",
    "print(f'Для модели LGBMRegressor на тестовой выборке RMSE={rmse_lgbm:.2f}')\n",
    "!"
   ]
  },
  {
   "cell_type": "markdown",
   "metadata": {},
   "source": [
    "\n",
    "<div class=\"alert alert-block alert-success\">\n",
    "<b>Успех:</b> Отлично проделан шаг\n",
    "    \n",
    "- Радует количество рассмотренных моделей.   \n",
    "- Молодец, что попробовал внутренний метод кодировки данных\n",
    "- Кросс-валидационные методы успешно использованы. \n",
    "- Все метрики интересующие заказчика корректно вычислены и проанализированы. \n",
    "- Выбор лучшей модели обоснован. \n",
    "- Всегда приятно наблюдать информативную таблицу.\n",
    "</div>\n",
    "\n"
   ]
  },
  {
   "cell_type": "markdown",
   "metadata": {},
   "source": [
    "\n",
    "<div class=\"alert alert-block alert-danger\">\n",
    "<b>Ошибка:</b> После анализа и выбора одной наилучшей модели, должно идти  ее тестирование. \n",
    "</div>\n"
   ]
  },
  {
   "cell_type": "markdown",
   "metadata": {},
   "source": [
    "## Общий вывод"
   ]
  },
  {
   "cell_type": "markdown",
   "metadata": {},
   "source": [
    "В ходе выполнения работы был проведен исследовательский анализ данных. Датасет был очищен от выбросов и пропусков. В результате предобработки данных удалось сохранить `85.84%` данных.  \n",
    "Были исследованы 3 модели:\n",
    "1. LinearRegression  \n",
    "2. LightGBMRegressor  \n",
    "3. CatBoostRegressor  \n",
    "  \n",
    "Модели LightGBMRegressor и CatBoostRegressor были обучены с OHE кодирование категориальных признаков и без OHE кодирования.  \n",
    "Были получены следующие результаты:\n",
    "1. Лучшее качество имеет модель LightGBMRegressor без OHE - `RMSE=1304.80` на кросс-валидации при обучении и `RMSE=1545.43` на тестовой выборке. Также данная модель имеет маленькое время обучения - `24 с`. Однако предсказания модель делает дольше других моделей (`12.1 c`).  \n",
    "2. Модель CatBoostRegressor с OHE немного уступает в качестве  - `RMSE=1365.46` на кросс-валидации при обучении и `RMSE=1638.62`. Данная модель дольше обучается (`50.3 c`), но значительно превосходит модель LightGBMRegressor по скорости предсказания (`0.66 c`)  \n",
    "  \n",
    "Если очень важно качество предсказаний и нет ресурсов для долгого обучния модели, то следует выбрать модель LightGBMRegressor без OHE. Если же качество предсказание не сильно важно, но важна скорость выдачи предсказаний, то следует выбрать модель CatBoostRegressor с OHE."
   ]
  },
  {
   "cell_type": "markdown",
   "metadata": {},
   "source": [
    "<div class=\"alert alert-block alert-info\">\n",
    "<b>Совет:</b>  Для понимания, а какие в итоге факторы важны при моделировании, можно выводить их важность, использую feature_importances_, ну и график заодно. Это будет смотреться очнь здорово: результативная метрика и график важности факторов)))\n",
    "    \n",
    "</div>\n"
   ]
  },
  {
   "cell_type": "markdown",
   "metadata": {},
   "source": [
    "## Чек-лист проверки"
   ]
  },
  {
   "cell_type": "markdown",
   "metadata": {},
   "source": [
    "Поставьте 'x' в выполненных пунктах. Далее нажмите Shift+Enter."
   ]
  },
  {
   "cell_type": "markdown",
   "metadata": {},
   "source": [
    "- [x]  Jupyter Notebook открыт\n",
    "- [x]  Весь код выполняется без ошибок\n",
    "- [x]  Ячейки с кодом расположены в порядке исполнения\n",
    "- [x]  Выполнена загрузка и подготовка данных\n",
    "- [x]  Выполнено обучение моделей\n",
    "- [x]  Есть анализ скорости работы и качества моделей"
   ]
  },
  {
   "cell_type": "code",
   "execution_count": null,
   "metadata": {},
   "outputs": [],
   "source": []
  }
 ],
 "metadata": {
  "ExecuteTimeLog": [
   {
    "duration": 435,
    "start_time": "2023-11-13T18:41:38.122Z"
   },
   {
    "duration": 1112,
    "start_time": "2023-11-13T18:41:50.517Z"
   },
   {
    "duration": 178,
    "start_time": "2023-11-13T18:46:07.334Z"
   },
   {
    "duration": 51,
    "start_time": "2023-11-13T19:02:34.154Z"
   },
   {
    "duration": 443,
    "start_time": "2023-11-13T19:02:38.212Z"
   },
   {
    "duration": 2918,
    "start_time": "2023-11-13T19:02:38.657Z"
   },
   {
    "duration": 189,
    "start_time": "2023-11-13T19:02:41.577Z"
   },
   {
    "duration": 24,
    "start_time": "2023-11-13T19:02:41.768Z"
   },
   {
    "duration": 22,
    "start_time": "2023-11-13T19:04:39.703Z"
   },
   {
    "duration": 23,
    "start_time": "2023-11-13T19:05:00.382Z"
   },
   {
    "duration": 39,
    "start_time": "2023-11-13T19:05:09.520Z"
   },
   {
    "duration": 21,
    "start_time": "2023-11-13T19:06:20.684Z"
   },
   {
    "duration": 34,
    "start_time": "2023-11-13T19:19:30.506Z"
   },
   {
    "duration": 31,
    "start_time": "2023-11-13T19:20:00.472Z"
   },
   {
    "duration": 22,
    "start_time": "2023-11-13T19:20:09.800Z"
   },
   {
    "duration": 29,
    "start_time": "2023-11-13T19:20:52.866Z"
   },
   {
    "duration": 33,
    "start_time": "2023-11-13T19:21:01.306Z"
   },
   {
    "duration": 9,
    "start_time": "2023-11-13T19:21:25.580Z"
   },
   {
    "duration": 47,
    "start_time": "2023-11-13T19:22:55.477Z"
   },
   {
    "duration": 3,
    "start_time": "2023-11-13T21:47:11.993Z"
   },
   {
    "duration": 71,
    "start_time": "2023-11-13T21:50:41.048Z"
   },
   {
    "duration": 3,
    "start_time": "2023-11-13T21:50:46.353Z"
   },
   {
    "duration": 14,
    "start_time": "2023-11-13T21:50:52.915Z"
   },
   {
    "duration": 3,
    "start_time": "2023-11-13T21:51:06.444Z"
   },
   {
    "duration": 13,
    "start_time": "2023-11-13T21:51:08.085Z"
   },
   {
    "duration": 3,
    "start_time": "2023-11-13T21:54:46.557Z"
   },
   {
    "duration": 255,
    "start_time": "2023-11-13T21:54:48.749Z"
   },
   {
    "duration": 4,
    "start_time": "2023-11-13T21:57:45.500Z"
   },
   {
    "duration": 380,
    "start_time": "2023-11-13T21:57:46.210Z"
   },
   {
    "duration": 136,
    "start_time": "2023-11-13T21:58:24.240Z"
   },
   {
    "duration": 174,
    "start_time": "2023-11-13T21:59:04.041Z"
   },
   {
    "duration": 162,
    "start_time": "2023-11-13T21:59:11.028Z"
   },
   {
    "duration": 137,
    "start_time": "2023-11-13T22:00:03.904Z"
   },
   {
    "duration": 167,
    "start_time": "2023-11-13T22:00:11.084Z"
   },
   {
    "duration": 135,
    "start_time": "2023-11-13T22:01:09.288Z"
   },
   {
    "duration": 142,
    "start_time": "2023-11-13T22:01:31.878Z"
   },
   {
    "duration": 4,
    "start_time": "2023-11-13T22:01:53.525Z"
   },
   {
    "duration": 383,
    "start_time": "2023-11-13T22:02:13.503Z"
   },
   {
    "duration": 5,
    "start_time": "2023-11-13T22:03:04.532Z"
   },
   {
    "duration": 4,
    "start_time": "2023-11-13T22:03:05.317Z"
   },
   {
    "duration": 860,
    "start_time": "2023-11-13T22:03:05.616Z"
   },
   {
    "duration": 947,
    "start_time": "2023-11-13T22:05:08.427Z"
   },
   {
    "duration": 5,
    "start_time": "2023-11-13T22:09:14.377Z"
   },
   {
    "duration": 1366,
    "start_time": "2023-11-13T22:09:14.939Z"
   },
   {
    "duration": 4,
    "start_time": "2023-11-13T22:10:44.175Z"
   },
   {
    "duration": 1388,
    "start_time": "2023-11-13T22:10:44.651Z"
   },
   {
    "duration": 5,
    "start_time": "2023-11-13T22:15:10.116Z"
   },
   {
    "duration": 1084,
    "start_time": "2023-11-13T22:15:10.924Z"
   },
   {
    "duration": 5,
    "start_time": "2023-11-13T22:16:45.690Z"
   },
   {
    "duration": 5,
    "start_time": "2023-11-13T22:16:47.146Z"
   },
   {
    "duration": 1318,
    "start_time": "2023-11-13T22:16:47.452Z"
   },
   {
    "duration": 9,
    "start_time": "2023-11-13T22:54:47.121Z"
   },
   {
    "duration": 65,
    "start_time": "2023-11-13T22:54:58.902Z"
   },
   {
    "duration": 17,
    "start_time": "2023-11-13T22:55:39.993Z"
   },
   {
    "duration": 34,
    "start_time": "2023-11-13T22:56:21.762Z"
   },
   {
    "duration": 48,
    "start_time": "2023-11-13T22:56:56.337Z"
   },
   {
    "duration": 9,
    "start_time": "2023-11-14T11:25:24.114Z"
   },
   {
    "duration": 68,
    "start_time": "2023-11-14T11:25:57.599Z"
   },
   {
    "duration": 1381,
    "start_time": "2023-11-14T11:26:02.662Z"
   },
   {
    "duration": 1107,
    "start_time": "2023-11-14T11:26:04.045Z"
   },
   {
    "duration": 195,
    "start_time": "2023-11-14T11:26:05.154Z"
   },
   {
    "duration": 7,
    "start_time": "2023-11-14T11:26:05.352Z"
   },
   {
    "duration": 1376,
    "start_time": "2023-11-14T11:26:05.361Z"
   },
   {
    "duration": 5,
    "start_time": "2023-11-14T11:26:06.741Z"
   },
   {
    "duration": 244,
    "start_time": "2023-11-14T11:26:06.747Z"
   },
   {
    "duration": 4,
    "start_time": "2023-11-14T11:27:21.300Z"
   },
   {
    "duration": 26,
    "start_time": "2023-11-14T11:27:21.856Z"
   },
   {
    "duration": 2,
    "start_time": "2023-11-14T11:27:44.432Z"
   },
   {
    "duration": 865,
    "start_time": "2023-11-14T11:27:44.573Z"
   },
   {
    "duration": 157,
    "start_time": "2023-11-14T11:27:45.439Z"
   },
   {
    "duration": 5,
    "start_time": "2023-11-14T11:27:45.598Z"
   },
   {
    "duration": 1265,
    "start_time": "2023-11-14T11:27:45.605Z"
   },
   {
    "duration": 4,
    "start_time": "2023-11-14T11:27:46.872Z"
   },
   {
    "duration": 149,
    "start_time": "2023-11-14T11:27:46.878Z"
   },
   {
    "duration": 0,
    "start_time": "2023-11-14T11:27:47.029Z"
   },
   {
    "duration": 3,
    "start_time": "2023-11-14T11:27:56.806Z"
   },
   {
    "duration": 831,
    "start_time": "2023-11-14T11:27:57.000Z"
   },
   {
    "duration": 6,
    "start_time": "2023-11-14T11:29:54.970Z"
   },
   {
    "duration": 853,
    "start_time": "2023-11-14T11:29:55.389Z"
   },
   {
    "duration": 5,
    "start_time": "2023-11-14T11:29:59.658Z"
   },
   {
    "duration": 836,
    "start_time": "2023-11-14T11:30:00.207Z"
   },
   {
    "duration": 4,
    "start_time": "2023-11-14T11:30:08.816Z"
   },
   {
    "duration": 936,
    "start_time": "2023-11-14T11:30:09.093Z"
   },
   {
    "duration": 4,
    "start_time": "2023-11-14T11:31:02.739Z"
   },
   {
    "duration": 861,
    "start_time": "2023-11-14T11:31:03.310Z"
   },
   {
    "duration": 4,
    "start_time": "2023-11-14T11:31:38.936Z"
   },
   {
    "duration": 169,
    "start_time": "2023-11-14T11:31:39.431Z"
   },
   {
    "duration": 4,
    "start_time": "2023-11-14T11:31:48.836Z"
   },
   {
    "duration": 239,
    "start_time": "2023-11-14T11:31:49.428Z"
   },
   {
    "duration": 4,
    "start_time": "2023-11-14T11:33:23.683Z"
   },
   {
    "duration": 14268,
    "start_time": "2023-11-14T11:33:25.041Z"
   },
   {
    "duration": 7,
    "start_time": "2023-11-14T11:34:28.566Z"
   },
   {
    "duration": 15131,
    "start_time": "2023-11-14T11:34:29.075Z"
   },
   {
    "duration": 5,
    "start_time": "2023-11-14T11:35:30.479Z"
   },
   {
    "duration": 1083,
    "start_time": "2023-11-14T11:35:30.659Z"
   },
   {
    "duration": 5,
    "start_time": "2023-11-14T11:35:36.794Z"
   },
   {
    "duration": 1539,
    "start_time": "2023-11-14T11:35:36.944Z"
   },
   {
    "duration": 8,
    "start_time": "2023-11-14T11:35:49.558Z"
   },
   {
    "duration": 1134,
    "start_time": "2023-11-14T11:35:50.233Z"
   },
   {
    "duration": 7,
    "start_time": "2023-11-14T11:43:35.931Z"
   },
   {
    "duration": 2280,
    "start_time": "2023-11-14T11:43:37.467Z"
   },
   {
    "duration": 6,
    "start_time": "2023-11-14T11:43:51.767Z"
   },
   {
    "duration": 1149,
    "start_time": "2023-11-14T11:43:55.178Z"
   },
   {
    "duration": 4,
    "start_time": "2023-11-14T11:44:11.860Z"
   },
   {
    "duration": 1035,
    "start_time": "2023-11-14T11:44:12.259Z"
   },
   {
    "duration": 4,
    "start_time": "2023-11-14T11:45:58.618Z"
   },
   {
    "duration": 970,
    "start_time": "2023-11-14T11:45:59.933Z"
   },
   {
    "duration": 5,
    "start_time": "2023-11-14T11:46:16.294Z"
   },
   {
    "duration": 897,
    "start_time": "2023-11-14T11:46:17.266Z"
   },
   {
    "duration": 6,
    "start_time": "2023-11-14T11:46:24.149Z"
   },
   {
    "duration": 916,
    "start_time": "2023-11-14T11:46:24.303Z"
   },
   {
    "duration": 5,
    "start_time": "2023-11-14T11:47:34.004Z"
   },
   {
    "duration": 1317,
    "start_time": "2023-11-14T11:47:34.765Z"
   },
   {
    "duration": 89,
    "start_time": "2023-11-14T11:49:50.130Z"
   },
   {
    "duration": 5,
    "start_time": "2023-11-14T11:50:00.498Z"
   },
   {
    "duration": 6,
    "start_time": "2023-11-14T11:50:12.346Z"
   },
   {
    "duration": 1353,
    "start_time": "2023-11-14T11:50:13.256Z"
   },
   {
    "duration": 5,
    "start_time": "2023-11-14T11:52:32.783Z"
   },
   {
    "duration": 1296,
    "start_time": "2023-11-14T11:52:33.576Z"
   },
   {
    "duration": 4,
    "start_time": "2023-11-14T11:53:09.126Z"
   },
   {
    "duration": 1274,
    "start_time": "2023-11-14T11:53:09.519Z"
   },
   {
    "duration": 1473,
    "start_time": "2023-11-16T17:36:38.323Z"
   },
   {
    "duration": 1209,
    "start_time": "2023-11-16T17:36:39.798Z"
   },
   {
    "duration": 173,
    "start_time": "2023-11-16T17:36:41.008Z"
   },
   {
    "duration": 5,
    "start_time": "2023-11-16T17:36:41.183Z"
   },
   {
    "duration": 1621,
    "start_time": "2023-11-16T17:36:41.190Z"
   },
   {
    "duration": 5,
    "start_time": "2023-11-16T17:36:42.812Z"
   },
   {
    "duration": 1026,
    "start_time": "2023-11-16T17:36:42.819Z"
   },
   {
    "duration": 17,
    "start_time": "2023-11-16T17:36:43.847Z"
   },
   {
    "duration": 76,
    "start_time": "2023-11-16T17:36:43.866Z"
   },
   {
    "duration": 40,
    "start_time": "2023-11-16T17:36:43.945Z"
   },
   {
    "duration": 60,
    "start_time": "2023-11-16T17:36:43.987Z"
   },
   {
    "duration": 59,
    "start_time": "2023-11-16T17:38:05.050Z"
   },
   {
    "duration": 4,
    "start_time": "2023-11-16T17:39:59.263Z"
   },
   {
    "duration": 5,
    "start_time": "2023-11-16T17:40:16.307Z"
   },
   {
    "duration": 307,
    "start_time": "2023-11-16T17:40:30.107Z"
   },
   {
    "duration": 4,
    "start_time": "2023-11-16T17:40:41.646Z"
   },
   {
    "duration": 868,
    "start_time": "2023-11-16T17:40:41.976Z"
   },
   {
    "duration": 5,
    "start_time": "2023-11-16T17:41:44.772Z"
   },
   {
    "duration": 792,
    "start_time": "2023-11-16T17:41:44.962Z"
   },
   {
    "duration": 8,
    "start_time": "2023-11-16T17:42:33.481Z"
   },
   {
    "duration": 872,
    "start_time": "2023-11-16T17:42:33.659Z"
   },
   {
    "duration": 5,
    "start_time": "2023-11-16T17:43:12.942Z"
   },
   {
    "duration": 6,
    "start_time": "2023-11-16T17:46:29.892Z"
   },
   {
    "duration": 9,
    "start_time": "2023-11-16T17:46:40.848Z"
   },
   {
    "duration": 1304,
    "start_time": "2023-11-16T17:46:51.873Z"
   },
   {
    "duration": 5,
    "start_time": "2023-11-16T17:47:05.631Z"
   },
   {
    "duration": 1281,
    "start_time": "2023-11-16T17:47:06.348Z"
   },
   {
    "duration": 1182,
    "start_time": "2023-11-16T17:47:07.631Z"
   },
   {
    "duration": 5,
    "start_time": "2023-11-16T17:47:51.417Z"
   },
   {
    "duration": 1322,
    "start_time": "2023-11-16T17:47:52.034Z"
   },
   {
    "duration": 1142,
    "start_time": "2023-11-16T17:47:53.358Z"
   },
   {
    "duration": 5,
    "start_time": "2023-11-16T17:49:01.237Z"
   },
   {
    "duration": 942,
    "start_time": "2023-11-16T17:49:04.314Z"
   },
   {
    "duration": 5,
    "start_time": "2023-11-16T17:50:39.689Z"
   },
   {
    "duration": 1590,
    "start_time": "2023-11-16T17:50:40.837Z"
   },
   {
    "duration": 5,
    "start_time": "2023-11-16T17:52:07.186Z"
   },
   {
    "duration": 1156,
    "start_time": "2023-11-16T17:52:10.782Z"
   },
   {
    "duration": 5,
    "start_time": "2023-11-16T17:52:27.689Z"
   },
   {
    "duration": 966,
    "start_time": "2023-11-16T17:52:29.115Z"
   },
   {
    "duration": 5,
    "start_time": "2023-11-16T17:52:47.451Z"
   },
   {
    "duration": 976,
    "start_time": "2023-11-16T17:52:47.849Z"
   },
   {
    "duration": 888,
    "start_time": "2023-11-16T17:52:48.827Z"
   },
   {
    "duration": 5,
    "start_time": "2023-11-16T17:53:11.482Z"
   },
   {
    "duration": 4,
    "start_time": "2023-11-16T17:53:55.016Z"
   },
   {
    "duration": 4,
    "start_time": "2023-11-16T17:55:30.118Z"
   },
   {
    "duration": 4,
    "start_time": "2023-11-16T17:55:30.371Z"
   },
   {
    "duration": 4,
    "start_time": "2023-11-16T17:55:30.573Z"
   },
   {
    "duration": 1042,
    "start_time": "2023-11-16T17:55:30.579Z"
   },
   {
    "duration": 878,
    "start_time": "2023-11-16T17:55:31.623Z"
   },
   {
    "duration": 64,
    "start_time": "2023-11-16T17:55:32.503Z"
   },
   {
    "duration": 69,
    "start_time": "2023-11-16T21:21:39.696Z"
   },
   {
    "duration": 8,
    "start_time": "2023-11-16T21:21:47.283Z"
   },
   {
    "duration": 10,
    "start_time": "2023-11-16T21:21:47.476Z"
   },
   {
    "duration": 5,
    "start_time": "2023-11-16T21:21:47.738Z"
   },
   {
    "duration": 4,
    "start_time": "2023-11-16T21:21:51.697Z"
   },
   {
    "duration": 1641,
    "start_time": "2023-11-16T21:21:52.079Z"
   },
   {
    "duration": 3288,
    "start_time": "2023-11-16T21:21:53.722Z"
   },
   {
    "duration": 1736,
    "start_time": "2023-11-16T21:21:57.012Z"
   },
   {
    "duration": 3448,
    "start_time": "2023-11-16T21:22:01.941Z"
   },
   {
    "duration": 1137,
    "start_time": "2023-11-16T21:24:44.576Z"
   },
   {
    "duration": 1122,
    "start_time": "2023-11-16T21:24:45.715Z"
   },
   {
    "duration": 1325,
    "start_time": "2023-11-16T21:24:46.839Z"
   },
   {
    "duration": 228,
    "start_time": "2023-11-16T21:24:48.167Z"
   },
   {
    "duration": 50,
    "start_time": "2023-11-16T21:43:40.003Z"
   },
   {
    "duration": 5,
    "start_time": "2023-11-16T21:44:04.235Z"
   },
   {
    "duration": 1084,
    "start_time": "2023-11-16T21:44:20.431Z"
   },
   {
    "duration": 99,
    "start_time": "2023-11-16T21:44:27.408Z"
   },
   {
    "duration": 12,
    "start_time": "2023-11-16T21:44:28.539Z"
   },
   {
    "duration": 88,
    "start_time": "2023-11-16T21:45:08.552Z"
   },
   {
    "duration": 31,
    "start_time": "2023-11-16T21:47:17.213Z"
   },
   {
    "duration": 42,
    "start_time": "2023-11-16T21:47:21.663Z"
   },
   {
    "duration": 17,
    "start_time": "2023-11-16T21:50:47.589Z"
   },
   {
    "duration": 8,
    "start_time": "2023-11-16T21:50:56.424Z"
   },
   {
    "duration": 9,
    "start_time": "2023-11-16T21:51:13.231Z"
   },
   {
    "duration": 11,
    "start_time": "2023-11-16T21:51:21.391Z"
   },
   {
    "duration": 8,
    "start_time": "2023-11-16T21:51:25.393Z"
   },
   {
    "duration": 10,
    "start_time": "2023-11-16T21:53:10.298Z"
   },
   {
    "duration": 26,
    "start_time": "2023-11-16T21:53:16.258Z"
   },
   {
    "duration": 60,
    "start_time": "2023-11-16T22:05:02.168Z"
   },
   {
    "duration": 45,
    "start_time": "2023-11-16T22:05:24.187Z"
   },
   {
    "duration": 48,
    "start_time": "2023-11-16T22:05:46.342Z"
   },
   {
    "duration": 45,
    "start_time": "2023-11-16T22:09:51.400Z"
   },
   {
    "duration": 10,
    "start_time": "2023-11-16T23:37:38.175Z"
   },
   {
    "duration": 5,
    "start_time": "2023-11-16T23:37:38.187Z"
   },
   {
    "duration": 6,
    "start_time": "2023-11-16T23:37:38.193Z"
   },
   {
    "duration": 3,
    "start_time": "2023-11-16T23:37:38.201Z"
   },
   {
    "duration": 1220,
    "start_time": "2023-11-16T23:37:38.206Z"
   },
   {
    "duration": 1036,
    "start_time": "2023-11-16T23:37:39.427Z"
   },
   {
    "duration": 1343,
    "start_time": "2023-11-16T23:37:40.464Z"
   },
   {
    "duration": 98,
    "start_time": "2023-11-16T23:37:41.809Z"
   },
   {
    "duration": 29,
    "start_time": "2023-11-16T23:37:41.909Z"
   },
   {
    "duration": 58,
    "start_time": "2023-11-16T23:37:41.940Z"
   },
   {
    "duration": 849,
    "start_time": "2023-11-16T23:37:42.000Z"
   },
   {
    "duration": 40,
    "start_time": "2023-11-16T23:37:42.851Z"
   },
   {
    "duration": 890,
    "start_time": "2023-11-16T23:37:42.892Z"
   },
   {
    "duration": 925,
    "start_time": "2023-11-16T23:37:43.783Z"
   },
   {
    "duration": 149,
    "start_time": "2023-11-16T23:37:44.709Z"
   },
   {
    "duration": 806,
    "start_time": "2023-11-16T23:37:44.859Z"
   },
   {
    "duration": 47,
    "start_time": "2023-11-16T23:37:45.667Z"
   },
   {
    "duration": 39,
    "start_time": "2023-11-16T23:37:45.716Z"
   },
   {
    "duration": 38,
    "start_time": "2023-11-16T23:37:45.756Z"
   },
   {
    "duration": 2,
    "start_time": "2023-11-16T23:39:24.174Z"
   },
   {
    "duration": 43,
    "start_time": "2023-11-16T23:40:17.633Z"
   },
   {
    "duration": 3,
    "start_time": "2023-11-16T23:41:13.467Z"
   },
   {
    "duration": 19,
    "start_time": "2023-11-17T09:03:28.059Z"
   },
   {
    "duration": 28,
    "start_time": "2023-11-17T09:03:28.080Z"
   },
   {
    "duration": 7,
    "start_time": "2023-11-17T09:03:28.110Z"
   },
   {
    "duration": 6,
    "start_time": "2023-11-17T09:03:28.119Z"
   },
   {
    "duration": 1325,
    "start_time": "2023-11-17T09:03:28.126Z"
   },
   {
    "duration": 2985,
    "start_time": "2023-11-17T09:03:29.453Z"
   },
   {
    "duration": 3,
    "start_time": "2023-11-17T09:03:32.439Z"
   },
   {
    "duration": 1491,
    "start_time": "2023-11-17T09:03:32.443Z"
   },
   {
    "duration": 833,
    "start_time": "2023-11-17T09:03:33.936Z"
   },
   {
    "duration": 122,
    "start_time": "2023-11-17T09:03:34.771Z"
   },
   {
    "duration": 65,
    "start_time": "2023-11-17T09:03:34.894Z"
   },
   {
    "duration": 3,
    "start_time": "2023-11-17T09:03:34.961Z"
   },
   {
    "duration": 890,
    "start_time": "2023-11-17T09:03:34.965Z"
   },
   {
    "duration": 841,
    "start_time": "2023-11-17T09:03:35.857Z"
   },
   {
    "duration": 161,
    "start_time": "2023-11-17T09:03:36.700Z"
   },
   {
    "duration": 708,
    "start_time": "2023-11-17T09:03:36.863Z"
   },
   {
    "duration": 53,
    "start_time": "2023-11-17T09:03:37.573Z"
   },
   {
    "duration": 52,
    "start_time": "2023-11-17T09:03:37.627Z"
   },
   {
    "duration": 48,
    "start_time": "2023-11-17T09:03:37.680Z"
   },
   {
    "duration": 8,
    "start_time": "2023-11-17T09:12:38.109Z"
   },
   {
    "duration": 20,
    "start_time": "2023-11-17T09:12:46.049Z"
   },
   {
    "duration": 3600,
    "start_time": "2023-11-17T09:28:33.124Z"
   },
   {
    "duration": 10,
    "start_time": "2023-11-18T12:19:18.265Z"
   },
   {
    "duration": 6,
    "start_time": "2023-11-18T12:19:18.277Z"
   },
   {
    "duration": 9,
    "start_time": "2023-11-18T12:19:18.284Z"
   },
   {
    "duration": 4,
    "start_time": "2023-11-18T12:19:18.295Z"
   },
   {
    "duration": 1458,
    "start_time": "2023-11-18T12:19:18.300Z"
   },
   {
    "duration": 1186,
    "start_time": "2023-11-18T12:19:19.760Z"
   },
   {
    "duration": 3,
    "start_time": "2023-11-18T12:19:20.948Z"
   },
   {
    "duration": 1663,
    "start_time": "2023-11-18T12:19:20.953Z"
   },
   {
    "duration": 1000,
    "start_time": "2023-11-18T12:19:22.618Z"
   },
   {
    "duration": 143,
    "start_time": "2023-11-18T12:19:23.620Z"
   },
   {
    "duration": 70,
    "start_time": "2023-11-18T12:19:23.765Z"
   },
   {
    "duration": 3,
    "start_time": "2023-11-18T12:19:23.836Z"
   },
   {
    "duration": 3993,
    "start_time": "2023-11-18T12:19:23.841Z"
   },
   {
    "duration": 9,
    "start_time": "2023-11-18T15:32:06.791Z"
   },
   {
    "duration": 19,
    "start_time": "2023-11-18T15:32:06.802Z"
   },
   {
    "duration": 21,
    "start_time": "2023-11-18T15:32:06.823Z"
   },
   {
    "duration": 25,
    "start_time": "2023-11-18T15:32:06.845Z"
   },
   {
    "duration": 1331,
    "start_time": "2023-11-18T15:32:06.872Z"
   },
   {
    "duration": 2917,
    "start_time": "2023-11-18T15:32:08.204Z"
   },
   {
    "duration": 2,
    "start_time": "2023-11-18T15:32:11.123Z"
   },
   {
    "duration": 1352,
    "start_time": "2023-11-18T15:32:11.126Z"
   },
   {
    "duration": 897,
    "start_time": "2023-11-18T15:32:12.479Z"
   },
   {
    "duration": 129,
    "start_time": "2023-11-18T15:32:13.378Z"
   },
   {
    "duration": 57,
    "start_time": "2023-11-18T15:32:13.510Z"
   },
   {
    "duration": 3,
    "start_time": "2023-11-18T15:32:13.569Z"
   },
   {
    "duration": 3627,
    "start_time": "2023-11-18T15:32:13.573Z"
   },
   {
    "duration": 21,
    "start_time": "2023-11-18T15:32:17.202Z"
   },
   {
    "duration": 902,
    "start_time": "2023-11-18T15:32:17.224Z"
   },
   {
    "duration": 18,
    "start_time": "2023-11-18T15:32:18.127Z"
   },
   {
    "duration": 951,
    "start_time": "2023-11-18T15:32:18.146Z"
   },
   {
    "duration": 160,
    "start_time": "2023-11-18T15:32:19.098Z"
   },
   {
    "duration": 742,
    "start_time": "2023-11-18T15:32:19.260Z"
   },
   {
    "duration": 58,
    "start_time": "2023-11-18T15:32:20.004Z"
   },
   {
    "duration": 35,
    "start_time": "2023-11-18T15:32:20.064Z"
   },
   {
    "duration": 39,
    "start_time": "2023-11-18T15:32:20.115Z"
   },
   {
    "duration": 19,
    "start_time": "2023-11-18T15:37:10.494Z"
   },
   {
    "duration": 18,
    "start_time": "2023-11-18T15:37:36.576Z"
   },
   {
    "duration": 14,
    "start_time": "2023-11-18T15:37:54.730Z"
   },
   {
    "duration": 18,
    "start_time": "2023-11-18T15:38:11.574Z"
   },
   {
    "duration": 39,
    "start_time": "2023-11-18T15:59:12.215Z"
   },
   {
    "duration": 4,
    "start_time": "2023-11-18T16:13:34.685Z"
   },
   {
    "duration": 36,
    "start_time": "2023-11-18T16:13:46.685Z"
   },
   {
    "duration": 156,
    "start_time": "2023-11-18T16:25:39.609Z"
   },
   {
    "duration": 40,
    "start_time": "2023-11-18T16:25:47.898Z"
   },
   {
    "duration": 131,
    "start_time": "2023-11-18T16:25:51.647Z"
   },
   {
    "duration": 41,
    "start_time": "2023-11-18T16:25:51.966Z"
   },
   {
    "duration": 56,
    "start_time": "2023-11-18T16:26:37.524Z"
   },
   {
    "duration": 58,
    "start_time": "2023-11-18T16:26:38.562Z"
   },
   {
    "duration": 50,
    "start_time": "2023-11-18T16:26:39.349Z"
   },
   {
    "duration": 62,
    "start_time": "2023-11-18T16:45:56.289Z"
   },
   {
    "duration": 435,
    "start_time": "2023-11-18T16:47:55.697Z"
   },
   {
    "duration": 4,
    "start_time": "2023-11-18T16:51:47.948Z"
   },
   {
    "duration": 234,
    "start_time": "2023-11-18T16:51:56.116Z"
   },
   {
    "duration": 4,
    "start_time": "2023-11-18T16:54:05.958Z"
   },
   {
    "duration": 489,
    "start_time": "2023-11-18T16:54:10.348Z"
   },
   {
    "duration": 5,
    "start_time": "2023-11-18T16:54:20.674Z"
   },
   {
    "duration": 427,
    "start_time": "2023-11-18T16:54:24.141Z"
   },
   {
    "duration": 4,
    "start_time": "2023-11-18T16:54:36.197Z"
   },
   {
    "duration": 443,
    "start_time": "2023-11-18T16:54:40.755Z"
   },
   {
    "duration": 4,
    "start_time": "2023-11-18T17:01:34.485Z"
   },
   {
    "duration": 4,
    "start_time": "2023-11-18T17:01:44.597Z"
   },
   {
    "duration": 4,
    "start_time": "2023-11-18T17:01:54.364Z"
   },
   {
    "duration": 63,
    "start_time": "2023-11-18T17:02:04.332Z"
   },
   {
    "duration": 5,
    "start_time": "2023-11-18T17:02:13.454Z"
   },
   {
    "duration": 376,
    "start_time": "2023-11-18T17:02:30.375Z"
   },
   {
    "duration": 460,
    "start_time": "2023-11-18T17:03:59.357Z"
   },
   {
    "duration": 348,
    "start_time": "2023-11-18T17:05:30.825Z"
   },
   {
    "duration": 73,
    "start_time": "2023-11-18T17:06:00.488Z"
   },
   {
    "duration": 356,
    "start_time": "2023-11-18T17:06:06.565Z"
   },
   {
    "duration": 446,
    "start_time": "2023-11-18T17:06:09.408Z"
   },
   {
    "duration": 61,
    "start_time": "2023-11-18T17:06:18.715Z"
   },
   {
    "duration": 353,
    "start_time": "2023-11-18T17:06:27.037Z"
   },
   {
    "duration": 377,
    "start_time": "2023-11-18T17:06:39.317Z"
   },
   {
    "duration": 435,
    "start_time": "2023-11-18T17:06:56.829Z"
   },
   {
    "duration": 359,
    "start_time": "2023-11-18T17:07:39.368Z"
   },
   {
    "duration": 1217,
    "start_time": "2023-11-18T17:09:07.529Z"
   },
   {
    "duration": 1066,
    "start_time": "2023-11-18T17:09:22.587Z"
   },
   {
    "duration": 1287,
    "start_time": "2023-11-18T17:14:26.356Z"
   },
   {
    "duration": 4,
    "start_time": "2023-11-18T17:14:36.957Z"
   },
   {
    "duration": 1259,
    "start_time": "2023-11-18T17:14:41.556Z"
   },
   {
    "duration": 1341,
    "start_time": "2023-11-18T17:14:58.213Z"
   },
   {
    "duration": 56,
    "start_time": "2023-11-18T17:15:25.459Z"
   },
   {
    "duration": 72,
    "start_time": "2023-11-18T17:16:29.770Z"
   },
   {
    "duration": 56,
    "start_time": "2023-11-18T17:17:27.398Z"
   },
   {
    "duration": 82,
    "start_time": "2023-11-18T17:17:50.909Z"
   },
   {
    "duration": 82,
    "start_time": "2023-11-18T17:18:14.242Z"
   },
   {
    "duration": 2323,
    "start_time": "2023-11-18T17:18:47.619Z"
   },
   {
    "duration": 1776,
    "start_time": "2023-11-18T17:21:00.067Z"
   },
   {
    "duration": 60,
    "start_time": "2023-11-18T17:22:15.158Z"
   },
   {
    "duration": 10,
    "start_time": "2023-11-18T17:22:19.082Z"
   },
   {
    "duration": 9,
    "start_time": "2023-11-18T17:23:59.997Z"
   },
   {
    "duration": 9,
    "start_time": "2023-11-18T17:24:22.566Z"
   },
   {
    "duration": 8,
    "start_time": "2023-11-18T17:24:25.570Z"
   },
   {
    "duration": 5,
    "start_time": "2023-11-18T17:24:48.978Z"
   },
   {
    "duration": 8,
    "start_time": "2023-11-18T17:24:52.537Z"
   },
   {
    "duration": 915,
    "start_time": "2023-11-18T17:25:20.710Z"
   },
   {
    "duration": 726,
    "start_time": "2023-11-18T17:25:50.534Z"
   },
   {
    "duration": 1015,
    "start_time": "2023-11-18T17:26:05.061Z"
   },
   {
    "duration": 899,
    "start_time": "2023-11-18T17:26:44.365Z"
   },
   {
    "duration": 764,
    "start_time": "2023-11-18T17:26:54.927Z"
   },
   {
    "duration": 1233,
    "start_time": "2023-11-18T17:27:06.196Z"
   },
   {
    "duration": 992,
    "start_time": "2023-11-18T17:27:30.835Z"
   },
   {
    "duration": 938,
    "start_time": "2023-11-18T17:28:28.426Z"
   },
   {
    "duration": 918,
    "start_time": "2023-11-18T17:28:35.632Z"
   },
   {
    "duration": 773,
    "start_time": "2023-11-18T17:28:53.478Z"
   },
   {
    "duration": 930,
    "start_time": "2023-11-18T17:29:10.971Z"
   },
   {
    "duration": 763,
    "start_time": "2023-11-18T17:29:19.739Z"
   },
   {
    "duration": 774,
    "start_time": "2023-11-18T17:30:04.012Z"
   },
   {
    "duration": 9,
    "start_time": "2023-11-18T17:30:23.325Z"
   },
   {
    "duration": 620,
    "start_time": "2023-11-18T17:30:32.017Z"
   },
   {
    "duration": 597,
    "start_time": "2023-11-18T17:30:51.776Z"
   },
   {
    "duration": 736,
    "start_time": "2023-11-18T17:32:15.522Z"
   },
   {
    "duration": 768,
    "start_time": "2023-11-18T17:32:23.956Z"
   },
   {
    "duration": 598,
    "start_time": "2023-11-18T17:32:36.137Z"
   },
   {
    "duration": 618,
    "start_time": "2023-11-18T17:32:40.443Z"
   },
   {
    "duration": 68,
    "start_time": "2023-11-18T17:32:54.521Z"
   },
   {
    "duration": 793,
    "start_time": "2023-11-18T17:32:56.552Z"
   },
   {
    "duration": 636,
    "start_time": "2023-11-18T17:33:04.217Z"
   },
   {
    "duration": 620,
    "start_time": "2023-11-18T17:33:17.434Z"
   },
   {
    "duration": 647,
    "start_time": "2023-11-18T17:33:29.118Z"
   },
   {
    "duration": 642,
    "start_time": "2023-11-18T17:33:32.781Z"
   },
   {
    "duration": 810,
    "start_time": "2023-11-18T17:34:11.598Z"
   },
   {
    "duration": 644,
    "start_time": "2023-11-18T17:34:30.315Z"
   },
   {
    "duration": 807,
    "start_time": "2023-11-18T17:34:39.645Z"
   },
   {
    "duration": 614,
    "start_time": "2023-11-18T17:34:48.129Z"
   },
   {
    "duration": 805,
    "start_time": "2023-11-18T17:34:55.242Z"
   },
   {
    "duration": 660,
    "start_time": "2023-11-18T17:35:04.974Z"
   },
   {
    "duration": 660,
    "start_time": "2023-11-18T17:35:11.086Z"
   },
   {
    "duration": 650,
    "start_time": "2023-11-18T17:35:29.368Z"
   },
   {
    "duration": 640,
    "start_time": "2023-11-18T17:35:41.966Z"
   },
   {
    "duration": 845,
    "start_time": "2023-11-18T17:36:15.971Z"
   },
   {
    "duration": 924,
    "start_time": "2023-11-18T17:36:28.150Z"
   },
   {
    "duration": 901,
    "start_time": "2023-11-18T17:36:33.695Z"
   },
   {
    "duration": 862,
    "start_time": "2023-11-18T17:36:38.771Z"
   },
   {
    "duration": 858,
    "start_time": "2023-11-18T17:36:54.665Z"
   },
   {
    "duration": 894,
    "start_time": "2023-11-18T17:37:01.607Z"
   },
   {
    "duration": 611,
    "start_time": "2023-11-18T17:37:04.410Z"
   },
   {
    "duration": 829,
    "start_time": "2023-11-18T17:37:09.318Z"
   },
   {
    "duration": 798,
    "start_time": "2023-11-18T17:37:16.047Z"
   },
   {
    "duration": 825,
    "start_time": "2023-11-18T17:37:22.551Z"
   },
   {
    "duration": 59,
    "start_time": "2023-11-18T17:37:50.028Z"
   },
   {
    "duration": 2202,
    "start_time": "2023-11-18T17:37:53.304Z"
   },
   {
    "duration": 569,
    "start_time": "2023-11-18T17:38:06.474Z"
   },
   {
    "duration": 1886,
    "start_time": "2023-11-18T17:40:22.121Z"
   },
   {
    "duration": 861,
    "start_time": "2023-11-18T17:41:02.238Z"
   },
   {
    "duration": 853,
    "start_time": "2023-11-18T17:41:20.837Z"
   },
   {
    "duration": 845,
    "start_time": "2023-11-18T17:41:39.008Z"
   },
   {
    "duration": 10,
    "start_time": "2023-11-18T17:42:04.787Z"
   },
   {
    "duration": 10,
    "start_time": "2023-11-18T17:45:17.431Z"
   },
   {
    "duration": 24,
    "start_time": "2023-11-18T17:45:30.612Z"
   },
   {
    "duration": 8,
    "start_time": "2023-11-18T17:45:49.200Z"
   },
   {
    "duration": 20,
    "start_time": "2023-11-18T17:46:00.317Z"
   },
   {
    "duration": 218,
    "start_time": "2023-11-18T17:47:49.132Z"
   },
   {
    "duration": 210,
    "start_time": "2023-11-18T17:47:56.742Z"
   },
   {
    "duration": 1574,
    "start_time": "2023-11-18T17:48:39.295Z"
   },
   {
    "duration": 1643,
    "start_time": "2023-11-18T17:48:51.116Z"
   },
   {
    "duration": 212,
    "start_time": "2023-11-18T17:48:59.003Z"
   },
   {
    "duration": 1564,
    "start_time": "2023-11-18T17:49:06.118Z"
   },
   {
    "duration": 1565,
    "start_time": "2023-11-18T17:49:45.626Z"
   },
   {
    "duration": 208,
    "start_time": "2023-11-18T17:50:12.689Z"
   },
   {
    "duration": 199,
    "start_time": "2023-11-18T17:50:17.298Z"
   },
   {
    "duration": 223,
    "start_time": "2023-11-18T17:50:34.707Z"
   },
   {
    "duration": 209,
    "start_time": "2023-11-18T17:50:41.884Z"
   },
   {
    "duration": 218,
    "start_time": "2023-11-18T17:50:44.294Z"
   },
   {
    "duration": 214,
    "start_time": "2023-11-18T17:56:16.035Z"
   },
   {
    "duration": 217,
    "start_time": "2023-11-18T17:56:40.575Z"
   },
   {
    "duration": 210,
    "start_time": "2023-11-18T17:56:50.727Z"
   },
   {
    "duration": 219,
    "start_time": "2023-11-18T17:57:04.110Z"
   },
   {
    "duration": 201,
    "start_time": "2023-11-18T17:58:24.575Z"
   },
   {
    "duration": 32,
    "start_time": "2023-11-18T18:01:12.231Z"
   },
   {
    "duration": 3,
    "start_time": "2023-11-18T18:06:07.383Z"
   },
   {
    "duration": 11,
    "start_time": "2023-11-18T18:07:30.826Z"
   },
   {
    "duration": 10,
    "start_time": "2023-11-18T18:08:20.176Z"
   },
   {
    "duration": 2567,
    "start_time": "2023-11-18T18:09:42.005Z"
   },
   {
    "duration": 12,
    "start_time": "2023-11-18T18:10:42.749Z"
   },
   {
    "duration": 1394,
    "start_time": "2023-11-18T18:10:58.197Z"
   },
   {
    "duration": 1409,
    "start_time": "2023-11-18T18:11:04.517Z"
   },
   {
    "duration": 10,
    "start_time": "2023-11-18T18:11:25.028Z"
   },
   {
    "duration": 1438,
    "start_time": "2023-11-18T18:11:34.156Z"
   },
   {
    "duration": 2,
    "start_time": "2023-11-18T18:11:45.053Z"
   },
   {
    "duration": 3,
    "start_time": "2023-11-18T18:11:47.796Z"
   },
   {
    "duration": 65505,
    "start_time": "2023-11-18T18:11:48.473Z"
   },
   {
    "duration": 0,
    "start_time": "2023-11-18T18:12:53.980Z"
   },
   {
    "duration": 64664,
    "start_time": "2023-11-18T18:13:31.554Z"
   },
   {
    "duration": 19,
    "start_time": "2023-11-18T18:14:36.220Z"
   },
   {
    "duration": 5,
    "start_time": "2023-11-18T18:15:45.785Z"
   },
   {
    "duration": 30,
    "start_time": "2023-11-18T18:15:45.792Z"
   },
   {
    "duration": 12,
    "start_time": "2023-11-18T18:15:45.823Z"
   },
   {
    "duration": 4,
    "start_time": "2023-11-18T18:15:45.876Z"
   },
   {
    "duration": 22,
    "start_time": "2023-11-18T18:15:45.882Z"
   },
   {
    "duration": 776,
    "start_time": "2023-11-18T18:15:45.933Z"
   },
   {
    "duration": 4,
    "start_time": "2023-11-18T18:15:46.710Z"
   },
   {
    "duration": 1266,
    "start_time": "2023-11-18T18:15:46.716Z"
   },
   {
    "duration": 405,
    "start_time": "2023-11-18T18:15:47.983Z"
   },
   {
    "duration": 208,
    "start_time": "2023-11-18T18:15:48.389Z"
   },
   {
    "duration": 1380,
    "start_time": "2023-11-18T18:15:48.598Z"
   },
   {
    "duration": 0,
    "start_time": "2023-11-18T18:15:49.979Z"
   },
   {
    "duration": 5,
    "start_time": "2023-11-18T18:16:01.865Z"
   },
   {
    "duration": 62,
    "start_time": "2023-11-18T18:16:01.876Z"
   },
   {
    "duration": 72,
    "start_time": "2023-11-18T18:16:01.940Z"
   },
   {
    "duration": 37,
    "start_time": "2023-11-18T18:16:02.014Z"
   },
   {
    "duration": 103,
    "start_time": "2023-11-18T18:16:02.052Z"
   },
   {
    "duration": 961,
    "start_time": "2023-11-18T18:16:02.156Z"
   },
   {
    "duration": 2,
    "start_time": "2023-11-18T18:16:03.119Z"
   },
   {
    "duration": 1330,
    "start_time": "2023-11-18T18:16:03.123Z"
   },
   {
    "duration": 441,
    "start_time": "2023-11-18T18:16:04.455Z"
   },
   {
    "duration": 240,
    "start_time": "2023-11-18T18:16:04.898Z"
   },
   {
    "duration": 200,
    "start_time": "2023-11-18T18:16:10.721Z"
   },
   {
    "duration": 3,
    "start_time": "2023-11-18T18:16:11.872Z"
   },
   {
    "duration": 1564,
    "start_time": "2023-11-18T18:16:12.676Z"
   },
   {
    "duration": 18,
    "start_time": "2023-11-18T18:16:14.317Z"
   },
   {
    "duration": 19,
    "start_time": "2023-11-18T18:17:15.187Z"
   },
   {
    "duration": 22,
    "start_time": "2023-11-18T18:19:17.722Z"
   },
   {
    "duration": 5,
    "start_time": "2023-11-18T18:54:51.538Z"
   },
   {
    "duration": 10,
    "start_time": "2023-11-18T18:54:51.545Z"
   },
   {
    "duration": 8,
    "start_time": "2023-11-18T18:54:51.556Z"
   },
   {
    "duration": 4,
    "start_time": "2023-11-18T18:54:51.566Z"
   },
   {
    "duration": 14,
    "start_time": "2023-11-18T18:54:51.571Z"
   },
   {
    "duration": 760,
    "start_time": "2023-11-18T18:54:51.586Z"
   },
   {
    "duration": 2,
    "start_time": "2023-11-18T18:54:52.348Z"
   },
   {
    "duration": 1282,
    "start_time": "2023-11-18T18:54:52.351Z"
   },
   {
    "duration": 419,
    "start_time": "2023-11-18T18:54:53.635Z"
   },
   {
    "duration": 209,
    "start_time": "2023-11-18T18:54:54.056Z"
   },
   {
    "duration": 204,
    "start_time": "2023-11-18T18:55:14.660Z"
   },
   {
    "duration": 3,
    "start_time": "2023-11-18T18:55:18.137Z"
   },
   {
    "duration": 19,
    "start_time": "2023-11-18T18:55:28.264Z"
   },
   {
    "duration": 1536,
    "start_time": "2023-11-18T18:55:35.657Z"
   },
   {
    "duration": 17,
    "start_time": "2023-11-18T18:56:34.729Z"
   },
   {
    "duration": 58,
    "start_time": "2023-11-18T18:58:05.192Z"
   },
   {
    "duration": 3,
    "start_time": "2023-11-18T18:58:31.849Z"
   },
   {
    "duration": 20,
    "start_time": "2023-11-18T18:58:34.169Z"
   },
   {
    "duration": 1568,
    "start_time": "2023-11-18T18:58:36.617Z"
   },
   {
    "duration": 5,
    "start_time": "2023-11-18T18:59:42.932Z"
   },
   {
    "duration": 9,
    "start_time": "2023-11-18T18:59:42.938Z"
   },
   {
    "duration": 6,
    "start_time": "2023-11-18T18:59:42.949Z"
   },
   {
    "duration": 16,
    "start_time": "2023-11-18T18:59:42.957Z"
   },
   {
    "duration": 22,
    "start_time": "2023-11-18T18:59:42.974Z"
   },
   {
    "duration": 792,
    "start_time": "2023-11-18T18:59:42.998Z"
   },
   {
    "duration": 3,
    "start_time": "2023-11-18T18:59:43.791Z"
   },
   {
    "duration": 1348,
    "start_time": "2023-11-18T18:59:43.796Z"
   },
   {
    "duration": 934,
    "start_time": "2023-11-18T18:59:45.146Z"
   },
   {
    "duration": 105,
    "start_time": "2023-11-18T18:59:46.081Z"
   },
   {
    "duration": 49,
    "start_time": "2023-11-18T18:59:46.188Z"
   },
   {
    "duration": 3,
    "start_time": "2023-11-18T18:59:46.239Z"
   },
   {
    "duration": 3445,
    "start_time": "2023-11-18T18:59:46.243Z"
   },
   {
    "duration": 27,
    "start_time": "2023-11-18T18:59:49.689Z"
   },
   {
    "duration": 18,
    "start_time": "2023-11-18T18:59:49.718Z"
   },
   {
    "duration": 444,
    "start_time": "2023-11-18T18:59:49.737Z"
   },
   {
    "duration": 222,
    "start_time": "2023-11-18T18:59:50.182Z"
   },
   {
    "duration": 3,
    "start_time": "2023-11-18T18:59:50.405Z"
   },
   {
    "duration": 22,
    "start_time": "2023-11-18T18:59:50.409Z"
   },
   {
    "duration": 107983,
    "start_time": "2023-11-18T18:59:50.433Z"
   },
   {
    "duration": 0,
    "start_time": "2023-11-18T19:01:38.418Z"
   },
   {
    "duration": 0,
    "start_time": "2023-11-18T19:01:38.419Z"
   },
   {
    "duration": 0,
    "start_time": "2023-11-18T19:01:38.420Z"
   },
   {
    "duration": 0,
    "start_time": "2023-11-18T19:01:38.421Z"
   },
   {
    "duration": 0,
    "start_time": "2023-11-18T19:01:38.422Z"
   },
   {
    "duration": 0,
    "start_time": "2023-11-18T19:01:38.424Z"
   },
   {
    "duration": 0,
    "start_time": "2023-11-18T19:01:38.424Z"
   },
   {
    "duration": 0,
    "start_time": "2023-11-18T19:01:38.425Z"
   },
   {
    "duration": 0,
    "start_time": "2023-11-18T19:01:38.426Z"
   },
   {
    "duration": 0,
    "start_time": "2023-11-18T19:01:38.427Z"
   },
   {
    "duration": 0,
    "start_time": "2023-11-18T19:01:38.428Z"
   },
   {
    "duration": 0,
    "start_time": "2023-11-18T19:01:38.429Z"
   },
   {
    "duration": 0,
    "start_time": "2023-11-18T19:01:38.430Z"
   },
   {
    "duration": 3,
    "start_time": "2023-11-18T19:01:47.144Z"
   },
   {
    "duration": 5729,
    "start_time": "2023-11-18T19:01:49.089Z"
   },
   {
    "duration": 20,
    "start_time": "2023-11-18T19:01:54.820Z"
   },
   {
    "duration": 449,
    "start_time": "2023-11-18T19:02:16.616Z"
   },
   {
    "duration": 208,
    "start_time": "2023-11-18T19:02:21.249Z"
   },
   {
    "duration": 3,
    "start_time": "2023-11-18T19:02:22.290Z"
   },
   {
    "duration": 34,
    "start_time": "2023-11-18T19:02:23.209Z"
   },
   {
    "duration": 18,
    "start_time": "2023-11-18T19:02:24.298Z"
   },
   {
    "duration": 714,
    "start_time": "2023-11-18T19:07:56.970Z"
   },
   {
    "duration": 424,
    "start_time": "2023-11-18T19:12:28.569Z"
   },
   {
    "duration": 5,
    "start_time": "2023-11-18T19:15:37.412Z"
   },
   {
    "duration": 30,
    "start_time": "2023-11-18T19:15:37.419Z"
   },
   {
    "duration": 34,
    "start_time": "2023-11-18T19:15:37.451Z"
   },
   {
    "duration": 34,
    "start_time": "2023-11-18T19:15:37.487Z"
   },
   {
    "duration": 18,
    "start_time": "2023-11-18T19:15:37.523Z"
   },
   {
    "duration": 755,
    "start_time": "2023-11-18T19:15:37.542Z"
   },
   {
    "duration": 3,
    "start_time": "2023-11-18T19:15:38.299Z"
   },
   {
    "duration": 1335,
    "start_time": "2023-11-18T19:15:38.303Z"
   },
   {
    "duration": 821,
    "start_time": "2023-11-18T19:15:39.641Z"
   },
   {
    "duration": 3518,
    "start_time": "2023-11-18T19:15:40.463Z"
   },
   {
    "duration": 35,
    "start_time": "2023-11-18T19:15:43.983Z"
   },
   {
    "duration": 19,
    "start_time": "2023-11-18T19:15:44.020Z"
   },
   {
    "duration": 465,
    "start_time": "2023-11-18T19:15:44.040Z"
   },
   {
    "duration": 3,
    "start_time": "2023-11-18T19:24:28.371Z"
   },
   {
    "duration": 776,
    "start_time": "2023-11-18T19:24:28.525Z"
   },
   {
    "duration": 3,
    "start_time": "2023-11-18T19:24:29.302Z"
   },
   {
    "duration": 3,
    "start_time": "2023-11-18T19:25:35.073Z"
   },
   {
    "duration": 801,
    "start_time": "2023-11-18T19:25:35.080Z"
   },
   {
    "duration": 3,
    "start_time": "2023-11-18T19:25:35.882Z"
   },
   {
    "duration": 28,
    "start_time": "2023-11-18T19:25:35.886Z"
   },
   {
    "duration": 29,
    "start_time": "2023-11-18T19:25:35.916Z"
   },
   {
    "duration": 27,
    "start_time": "2023-11-18T19:25:35.947Z"
   },
   {
    "duration": 4,
    "start_time": "2023-11-18T19:25:35.975Z"
   },
   {
    "duration": 1357,
    "start_time": "2023-11-18T19:25:35.980Z"
   },
   {
    "duration": 802,
    "start_time": "2023-11-18T19:25:37.339Z"
   },
   {
    "duration": 3579,
    "start_time": "2023-11-18T19:25:38.143Z"
   },
   {
    "duration": 20,
    "start_time": "2023-11-18T19:25:41.725Z"
   },
   {
    "duration": 18,
    "start_time": "2023-11-18T19:25:41.747Z"
   },
   {
    "duration": 471,
    "start_time": "2023-11-18T19:25:41.767Z"
   },
   {
    "duration": 227,
    "start_time": "2023-11-18T19:25:42.240Z"
   },
   {
    "duration": 3,
    "start_time": "2023-11-18T19:25:42.468Z"
   },
   {
    "duration": 6861,
    "start_time": "2023-11-18T19:25:42.472Z"
   },
   {
    "duration": 19,
    "start_time": "2023-11-18T19:25:49.335Z"
   },
   {
    "duration": 432,
    "start_time": "2023-11-18T19:25:49.355Z"
   },
   {
    "duration": 883,
    "start_time": "2023-11-18T19:25:49.788Z"
   },
   {
    "duration": 111,
    "start_time": "2023-11-18T19:25:50.672Z"
   },
   {
    "duration": 46,
    "start_time": "2023-11-18T19:25:50.785Z"
   },
   {
    "duration": 3,
    "start_time": "2023-11-18T19:25:50.833Z"
   },
   {
    "duration": 912,
    "start_time": "2023-11-18T19:25:50.837Z"
   },
   {
    "duration": 18,
    "start_time": "2023-11-18T19:25:51.750Z"
   },
   {
    "duration": 73,
    "start_time": "2023-11-18T19:25:51.769Z"
   },
   {
    "duration": 57,
    "start_time": "2023-11-18T19:25:51.844Z"
   },
   {
    "duration": 53,
    "start_time": "2023-11-18T19:25:51.903Z"
   },
   {
    "duration": 924,
    "start_time": "2023-11-18T19:25:51.958Z"
   },
   {
    "duration": 160,
    "start_time": "2023-11-18T19:25:52.885Z"
   },
   {
    "duration": 20,
    "start_time": "2023-11-18T19:26:45.873Z"
   },
   {
    "duration": 7,
    "start_time": "2023-11-18T19:26:59.125Z"
   },
   {
    "duration": 20,
    "start_time": "2023-11-18T19:27:21.630Z"
   },
   {
    "duration": 20,
    "start_time": "2023-11-18T19:27:39.542Z"
   },
   {
    "duration": 410,
    "start_time": "2023-11-18T19:28:10.822Z"
   },
   {
    "duration": 18,
    "start_time": "2023-11-18T19:30:53.393Z"
   },
   {
    "duration": 17,
    "start_time": "2023-11-18T19:30:54.236Z"
   },
   {
    "duration": 55,
    "start_time": "2023-11-18T19:34:46.486Z"
   },
   {
    "duration": 17,
    "start_time": "2023-11-18T19:34:47.120Z"
   },
   {
    "duration": 202,
    "start_time": "2023-11-18T19:37:00.639Z"
   },
   {
    "duration": 3,
    "start_time": "2023-11-18T19:37:01.737Z"
   },
   {
    "duration": 36,
    "start_time": "2023-11-18T19:37:02.575Z"
   },
   {
    "duration": 2,
    "start_time": "2023-11-18T19:37:11.145Z"
   },
   {
    "duration": 788,
    "start_time": "2023-11-18T19:37:11.149Z"
   },
   {
    "duration": 3,
    "start_time": "2023-11-18T19:37:11.938Z"
   },
   {
    "duration": 7,
    "start_time": "2023-11-18T19:37:11.942Z"
   },
   {
    "duration": 5,
    "start_time": "2023-11-18T19:37:11.951Z"
   },
   {
    "duration": 16,
    "start_time": "2023-11-18T19:37:11.957Z"
   },
   {
    "duration": 8,
    "start_time": "2023-11-18T19:37:11.975Z"
   },
   {
    "duration": 12,
    "start_time": "2023-11-18T19:37:11.984Z"
   },
   {
    "duration": 809,
    "start_time": "2023-11-18T19:37:11.997Z"
   },
   {
    "duration": 3,
    "start_time": "2023-11-18T19:37:12.807Z"
   },
   {
    "duration": 1283,
    "start_time": "2023-11-18T19:37:12.812Z"
   },
   {
    "duration": 778,
    "start_time": "2023-11-18T19:37:14.097Z"
   },
   {
    "duration": 3527,
    "start_time": "2023-11-18T19:37:14.877Z"
   },
   {
    "duration": 23,
    "start_time": "2023-11-18T19:37:18.405Z"
   },
   {
    "duration": 18,
    "start_time": "2023-11-18T19:37:18.430Z"
   },
   {
    "duration": 506,
    "start_time": "2023-11-18T19:37:18.449Z"
   },
   {
    "duration": 220,
    "start_time": "2023-11-18T19:37:18.956Z"
   },
   {
    "duration": 2,
    "start_time": "2023-11-18T19:37:19.178Z"
   },
   {
    "duration": 10841,
    "start_time": "2023-11-18T19:37:19.181Z"
   },
   {
    "duration": 18,
    "start_time": "2023-11-18T19:37:30.024Z"
   },
   {
    "duration": 445,
    "start_time": "2023-11-18T19:37:30.044Z"
   },
   {
    "duration": 219,
    "start_time": "2023-11-18T19:37:30.490Z"
   },
   {
    "duration": 5,
    "start_time": "2023-11-18T19:37:30.710Z"
   },
   {
    "duration": 47,
    "start_time": "2023-11-18T19:37:30.716Z"
   },
   {
    "duration": 19,
    "start_time": "2023-11-18T19:37:46.712Z"
   },
   {
    "duration": 444,
    "start_time": "2023-11-18T19:43:25.504Z"
   },
   {
    "duration": 20,
    "start_time": "2023-11-18T19:49:24.886Z"
   },
   {
    "duration": 19,
    "start_time": "2023-11-18T19:49:44.598Z"
   },
   {
    "duration": 121,
    "start_time": "2023-11-18T19:54:25.620Z"
   },
   {
    "duration": 5,
    "start_time": "2023-11-18T19:54:38.082Z"
   },
   {
    "duration": 4,
    "start_time": "2023-11-18T19:55:23.966Z"
   },
   {
    "duration": 125,
    "start_time": "2023-11-18T19:55:29.435Z"
   },
   {
    "duration": 11,
    "start_time": "2023-11-18T20:05:42.960Z"
   },
   {
    "duration": 92,
    "start_time": "2023-11-18T20:06:02.925Z"
   },
   {
    "duration": 35,
    "start_time": "2023-11-18T20:06:04.006Z"
   },
   {
    "duration": 3,
    "start_time": "2023-11-18T20:06:04.360Z"
   },
   {
    "duration": 31,
    "start_time": "2023-11-18T20:06:05.813Z"
   },
   {
    "duration": 6,
    "start_time": "2023-11-18T20:06:17.804Z"
   },
   {
    "duration": 4,
    "start_time": "2023-11-18T20:08:05.053Z"
   },
   {
    "duration": 784,
    "start_time": "2023-11-18T20:08:05.059Z"
   },
   {
    "duration": 3,
    "start_time": "2023-11-18T20:08:05.845Z"
   },
   {
    "duration": 34,
    "start_time": "2023-11-18T20:08:05.849Z"
   },
   {
    "duration": 18,
    "start_time": "2023-11-18T20:08:05.886Z"
   },
   {
    "duration": 10,
    "start_time": "2023-11-18T20:08:05.906Z"
   },
   {
    "duration": 9,
    "start_time": "2023-11-18T20:08:05.918Z"
   },
   {
    "duration": 20,
    "start_time": "2023-11-18T20:08:05.928Z"
   },
   {
    "duration": 794,
    "start_time": "2023-11-18T20:08:05.950Z"
   },
   {
    "duration": 3,
    "start_time": "2023-11-18T20:08:06.746Z"
   },
   {
    "duration": 1324,
    "start_time": "2023-11-18T20:08:06.751Z"
   },
   {
    "duration": 815,
    "start_time": "2023-11-18T20:08:08.077Z"
   },
   {
    "duration": 3490,
    "start_time": "2023-11-18T20:08:08.896Z"
   },
   {
    "duration": 28,
    "start_time": "2023-11-18T20:08:12.388Z"
   },
   {
    "duration": 19,
    "start_time": "2023-11-18T20:08:12.417Z"
   },
   {
    "duration": 464,
    "start_time": "2023-11-18T20:08:12.437Z"
   },
   {
    "duration": 217,
    "start_time": "2023-11-18T20:08:12.902Z"
   },
   {
    "duration": 3,
    "start_time": "2023-11-18T20:08:13.120Z"
   },
   {
    "duration": 7458,
    "start_time": "2023-11-18T20:08:13.124Z"
   },
   {
    "duration": 19,
    "start_time": "2023-11-18T20:08:20.584Z"
   },
   {
    "duration": 432,
    "start_time": "2023-11-18T20:08:20.604Z"
   },
   {
    "duration": 215,
    "start_time": "2023-11-18T20:08:21.037Z"
   },
   {
    "duration": 3,
    "start_time": "2023-11-18T20:08:21.253Z"
   },
   {
    "duration": 58,
    "start_time": "2023-11-18T20:08:21.257Z"
   },
   {
    "duration": 19,
    "start_time": "2023-11-18T20:08:21.316Z"
   },
   {
    "duration": 130,
    "start_time": "2023-11-18T20:08:21.336Z"
   },
   {
    "duration": 4,
    "start_time": "2023-11-18T20:08:21.467Z"
   },
   {
    "duration": 458,
    "start_time": "2023-11-18T20:08:21.472Z"
   },
   {
    "duration": 19,
    "start_time": "2023-11-18T20:08:21.931Z"
   },
   {
    "duration": 19,
    "start_time": "2023-11-18T20:08:21.951Z"
   },
   {
    "duration": 897,
    "start_time": "2023-11-18T20:08:21.972Z"
   },
   {
    "duration": 105,
    "start_time": "2023-11-18T20:08:22.870Z"
   },
   {
    "duration": 47,
    "start_time": "2023-11-18T20:08:22.976Z"
   },
   {
    "duration": 4,
    "start_time": "2023-11-18T20:08:23.024Z"
   },
   {
    "duration": 47,
    "start_time": "2023-11-18T20:08:23.029Z"
   },
   {
    "duration": 5,
    "start_time": "2023-11-18T20:08:23.078Z"
   },
   {
    "duration": 967,
    "start_time": "2023-11-18T20:08:23.087Z"
   },
   {
    "duration": 26,
    "start_time": "2023-11-18T20:08:24.055Z"
   },
   {
    "duration": 76,
    "start_time": "2023-11-18T20:08:24.083Z"
   },
   {
    "duration": 65,
    "start_time": "2023-11-18T20:08:24.160Z"
   },
   {
    "duration": 43,
    "start_time": "2023-11-18T20:08:24.226Z"
   },
   {
    "duration": 933,
    "start_time": "2023-11-18T20:08:24.271Z"
   },
   {
    "duration": 167,
    "start_time": "2023-11-18T20:08:25.205Z"
   },
   {
    "duration": 7,
    "start_time": "2023-11-18T20:16:08.672Z"
   },
   {
    "duration": 423,
    "start_time": "2023-11-18T20:16:16.793Z"
   },
   {
    "duration": 19,
    "start_time": "2023-11-18T20:22:40.366Z"
   },
   {
    "duration": 65,
    "start_time": "2023-11-18T20:22:55.167Z"
   },
   {
    "duration": 18,
    "start_time": "2023-11-18T20:23:18.647Z"
   },
   {
    "duration": 53,
    "start_time": "2023-11-18T20:23:29.492Z"
   },
   {
    "duration": 111,
    "start_time": "2023-11-18T20:26:06.416Z"
   },
   {
    "duration": 4,
    "start_time": "2023-11-18T20:26:07.076Z"
   },
   {
    "duration": 93,
    "start_time": "2023-11-18T20:26:14.765Z"
   },
   {
    "duration": 861,
    "start_time": "2023-11-18T20:29:45.217Z"
   },
   {
    "duration": 7,
    "start_time": "2023-11-18T20:38:46.489Z"
   },
   {
    "duration": 12,
    "start_time": "2023-11-18T20:39:06.445Z"
   },
   {
    "duration": 46,
    "start_time": "2023-11-18T20:39:43.213Z"
   },
   {
    "duration": 86,
    "start_time": "2023-11-18T20:39:50.044Z"
   },
   {
    "duration": 813,
    "start_time": "2023-11-18T20:40:06.525Z"
   },
   {
    "duration": 3,
    "start_time": "2023-11-18T20:43:11.925Z"
   },
   {
    "duration": 21,
    "start_time": "2023-11-18T22:03:36.571Z"
   },
   {
    "duration": 3,
    "start_time": "2023-11-18T22:04:39.059Z"
   },
   {
    "duration": 3,
    "start_time": "2023-11-18T22:08:16.930Z"
   },
   {
    "duration": 3,
    "start_time": "2023-11-18T22:08:25.934Z"
   },
   {
    "duration": 94,
    "start_time": "2023-11-18T22:08:59.808Z"
   },
   {
    "duration": 24,
    "start_time": "2023-11-18T22:10:10.641Z"
   },
   {
    "duration": 2,
    "start_time": "2023-11-18T22:21:22.228Z"
   },
   {
    "duration": 3,
    "start_time": "2023-11-18T22:22:05.922Z"
   },
   {
    "duration": 11,
    "start_time": "2023-11-18T22:22:16.434Z"
   },
   {
    "duration": 19,
    "start_time": "2023-11-18T22:22:23.907Z"
   },
   {
    "duration": 3,
    "start_time": "2023-11-18T22:23:50.748Z"
   },
   {
    "duration": 3,
    "start_time": "2023-11-18T22:23:58.760Z"
   },
   {
    "duration": 826,
    "start_time": "2023-11-18T22:23:58.764Z"
   },
   {
    "duration": 4,
    "start_time": "2023-11-18T22:23:59.592Z"
   },
   {
    "duration": 7,
    "start_time": "2023-11-18T22:23:59.598Z"
   },
   {
    "duration": 4,
    "start_time": "2023-11-18T22:23:59.615Z"
   },
   {
    "duration": 18,
    "start_time": "2023-11-18T22:23:59.620Z"
   },
   {
    "duration": 6,
    "start_time": "2023-11-18T22:23:59.639Z"
   },
   {
    "duration": 23,
    "start_time": "2023-11-18T22:23:59.647Z"
   },
   {
    "duration": 800,
    "start_time": "2023-11-18T22:23:59.671Z"
   },
   {
    "duration": 3,
    "start_time": "2023-11-18T22:24:00.472Z"
   },
   {
    "duration": 1305,
    "start_time": "2023-11-18T22:24:00.477Z"
   },
   {
    "duration": 866,
    "start_time": "2023-11-18T22:24:01.783Z"
   },
   {
    "duration": 3626,
    "start_time": "2023-11-18T22:24:02.650Z"
   },
   {
    "duration": 22,
    "start_time": "2023-11-18T22:24:06.278Z"
   },
   {
    "duration": 33,
    "start_time": "2023-11-18T22:24:06.302Z"
   },
   {
    "duration": 472,
    "start_time": "2023-11-18T22:24:06.336Z"
   },
   {
    "duration": 226,
    "start_time": "2023-11-18T22:24:06.809Z"
   },
   {
    "duration": 3,
    "start_time": "2023-11-18T22:24:07.037Z"
   },
   {
    "duration": 7532,
    "start_time": "2023-11-18T22:24:07.042Z"
   },
   {
    "duration": 18,
    "start_time": "2023-11-18T22:24:14.576Z"
   },
   {
    "duration": 438,
    "start_time": "2023-11-18T22:24:14.595Z"
   },
   {
    "duration": 223,
    "start_time": "2023-11-18T22:24:15.035Z"
   },
   {
    "duration": 3,
    "start_time": "2023-11-18T22:24:15.260Z"
   },
   {
    "duration": 61,
    "start_time": "2023-11-18T22:24:15.264Z"
   },
   {
    "duration": 24,
    "start_time": "2023-11-18T22:24:15.327Z"
   },
   {
    "duration": 145,
    "start_time": "2023-11-18T22:24:15.352Z"
   },
   {
    "duration": 4,
    "start_time": "2023-11-18T22:24:15.498Z"
   },
   {
    "duration": 474,
    "start_time": "2023-11-18T22:24:15.503Z"
   },
   {
    "duration": 20,
    "start_time": "2023-11-18T22:24:15.980Z"
   },
   {
    "duration": 28,
    "start_time": "2023-11-18T22:24:16.001Z"
   },
   {
    "duration": 434,
    "start_time": "2023-11-18T22:24:16.031Z"
   },
   {
    "duration": 20,
    "start_time": "2023-11-18T22:24:16.467Z"
   },
   {
    "duration": 29,
    "start_time": "2023-11-18T22:24:16.488Z"
   },
   {
    "duration": 128,
    "start_time": "2023-11-18T22:24:16.518Z"
   },
   {
    "duration": 3,
    "start_time": "2023-11-18T22:24:16.648Z"
   },
   {
    "duration": 915,
    "start_time": "2023-11-18T22:24:16.652Z"
   },
   {
    "duration": 108,
    "start_time": "2023-11-18T22:24:17.568Z"
   },
   {
    "duration": 50,
    "start_time": "2023-11-18T22:24:17.677Z"
   },
   {
    "duration": 3,
    "start_time": "2023-11-18T22:24:17.729Z"
   },
   {
    "duration": 32,
    "start_time": "2023-11-18T22:24:17.733Z"
   },
   {
    "duration": 879,
    "start_time": "2023-11-18T22:24:17.767Z"
   },
   {
    "duration": 37,
    "start_time": "2023-11-18T22:24:18.648Z"
   },
   {
    "duration": 76,
    "start_time": "2023-11-18T22:24:18.688Z"
   },
   {
    "duration": 78,
    "start_time": "2023-11-18T22:24:18.765Z"
   },
   {
    "duration": 43,
    "start_time": "2023-11-18T22:24:18.845Z"
   },
   {
    "duration": 893,
    "start_time": "2023-11-18T22:24:18.889Z"
   },
   {
    "duration": 165,
    "start_time": "2023-11-18T22:24:19.784Z"
   },
   {
    "duration": 907,
    "start_time": "2023-11-18T22:24:19.951Z"
   },
   {
    "duration": 44,
    "start_time": "2023-11-18T22:24:20.860Z"
   },
   {
    "duration": 3,
    "start_time": "2023-11-18T22:24:20.914Z"
   },
   {
    "duration": 8,
    "start_time": "2023-11-18T22:24:20.918Z"
   },
   {
    "duration": 25,
    "start_time": "2023-11-18T22:24:24.360Z"
   },
   {
    "duration": 12,
    "start_time": "2023-11-18T22:24:26.507Z"
   },
   {
    "duration": 12,
    "start_time": "2023-11-18T22:24:45.188Z"
   },
   {
    "duration": 3,
    "start_time": "2023-11-18T22:24:59.070Z"
   },
   {
    "duration": 793,
    "start_time": "2023-11-18T22:24:59.074Z"
   },
   {
    "duration": 3,
    "start_time": "2023-11-18T22:24:59.868Z"
   },
   {
    "duration": 5,
    "start_time": "2023-11-18T22:24:59.873Z"
   },
   {
    "duration": 5,
    "start_time": "2023-11-18T22:24:59.880Z"
   },
   {
    "duration": 4,
    "start_time": "2023-11-18T22:24:59.887Z"
   },
   {
    "duration": 23,
    "start_time": "2023-11-18T22:24:59.892Z"
   },
   {
    "duration": 3,
    "start_time": "2023-11-18T22:24:59.916Z"
   },
   {
    "duration": 808,
    "start_time": "2023-11-18T22:24:59.920Z"
   },
   {
    "duration": 2,
    "start_time": "2023-11-18T22:25:00.730Z"
   },
   {
    "duration": 1311,
    "start_time": "2023-11-18T22:25:00.735Z"
   },
   {
    "duration": 1154,
    "start_time": "2023-11-18T22:25:02.048Z"
   },
   {
    "duration": 3650,
    "start_time": "2023-11-18T22:25:03.203Z"
   },
   {
    "duration": 22,
    "start_time": "2023-11-18T22:25:06.854Z"
   },
   {
    "duration": 42,
    "start_time": "2023-11-18T22:25:06.878Z"
   },
   {
    "duration": 486,
    "start_time": "2023-11-18T22:25:06.922Z"
   },
   {
    "duration": 217,
    "start_time": "2023-11-18T22:25:07.414Z"
   },
   {
    "duration": 2,
    "start_time": "2023-11-18T22:25:07.633Z"
   },
   {
    "duration": 7525,
    "start_time": "2023-11-18T22:25:07.636Z"
   },
   {
    "duration": 17,
    "start_time": "2023-11-18T22:25:15.163Z"
   },
   {
    "duration": 450,
    "start_time": "2023-11-18T22:25:15.182Z"
   },
   {
    "duration": 231,
    "start_time": "2023-11-18T22:25:15.634Z"
   },
   {
    "duration": 3,
    "start_time": "2023-11-18T22:25:15.866Z"
   },
   {
    "duration": 50,
    "start_time": "2023-11-18T22:25:15.871Z"
   },
   {
    "duration": 19,
    "start_time": "2023-11-18T22:25:15.923Z"
   },
   {
    "duration": 129,
    "start_time": "2023-11-18T22:25:15.943Z"
   },
   {
    "duration": 3,
    "start_time": "2023-11-18T22:25:16.074Z"
   },
   {
    "duration": 487,
    "start_time": "2023-11-18T22:25:16.079Z"
   },
   {
    "duration": 21,
    "start_time": "2023-11-18T22:25:16.569Z"
   },
   {
    "duration": 35,
    "start_time": "2023-11-18T22:25:16.592Z"
   },
   {
    "duration": 453,
    "start_time": "2023-11-18T22:25:16.628Z"
   },
   {
    "duration": 32,
    "start_time": "2023-11-18T22:25:17.083Z"
   },
   {
    "duration": 21,
    "start_time": "2023-11-18T22:25:17.116Z"
   },
   {
    "duration": 123,
    "start_time": "2023-11-18T22:25:17.140Z"
   },
   {
    "duration": 4,
    "start_time": "2023-11-18T22:25:17.264Z"
   },
   {
    "duration": 904,
    "start_time": "2023-11-18T22:25:17.270Z"
   },
   {
    "duration": 104,
    "start_time": "2023-11-18T22:25:18.176Z"
   },
   {
    "duration": 49,
    "start_time": "2023-11-18T22:25:18.282Z"
   },
   {
    "duration": 4,
    "start_time": "2023-11-18T22:25:18.333Z"
   },
   {
    "duration": 31,
    "start_time": "2023-11-18T22:25:18.339Z"
   },
   {
    "duration": 894,
    "start_time": "2023-11-18T22:25:18.372Z"
   },
   {
    "duration": 38,
    "start_time": "2023-11-18T22:25:19.268Z"
   },
   {
    "duration": 65,
    "start_time": "2023-11-18T22:25:19.315Z"
   },
   {
    "duration": 71,
    "start_time": "2023-11-18T22:25:19.382Z"
   },
   {
    "duration": 40,
    "start_time": "2023-11-18T22:25:19.454Z"
   },
   {
    "duration": 885,
    "start_time": "2023-11-18T22:25:19.496Z"
   },
   {
    "duration": 163,
    "start_time": "2023-11-18T22:25:20.383Z"
   },
   {
    "duration": 926,
    "start_time": "2023-11-18T22:25:20.547Z"
   },
   {
    "duration": 50,
    "start_time": "2023-11-18T22:25:21.474Z"
   },
   {
    "duration": 2,
    "start_time": "2023-11-18T22:25:21.526Z"
   },
   {
    "duration": 3,
    "start_time": "2023-11-18T22:25:21.530Z"
   },
   {
    "duration": 26,
    "start_time": "2023-11-18T22:25:30.948Z"
   },
   {
    "duration": 10,
    "start_time": "2023-11-18T22:25:31.433Z"
   },
   {
    "duration": 18,
    "start_time": "2023-11-18T22:25:34.149Z"
   },
   {
    "duration": 59,
    "start_time": "2023-11-18T22:25:39.787Z"
   },
   {
    "duration": 38,
    "start_time": "2023-11-18T22:25:41.156Z"
   },
   {
    "duration": 4,
    "start_time": "2023-11-18T22:32:17.395Z"
   },
   {
    "duration": 8,
    "start_time": "2023-11-18T22:32:39.028Z"
   },
   {
    "duration": 3,
    "start_time": "2023-11-18T22:33:02.706Z"
   },
   {
    "duration": 2,
    "start_time": "2023-11-18T22:33:14.186Z"
   },
   {
    "duration": 15,
    "start_time": "2023-11-18T22:34:38.387Z"
   },
   {
    "duration": 82,
    "start_time": "2023-11-18T22:35:44.203Z"
   },
   {
    "duration": 11,
    "start_time": "2023-11-18T22:41:25.186Z"
   },
   {
    "duration": 46,
    "start_time": "2023-11-18T22:41:25.625Z"
   },
   {
    "duration": 9,
    "start_time": "2023-11-18T22:41:26.066Z"
   },
   {
    "duration": 4,
    "start_time": "2023-11-18T22:41:26.466Z"
   },
   {
    "duration": 3,
    "start_time": "2023-11-18T22:41:27.335Z"
   },
   {
    "duration": 245,
    "start_time": "2023-11-18T22:41:28.073Z"
   },
   {
    "duration": 243,
    "start_time": "2023-11-18T22:41:48.266Z"
   },
   {
    "duration": 11,
    "start_time": "2023-11-18T22:42:20.987Z"
   },
   {
    "duration": 43,
    "start_time": "2023-11-18T22:42:21.118Z"
   },
   {
    "duration": 9,
    "start_time": "2023-11-18T22:42:21.273Z"
   },
   {
    "duration": 3,
    "start_time": "2023-11-18T22:42:21.429Z"
   },
   {
    "duration": 2,
    "start_time": "2023-11-18T22:42:21.605Z"
   },
   {
    "duration": 247,
    "start_time": "2023-11-18T22:42:21.788Z"
   },
   {
    "duration": 330,
    "start_time": "2023-11-18T22:42:23.213Z"
   },
   {
    "duration": 7,
    "start_time": "2023-11-18T22:45:04.593Z"
   },
   {
    "duration": 3,
    "start_time": "2023-11-18T22:45:07.625Z"
   },
   {
    "duration": 17,
    "start_time": "2023-11-18T22:45:08.146Z"
   },
   {
    "duration": 35,
    "start_time": "2023-11-18T22:45:55.467Z"
   },
   {
    "duration": 524,
    "start_time": "2023-11-18T22:45:56.868Z"
   },
   {
    "duration": 4,
    "start_time": "2023-11-18T22:46:08.832Z"
   },
   {
    "duration": 36,
    "start_time": "2023-11-18T22:46:09.266Z"
   },
   {
    "duration": 2650,
    "start_time": "2023-11-18T22:46:09.664Z"
   },
   {
    "duration": 87,
    "start_time": "2023-11-18T22:47:19.463Z"
   },
   {
    "duration": 4,
    "start_time": "2023-11-18T22:47:50.145Z"
   },
   {
    "duration": 14,
    "start_time": "2023-11-18T22:49:38.520Z"
   },
   {
    "duration": 8,
    "start_time": "2023-11-18T22:49:44.695Z"
   },
   {
    "duration": 3,
    "start_time": "2023-11-18T22:49:50.348Z"
   },
   {
    "duration": 3,
    "start_time": "2023-11-18T22:53:50.709Z"
   },
   {
    "duration": 3,
    "start_time": "2023-11-18T22:56:08.712Z"
   },
   {
    "duration": 3,
    "start_time": "2023-11-18T22:56:41.986Z"
   },
   {
    "duration": 11,
    "start_time": "2023-11-18T22:59:11.546Z"
   },
   {
    "duration": 45,
    "start_time": "2023-11-18T22:59:11.985Z"
   },
   {
    "duration": 129,
    "start_time": "2023-11-18T22:59:12.425Z"
   },
   {
    "duration": 1478,
    "start_time": "2023-11-18T23:05:22.989Z"
   },
   {
    "duration": 879,
    "start_time": "2023-11-18T23:05:24.469Z"
   },
   {
    "duration": 3,
    "start_time": "2023-11-18T23:05:25.350Z"
   },
   {
    "duration": 10,
    "start_time": "2023-11-18T23:05:25.355Z"
   },
   {
    "duration": 12,
    "start_time": "2023-11-18T23:05:25.367Z"
   },
   {
    "duration": 6,
    "start_time": "2023-11-18T23:05:25.380Z"
   },
   {
    "duration": 4,
    "start_time": "2023-11-18T23:05:25.388Z"
   },
   {
    "duration": 8,
    "start_time": "2023-11-18T23:05:25.393Z"
   },
   {
    "duration": 12,
    "start_time": "2023-11-18T23:05:25.403Z"
   },
   {
    "duration": 7,
    "start_time": "2023-11-18T23:05:25.417Z"
   },
   {
    "duration": 854,
    "start_time": "2023-11-18T23:05:25.425Z"
   },
   {
    "duration": 3,
    "start_time": "2023-11-18T23:05:26.281Z"
   },
   {
    "duration": 1352,
    "start_time": "2023-11-18T23:05:26.285Z"
   },
   {
    "duration": 809,
    "start_time": "2023-11-18T23:05:27.638Z"
   },
   {
    "duration": 3641,
    "start_time": "2023-11-18T23:05:28.448Z"
   },
   {
    "duration": 27,
    "start_time": "2023-11-18T23:05:32.091Z"
   },
   {
    "duration": 36,
    "start_time": "2023-11-18T23:05:32.120Z"
   },
   {
    "duration": 463,
    "start_time": "2023-11-18T23:05:32.157Z"
   },
   {
    "duration": 223,
    "start_time": "2023-11-18T23:05:32.621Z"
   },
   {
    "duration": 2,
    "start_time": "2023-11-18T23:05:32.846Z"
   },
   {
    "duration": 7313,
    "start_time": "2023-11-18T23:05:32.850Z"
   },
   {
    "duration": 19,
    "start_time": "2023-11-18T23:05:40.164Z"
   },
   {
    "duration": 449,
    "start_time": "2023-11-18T23:05:40.184Z"
   },
   {
    "duration": 217,
    "start_time": "2023-11-18T23:05:40.634Z"
   },
   {
    "duration": 2,
    "start_time": "2023-11-18T23:05:40.853Z"
   },
   {
    "duration": 41,
    "start_time": "2023-11-18T23:05:40.856Z"
   },
   {
    "duration": 25,
    "start_time": "2023-11-18T23:05:40.898Z"
   },
   {
    "duration": 132,
    "start_time": "2023-11-18T23:05:40.926Z"
   },
   {
    "duration": 3,
    "start_time": "2023-11-18T23:05:41.060Z"
   },
   {
    "duration": 468,
    "start_time": "2023-11-18T23:05:41.065Z"
   },
   {
    "duration": 18,
    "start_time": "2023-11-18T23:05:41.535Z"
   },
   {
    "duration": 21,
    "start_time": "2023-11-18T23:05:41.555Z"
   },
   {
    "duration": 428,
    "start_time": "2023-11-18T23:05:41.577Z"
   },
   {
    "duration": 24,
    "start_time": "2023-11-18T23:05:42.006Z"
   },
   {
    "duration": 28,
    "start_time": "2023-11-18T23:05:42.032Z"
   },
   {
    "duration": 155,
    "start_time": "2023-11-18T23:05:42.061Z"
   },
   {
    "duration": 3,
    "start_time": "2023-11-18T23:05:42.218Z"
   },
   {
    "duration": 932,
    "start_time": "2023-11-18T23:05:42.223Z"
   },
   {
    "duration": 103,
    "start_time": "2023-11-18T23:05:43.156Z"
   },
   {
    "duration": 43,
    "start_time": "2023-11-18T23:05:43.260Z"
   },
   {
    "duration": 11,
    "start_time": "2023-11-18T23:05:43.305Z"
   },
   {
    "duration": 40,
    "start_time": "2023-11-18T23:05:43.317Z"
   },
   {
    "duration": 919,
    "start_time": "2023-11-18T23:05:43.358Z"
   },
   {
    "duration": 46,
    "start_time": "2023-11-18T23:05:44.278Z"
   },
   {
    "duration": 65,
    "start_time": "2023-11-18T23:05:44.325Z"
   },
   {
    "duration": 73,
    "start_time": "2023-11-18T23:05:44.392Z"
   },
   {
    "duration": 41,
    "start_time": "2023-11-18T23:05:44.466Z"
   },
   {
    "duration": 895,
    "start_time": "2023-11-18T23:05:44.514Z"
   },
   {
    "duration": 164,
    "start_time": "2023-11-18T23:05:45.411Z"
   },
   {
    "duration": 920,
    "start_time": "2023-11-18T23:05:45.577Z"
   },
   {
    "duration": 54,
    "start_time": "2023-11-18T23:05:46.499Z"
   },
   {
    "duration": 3,
    "start_time": "2023-11-18T23:05:46.554Z"
   },
   {
    "duration": 16,
    "start_time": "2023-11-18T23:05:46.559Z"
   },
   {
    "duration": 32,
    "start_time": "2023-11-18T23:05:46.576Z"
   },
   {
    "duration": 23,
    "start_time": "2023-11-18T23:05:46.609Z"
   },
   {
    "duration": 67,
    "start_time": "2023-11-18T23:05:46.633Z"
   },
   {
    "duration": 164,
    "start_time": "2023-11-18T23:05:46.702Z"
   },
   {
    "duration": 10,
    "start_time": "2023-11-18T23:06:28.567Z"
   },
   {
    "duration": 46,
    "start_time": "2023-11-18T23:06:34.949Z"
   },
   {
    "duration": 2590,
    "start_time": "2023-11-18T23:06:38.345Z"
   },
   {
    "duration": 3,
    "start_time": "2023-11-18T23:07:51.231Z"
   },
   {
    "duration": 2078,
    "start_time": "2023-11-18T23:13:08.825Z"
   },
   {
    "duration": 2,
    "start_time": "2023-11-18T23:13:53.376Z"
   },
   {
    "duration": 2115,
    "start_time": "2023-11-18T23:13:54.066Z"
   },
   {
    "duration": 16,
    "start_time": "2023-11-18T23:14:36.105Z"
   },
   {
    "duration": 16,
    "start_time": "2023-11-18T23:15:45.788Z"
   },
   {
    "duration": 1352,
    "start_time": "2023-11-18T23:16:49.668Z"
   },
   {
    "duration": 828,
    "start_time": "2023-11-18T23:16:51.022Z"
   },
   {
    "duration": 3,
    "start_time": "2023-11-18T23:16:51.851Z"
   },
   {
    "duration": 25,
    "start_time": "2023-11-18T23:16:51.856Z"
   },
   {
    "duration": 5,
    "start_time": "2023-11-18T23:16:51.883Z"
   },
   {
    "duration": 7,
    "start_time": "2023-11-18T23:16:51.889Z"
   },
   {
    "duration": 4,
    "start_time": "2023-11-18T23:16:51.897Z"
   },
   {
    "duration": 11,
    "start_time": "2023-11-18T23:16:51.902Z"
   },
   {
    "duration": 7,
    "start_time": "2023-11-18T23:16:51.914Z"
   },
   {
    "duration": 14,
    "start_time": "2023-11-18T23:16:51.922Z"
   },
   {
    "duration": 848,
    "start_time": "2023-11-18T23:16:51.938Z"
   },
   {
    "duration": 3,
    "start_time": "2023-11-18T23:16:52.787Z"
   },
   {
    "duration": 1377,
    "start_time": "2023-11-18T23:16:52.792Z"
   },
   {
    "duration": 836,
    "start_time": "2023-11-18T23:16:54.172Z"
   },
   {
    "duration": 3680,
    "start_time": "2023-11-18T23:16:55.010Z"
   },
   {
    "duration": 28,
    "start_time": "2023-11-18T23:16:58.691Z"
   },
   {
    "duration": 17,
    "start_time": "2023-11-18T23:16:58.721Z"
   },
   {
    "duration": 492,
    "start_time": "2023-11-18T23:16:58.739Z"
   },
   {
    "duration": 228,
    "start_time": "2023-11-18T23:16:59.232Z"
   },
   {
    "duration": 2,
    "start_time": "2023-11-18T23:16:59.462Z"
   },
   {
    "duration": 7510,
    "start_time": "2023-11-18T23:16:59.465Z"
   },
   {
    "duration": 18,
    "start_time": "2023-11-18T23:17:06.977Z"
   },
   {
    "duration": 448,
    "start_time": "2023-11-18T23:17:06.997Z"
   },
   {
    "duration": 235,
    "start_time": "2023-11-18T23:17:07.446Z"
   },
   {
    "duration": 3,
    "start_time": "2023-11-18T23:17:07.682Z"
   },
   {
    "duration": 3714,
    "start_time": "2023-11-18T23:17:07.687Z"
   },
   {
    "duration": 19,
    "start_time": "2023-11-18T23:17:11.403Z"
   },
   {
    "duration": 132,
    "start_time": "2023-11-18T23:17:11.424Z"
   },
   {
    "duration": 4,
    "start_time": "2023-11-18T23:17:11.557Z"
   },
   {
    "duration": 4,
    "start_time": "2023-11-18T23:17:26.826Z"
   },
   {
    "duration": 4,
    "start_time": "2023-11-18T23:18:07.666Z"
   },
   {
    "duration": 917,
    "start_time": "2023-11-18T23:18:07.671Z"
   },
   {
    "duration": 3,
    "start_time": "2023-11-18T23:18:08.590Z"
   },
   {
    "duration": 5,
    "start_time": "2023-11-18T23:18:08.595Z"
   },
   {
    "duration": 4,
    "start_time": "2023-11-18T23:18:08.614Z"
   },
   {
    "duration": 20,
    "start_time": "2023-11-18T23:18:08.619Z"
   },
   {
    "duration": 9,
    "start_time": "2023-11-18T23:18:08.641Z"
   },
   {
    "duration": 12,
    "start_time": "2023-11-18T23:18:08.651Z"
   },
   {
    "duration": 12,
    "start_time": "2023-11-18T23:18:08.665Z"
   },
   {
    "duration": 10,
    "start_time": "2023-11-18T23:18:08.679Z"
   },
   {
    "duration": 826,
    "start_time": "2023-11-18T23:18:08.691Z"
   },
   {
    "duration": 2,
    "start_time": "2023-11-18T23:18:09.519Z"
   },
   {
    "duration": 1324,
    "start_time": "2023-11-18T23:18:09.523Z"
   },
   {
    "duration": 806,
    "start_time": "2023-11-18T23:18:10.849Z"
   },
   {
    "duration": 3715,
    "start_time": "2023-11-18T23:18:11.657Z"
   },
   {
    "duration": 23,
    "start_time": "2023-11-18T23:18:15.373Z"
   },
   {
    "duration": 34,
    "start_time": "2023-11-18T23:18:15.397Z"
   },
   {
    "duration": 475,
    "start_time": "2023-11-18T23:18:15.433Z"
   },
   {
    "duration": 228,
    "start_time": "2023-11-18T23:18:15.914Z"
   },
   {
    "duration": 3,
    "start_time": "2023-11-18T23:18:16.143Z"
   },
   {
    "duration": 7133,
    "start_time": "2023-11-18T23:18:16.148Z"
   },
   {
    "duration": 18,
    "start_time": "2023-11-18T23:18:23.283Z"
   },
   {
    "duration": 428,
    "start_time": "2023-11-18T23:18:23.303Z"
   },
   {
    "duration": 219,
    "start_time": "2023-11-18T23:18:23.734Z"
   },
   {
    "duration": 2,
    "start_time": "2023-11-18T23:18:23.955Z"
   },
   {
    "duration": 3819,
    "start_time": "2023-11-18T23:18:23.959Z"
   },
   {
    "duration": 19,
    "start_time": "2023-11-18T23:18:27.780Z"
   },
   {
    "duration": 137,
    "start_time": "2023-11-18T23:18:27.800Z"
   },
   {
    "duration": 4,
    "start_time": "2023-11-18T23:18:27.938Z"
   },
   {
    "duration": 472,
    "start_time": "2023-11-18T23:18:27.944Z"
   },
   {
    "duration": 19,
    "start_time": "2023-11-18T23:18:28.418Z"
   },
   {
    "duration": 20,
    "start_time": "2023-11-18T23:18:28.439Z"
   },
   {
    "duration": 458,
    "start_time": "2023-11-18T23:18:28.461Z"
   },
   {
    "duration": 20,
    "start_time": "2023-11-18T23:18:28.921Z"
   },
   {
    "duration": 26,
    "start_time": "2023-11-18T23:18:28.943Z"
   },
   {
    "duration": 135,
    "start_time": "2023-11-18T23:18:28.970Z"
   },
   {
    "duration": 9,
    "start_time": "2023-11-18T23:18:29.107Z"
   },
   {
    "duration": 860,
    "start_time": "2023-11-18T23:18:29.117Z"
   },
   {
    "duration": 115,
    "start_time": "2023-11-18T23:18:29.978Z"
   },
   {
    "duration": 48,
    "start_time": "2023-11-18T23:18:30.095Z"
   },
   {
    "duration": 3,
    "start_time": "2023-11-18T23:18:30.145Z"
   },
   {
    "duration": 58,
    "start_time": "2023-11-18T23:18:30.149Z"
   },
   {
    "duration": 841,
    "start_time": "2023-11-18T23:18:30.209Z"
   },
   {
    "duration": 32,
    "start_time": "2023-11-18T23:18:31.052Z"
   },
   {
    "duration": 80,
    "start_time": "2023-11-18T23:18:31.086Z"
   },
   {
    "duration": 72,
    "start_time": "2023-11-18T23:18:31.168Z"
   },
   {
    "duration": 43,
    "start_time": "2023-11-18T23:18:31.242Z"
   },
   {
    "duration": 890,
    "start_time": "2023-11-18T23:18:31.287Z"
   },
   {
    "duration": 164,
    "start_time": "2023-11-18T23:18:32.178Z"
   },
   {
    "duration": 916,
    "start_time": "2023-11-18T23:18:32.343Z"
   },
   {
    "duration": 57,
    "start_time": "2023-11-18T23:18:33.261Z"
   },
   {
    "duration": 3,
    "start_time": "2023-11-18T23:18:33.320Z"
   },
   {
    "duration": 9,
    "start_time": "2023-11-18T23:18:33.325Z"
   },
   {
    "duration": 40,
    "start_time": "2023-11-18T23:18:33.335Z"
   },
   {
    "duration": 12,
    "start_time": "2023-11-18T23:18:33.376Z"
   },
   {
    "duration": 55,
    "start_time": "2023-11-18T23:18:33.389Z"
   },
   {
    "duration": 146,
    "start_time": "2023-11-18T23:18:33.446Z"
   },
   {
    "duration": 21,
    "start_time": "2023-11-18T23:18:33.594Z"
   },
   {
    "duration": 48,
    "start_time": "2023-11-18T23:18:33.616Z"
   },
   {
    "duration": 2846,
    "start_time": "2023-11-18T23:18:33.666Z"
   },
   {
    "duration": 15,
    "start_time": "2023-11-18T23:18:36.515Z"
   },
   {
    "duration": 7,
    "start_time": "2023-11-18T23:18:36.532Z"
   },
   {
    "duration": 25477,
    "start_time": "2023-11-18T23:18:36.541Z"
   },
   {
    "duration": 131,
    "start_time": "2023-11-18T23:19:02.020Z"
   },
   {
    "duration": 6,
    "start_time": "2023-11-18T23:19:02.218Z"
   },
   {
    "duration": 4,
    "start_time": "2023-11-18T23:19:35.267Z"
   },
   {
    "duration": 4,
    "start_time": "2023-11-18T23:25:40.469Z"
   },
   {
    "duration": 22884,
    "start_time": "2023-11-18T23:27:45.626Z"
   },
   {
    "duration": 1469,
    "start_time": "2023-11-18T23:28:59.326Z"
   },
   {
    "duration": 2972,
    "start_time": "2023-11-18T23:29:00.797Z"
   },
   {
    "duration": 3,
    "start_time": "2023-11-18T23:29:03.770Z"
   },
   {
    "duration": 8,
    "start_time": "2023-11-18T23:29:03.775Z"
   },
   {
    "duration": 9,
    "start_time": "2023-11-18T23:29:03.785Z"
   },
   {
    "duration": 27,
    "start_time": "2023-11-18T23:29:03.795Z"
   },
   {
    "duration": 8,
    "start_time": "2023-11-18T23:29:03.823Z"
   },
   {
    "duration": 12,
    "start_time": "2023-11-18T23:29:03.833Z"
   },
   {
    "duration": 13,
    "start_time": "2023-11-18T23:29:03.846Z"
   },
   {
    "duration": 10,
    "start_time": "2023-11-18T23:29:03.860Z"
   },
   {
    "duration": 887,
    "start_time": "2023-11-18T23:29:03.871Z"
   },
   {
    "duration": 2,
    "start_time": "2023-11-18T23:29:04.760Z"
   },
   {
    "duration": 1395,
    "start_time": "2023-11-18T23:29:04.764Z"
   },
   {
    "duration": 786,
    "start_time": "2023-11-18T23:29:06.162Z"
   },
   {
    "duration": 3646,
    "start_time": "2023-11-18T23:29:06.950Z"
   },
   {
    "duration": 31,
    "start_time": "2023-11-18T23:29:10.597Z"
   },
   {
    "duration": 33,
    "start_time": "2023-11-18T23:29:10.630Z"
   },
   {
    "duration": 464,
    "start_time": "2023-11-18T23:29:10.664Z"
   },
   {
    "duration": 224,
    "start_time": "2023-11-18T23:29:11.130Z"
   },
   {
    "duration": 3,
    "start_time": "2023-11-18T23:29:11.355Z"
   },
   {
    "duration": 7199,
    "start_time": "2023-11-18T23:29:11.359Z"
   },
   {
    "duration": 19,
    "start_time": "2023-11-18T23:29:18.559Z"
   },
   {
    "duration": 439,
    "start_time": "2023-11-18T23:29:18.580Z"
   },
   {
    "duration": 214,
    "start_time": "2023-11-18T23:29:19.021Z"
   },
   {
    "duration": 3,
    "start_time": "2023-11-18T23:29:19.237Z"
   },
   {
    "duration": 3657,
    "start_time": "2023-11-18T23:29:19.242Z"
   },
   {
    "duration": 23,
    "start_time": "2023-11-18T23:29:22.900Z"
   },
   {
    "duration": 142,
    "start_time": "2023-11-18T23:29:22.924Z"
   },
   {
    "duration": 4,
    "start_time": "2023-11-18T23:29:23.068Z"
   },
   {
    "duration": 452,
    "start_time": "2023-11-18T23:29:23.073Z"
   },
   {
    "duration": 19,
    "start_time": "2023-11-18T23:29:23.527Z"
   },
   {
    "duration": 19,
    "start_time": "2023-11-18T23:29:23.547Z"
   },
   {
    "duration": 435,
    "start_time": "2023-11-18T23:29:23.568Z"
   },
   {
    "duration": 23,
    "start_time": "2023-11-18T23:29:24.004Z"
   },
   {
    "duration": 20,
    "start_time": "2023-11-18T23:29:24.028Z"
   },
   {
    "duration": 162,
    "start_time": "2023-11-18T23:29:24.050Z"
   },
   {
    "duration": 4,
    "start_time": "2023-11-18T23:29:24.214Z"
   },
   {
    "duration": 994,
    "start_time": "2023-11-18T23:29:24.220Z"
   },
   {
    "duration": 99,
    "start_time": "2023-11-18T23:29:25.216Z"
   },
   {
    "duration": 42,
    "start_time": "2023-11-18T23:29:25.316Z"
   },
   {
    "duration": 3,
    "start_time": "2023-11-18T23:29:25.362Z"
   },
   {
    "duration": 49,
    "start_time": "2023-11-18T23:29:25.366Z"
   },
   {
    "duration": 819,
    "start_time": "2023-11-18T23:29:25.416Z"
   },
   {
    "duration": 38,
    "start_time": "2023-11-18T23:29:26.236Z"
   },
   {
    "duration": 78,
    "start_time": "2023-11-18T23:29:26.276Z"
   },
   {
    "duration": 64,
    "start_time": "2023-11-18T23:29:26.355Z"
   },
   {
    "duration": 39,
    "start_time": "2023-11-18T23:29:26.421Z"
   },
   {
    "duration": 917,
    "start_time": "2023-11-18T23:29:26.462Z"
   },
   {
    "duration": 161,
    "start_time": "2023-11-18T23:29:27.380Z"
   },
   {
    "duration": 917,
    "start_time": "2023-11-18T23:29:27.542Z"
   },
   {
    "duration": 43,
    "start_time": "2023-11-18T23:29:28.461Z"
   },
   {
    "duration": 10,
    "start_time": "2023-11-18T23:29:28.506Z"
   },
   {
    "duration": 8,
    "start_time": "2023-11-18T23:29:28.517Z"
   },
   {
    "duration": 32,
    "start_time": "2023-11-18T23:29:28.526Z"
   },
   {
    "duration": 20,
    "start_time": "2023-11-18T23:29:28.559Z"
   },
   {
    "duration": 76,
    "start_time": "2023-11-18T23:29:28.581Z"
   },
   {
    "duration": 157,
    "start_time": "2023-11-18T23:29:28.658Z"
   },
   {
    "duration": 8,
    "start_time": "2023-11-18T23:29:28.817Z"
   },
   {
    "duration": 54,
    "start_time": "2023-11-18T23:29:28.826Z"
   },
   {
    "duration": 2762,
    "start_time": "2023-11-18T23:29:28.882Z"
   },
   {
    "duration": 3,
    "start_time": "2023-11-18T23:29:31.645Z"
   },
   {
    "duration": 115166,
    "start_time": "2023-11-18T23:29:31.649Z"
   },
   {
    "duration": 5,
    "start_time": "2023-11-18T23:31:26.817Z"
   },
   {
    "duration": 6,
    "start_time": "2023-11-18T23:31:26.823Z"
   },
   {
    "duration": 191,
    "start_time": "2023-11-18T23:35:57.795Z"
   },
   {
    "duration": 122119,
    "start_time": "2023-11-18T23:36:11.704Z"
   },
   {
    "duration": 4,
    "start_time": "2023-11-18T23:38:53.665Z"
   },
   {
    "duration": 113,
    "start_time": "2023-11-18T23:39:51.991Z"
   },
   {
    "duration": 127,
    "start_time": "2023-11-18T23:41:52.013Z"
   },
   {
    "duration": 111712,
    "start_time": "2023-11-18T23:42:17.225Z"
   },
   {
    "duration": 6,
    "start_time": "2023-11-18T23:44:09.016Z"
   },
   {
    "duration": 5,
    "start_time": "2023-11-18T23:44:15.838Z"
   },
   {
    "duration": 28546,
    "start_time": "2023-11-18T23:45:11.473Z"
   },
   {
    "duration": 192,
    "start_time": "2023-11-18T23:45:40.022Z"
   },
   {
    "duration": 11,
    "start_time": "2023-11-18T23:47:38.905Z"
   },
   {
    "duration": 5,
    "start_time": "2023-11-18T23:47:44.227Z"
   },
   {
    "duration": 4,
    "start_time": "2023-11-18T23:47:54.242Z"
   },
   {
    "duration": 3,
    "start_time": "2023-11-18T23:51:57.743Z"
   },
   {
    "duration": 112788,
    "start_time": "2023-11-18T23:51:59.039Z"
   },
   {
    "duration": 89,
    "start_time": "2023-11-18T23:53:51.829Z"
   },
   {
    "duration": 3,
    "start_time": "2023-11-19T00:06:50.770Z"
   },
   {
    "duration": 3,
    "start_time": "2023-11-19T00:07:42.931Z"
   },
   {
    "duration": 68,
    "start_time": "2023-11-19T00:12:44.145Z"
   },
   {
    "duration": 4,
    "start_time": "2023-11-19T00:12:49.467Z"
   },
   {
    "duration": 3,
    "start_time": "2023-11-19T00:13:15.050Z"
   },
   {
    "duration": 9,
    "start_time": "2023-11-19T00:13:24.794Z"
   },
   {
    "duration": 151,
    "start_time": "2023-11-19T00:14:56.939Z"
   },
   {
    "duration": 1432,
    "start_time": "2023-11-19T15:39:58.811Z"
   },
   {
    "duration": 905,
    "start_time": "2023-11-19T15:40:00.245Z"
   },
   {
    "duration": 3,
    "start_time": "2023-11-19T15:40:01.152Z"
   },
   {
    "duration": 1269,
    "start_time": "2023-11-19T15:40:03.802Z"
   },
   {
    "duration": 1388,
    "start_time": "2023-11-19T16:43:57.763Z"
   },
   {
    "duration": 3908,
    "start_time": "2023-11-19T16:43:59.152Z"
   },
   {
    "duration": 0,
    "start_time": "2023-11-19T16:44:03.064Z"
   },
   {
    "duration": 0,
    "start_time": "2023-11-19T16:44:03.066Z"
   },
   {
    "duration": 0,
    "start_time": "2023-11-19T16:44:03.066Z"
   },
   {
    "duration": 0,
    "start_time": "2023-11-19T16:44:03.068Z"
   },
   {
    "duration": 0,
    "start_time": "2023-11-19T16:44:03.068Z"
   },
   {
    "duration": 0,
    "start_time": "2023-11-19T16:44:03.069Z"
   },
   {
    "duration": 0,
    "start_time": "2023-11-19T16:44:03.070Z"
   },
   {
    "duration": 0,
    "start_time": "2023-11-19T16:44:03.071Z"
   },
   {
    "duration": 0,
    "start_time": "2023-11-19T16:44:03.073Z"
   },
   {
    "duration": 0,
    "start_time": "2023-11-19T16:44:03.074Z"
   },
   {
    "duration": 0,
    "start_time": "2023-11-19T16:44:03.075Z"
   },
   {
    "duration": 0,
    "start_time": "2023-11-19T16:44:03.076Z"
   },
   {
    "duration": 0,
    "start_time": "2023-11-19T16:44:03.077Z"
   },
   {
    "duration": 0,
    "start_time": "2023-11-19T16:44:03.078Z"
   },
   {
    "duration": 0,
    "start_time": "2023-11-19T16:44:03.078Z"
   },
   {
    "duration": 0,
    "start_time": "2023-11-19T16:44:03.079Z"
   },
   {
    "duration": 0,
    "start_time": "2023-11-19T16:44:03.080Z"
   },
   {
    "duration": 0,
    "start_time": "2023-11-19T16:44:03.081Z"
   },
   {
    "duration": 0,
    "start_time": "2023-11-19T16:44:03.082Z"
   },
   {
    "duration": 0,
    "start_time": "2023-11-19T16:44:03.083Z"
   },
   {
    "duration": 0,
    "start_time": "2023-11-19T16:44:03.083Z"
   },
   {
    "duration": 0,
    "start_time": "2023-11-19T16:44:03.084Z"
   },
   {
    "duration": 0,
    "start_time": "2023-11-19T16:44:03.085Z"
   },
   {
    "duration": 0,
    "start_time": "2023-11-19T16:44:03.086Z"
   },
   {
    "duration": 0,
    "start_time": "2023-11-19T16:44:03.087Z"
   },
   {
    "duration": 0,
    "start_time": "2023-11-19T16:44:03.088Z"
   },
   {
    "duration": 0,
    "start_time": "2023-11-19T16:44:03.088Z"
   },
   {
    "duration": 0,
    "start_time": "2023-11-19T16:44:03.089Z"
   },
   {
    "duration": 0,
    "start_time": "2023-11-19T16:44:03.090Z"
   },
   {
    "duration": 0,
    "start_time": "2023-11-19T16:44:03.091Z"
   },
   {
    "duration": 0,
    "start_time": "2023-11-19T16:44:03.092Z"
   },
   {
    "duration": 0,
    "start_time": "2023-11-19T16:44:03.093Z"
   },
   {
    "duration": 0,
    "start_time": "2023-11-19T16:44:03.094Z"
   },
   {
    "duration": 0,
    "start_time": "2023-11-19T16:44:03.095Z"
   },
   {
    "duration": 0,
    "start_time": "2023-11-19T16:44:03.096Z"
   },
   {
    "duration": 0,
    "start_time": "2023-11-19T16:44:03.097Z"
   },
   {
    "duration": 0,
    "start_time": "2023-11-19T16:44:03.098Z"
   },
   {
    "duration": 0,
    "start_time": "2023-11-19T16:44:03.114Z"
   },
   {
    "duration": 0,
    "start_time": "2023-11-19T16:44:03.115Z"
   },
   {
    "duration": 0,
    "start_time": "2023-11-19T16:44:03.116Z"
   },
   {
    "duration": 0,
    "start_time": "2023-11-19T16:44:03.117Z"
   },
   {
    "duration": 0,
    "start_time": "2023-11-19T16:44:03.118Z"
   },
   {
    "duration": 0,
    "start_time": "2023-11-19T16:44:03.119Z"
   },
   {
    "duration": 0,
    "start_time": "2023-11-19T16:44:03.120Z"
   },
   {
    "duration": 0,
    "start_time": "2023-11-19T16:44:03.121Z"
   },
   {
    "duration": 0,
    "start_time": "2023-11-19T16:44:03.122Z"
   },
   {
    "duration": 0,
    "start_time": "2023-11-19T16:44:03.123Z"
   },
   {
    "duration": 0,
    "start_time": "2023-11-19T16:44:03.124Z"
   },
   {
    "duration": 0,
    "start_time": "2023-11-19T16:44:03.125Z"
   },
   {
    "duration": 0,
    "start_time": "2023-11-19T16:44:03.126Z"
   },
   {
    "duration": 0,
    "start_time": "2023-11-19T16:44:03.126Z"
   },
   {
    "duration": 0,
    "start_time": "2023-11-19T16:44:03.127Z"
   },
   {
    "duration": 0,
    "start_time": "2023-11-19T16:44:03.128Z"
   },
   {
    "duration": 0,
    "start_time": "2023-11-19T16:44:03.129Z"
   },
   {
    "duration": 0,
    "start_time": "2023-11-19T16:44:03.130Z"
   },
   {
    "duration": 0,
    "start_time": "2023-11-19T16:44:03.131Z"
   },
   {
    "duration": 0,
    "start_time": "2023-11-19T16:44:03.132Z"
   },
   {
    "duration": 0,
    "start_time": "2023-11-19T16:44:03.133Z"
   },
   {
    "duration": 0,
    "start_time": "2023-11-19T16:44:03.134Z"
   },
   {
    "duration": 0,
    "start_time": "2023-11-19T16:44:03.135Z"
   },
   {
    "duration": 0,
    "start_time": "2023-11-19T16:44:03.136Z"
   },
   {
    "duration": 0,
    "start_time": "2023-11-19T16:44:03.136Z"
   },
   {
    "duration": 0,
    "start_time": "2023-11-19T16:44:03.137Z"
   },
   {
    "duration": 0,
    "start_time": "2023-11-19T16:44:03.138Z"
   },
   {
    "duration": 0,
    "start_time": "2023-11-19T16:44:03.139Z"
   },
   {
    "duration": 0,
    "start_time": "2023-11-19T16:44:03.140Z"
   },
   {
    "duration": 0,
    "start_time": "2023-11-19T16:44:03.141Z"
   },
   {
    "duration": 0,
    "start_time": "2023-11-19T16:44:03.142Z"
   },
   {
    "duration": 3,
    "start_time": "2023-11-19T16:44:42.325Z"
   },
   {
    "duration": 871,
    "start_time": "2023-11-19T16:44:42.329Z"
   },
   {
    "duration": 3,
    "start_time": "2023-11-19T16:44:43.202Z"
   },
   {
    "duration": 8,
    "start_time": "2023-11-19T16:44:43.206Z"
   },
   {
    "duration": 24,
    "start_time": "2023-11-19T16:44:43.216Z"
   },
   {
    "duration": 19,
    "start_time": "2023-11-19T16:44:43.241Z"
   },
   {
    "duration": 4,
    "start_time": "2023-11-19T16:44:43.261Z"
   },
   {
    "duration": 12,
    "start_time": "2023-11-19T16:44:43.266Z"
   },
   {
    "duration": 3,
    "start_time": "2023-11-19T16:44:43.280Z"
   },
   {
    "duration": 5,
    "start_time": "2023-11-19T16:44:43.285Z"
   },
   {
    "duration": 885,
    "start_time": "2023-11-19T16:44:43.292Z"
   },
   {
    "duration": 2,
    "start_time": "2023-11-19T16:44:44.179Z"
   },
   {
    "duration": 1388,
    "start_time": "2023-11-19T16:44:44.182Z"
   },
   {
    "duration": 830,
    "start_time": "2023-11-19T16:44:45.571Z"
   },
   {
    "duration": 3740,
    "start_time": "2023-11-19T16:44:46.402Z"
   },
   {
    "duration": 20,
    "start_time": "2023-11-19T16:44:50.144Z"
   },
   {
    "duration": 35,
    "start_time": "2023-11-19T16:44:50.166Z"
   },
   {
    "duration": 468,
    "start_time": "2023-11-19T16:44:50.202Z"
   },
   {
    "duration": 224,
    "start_time": "2023-11-19T16:44:50.672Z"
   },
   {
    "duration": 3,
    "start_time": "2023-11-19T16:44:50.897Z"
   },
   {
    "duration": 7132,
    "start_time": "2023-11-19T16:44:50.902Z"
   },
   {
    "duration": 18,
    "start_time": "2023-11-19T16:44:58.036Z"
   },
   {
    "duration": 441,
    "start_time": "2023-11-19T16:44:58.055Z"
   },
   {
    "duration": 222,
    "start_time": "2023-11-19T16:44:58.498Z"
   },
   {
    "duration": 3,
    "start_time": "2023-11-19T16:44:58.721Z"
   },
   {
    "duration": 3706,
    "start_time": "2023-11-19T16:44:58.725Z"
   },
   {
    "duration": 20,
    "start_time": "2023-11-19T16:45:02.433Z"
   },
   {
    "duration": 155,
    "start_time": "2023-11-19T16:45:02.454Z"
   },
   {
    "duration": 3,
    "start_time": "2023-11-19T16:45:02.614Z"
   },
   {
    "duration": 535,
    "start_time": "2023-11-19T16:45:02.619Z"
   },
   {
    "duration": 19,
    "start_time": "2023-11-19T16:45:03.156Z"
   },
   {
    "duration": 48,
    "start_time": "2023-11-19T16:45:03.177Z"
   },
   {
    "duration": 418,
    "start_time": "2023-11-19T16:45:03.227Z"
   },
   {
    "duration": 20,
    "start_time": "2023-11-19T16:45:03.646Z"
   },
   {
    "duration": 35,
    "start_time": "2023-11-19T16:45:03.667Z"
   },
   {
    "duration": 126,
    "start_time": "2023-11-19T16:45:03.704Z"
   },
   {
    "duration": 4,
    "start_time": "2023-11-19T16:45:03.832Z"
   },
   {
    "duration": 915,
    "start_time": "2023-11-19T16:45:03.837Z"
   },
   {
    "duration": 104,
    "start_time": "2023-11-19T16:45:04.754Z"
   },
   {
    "duration": 44,
    "start_time": "2023-11-19T16:45:04.859Z"
   },
   {
    "duration": 12,
    "start_time": "2023-11-19T16:45:04.905Z"
   },
   {
    "duration": 36,
    "start_time": "2023-11-19T16:45:04.918Z"
   },
   {
    "duration": 896,
    "start_time": "2023-11-19T16:45:04.955Z"
   },
   {
    "duration": 32,
    "start_time": "2023-11-19T16:45:05.852Z"
   },
   {
    "duration": 78,
    "start_time": "2023-11-19T16:45:05.886Z"
   },
   {
    "duration": 68,
    "start_time": "2023-11-19T16:45:05.965Z"
   },
   {
    "duration": 40,
    "start_time": "2023-11-19T16:45:06.034Z"
   },
   {
    "duration": 896,
    "start_time": "2023-11-19T16:45:06.075Z"
   },
   {
    "duration": 158,
    "start_time": "2023-11-19T16:45:06.973Z"
   },
   {
    "duration": 940,
    "start_time": "2023-11-19T16:45:07.133Z"
   },
   {
    "duration": 51,
    "start_time": "2023-11-19T16:45:08.075Z"
   },
   {
    "duration": 3,
    "start_time": "2023-11-19T16:45:08.127Z"
   },
   {
    "duration": 11,
    "start_time": "2023-11-19T16:45:08.132Z"
   },
   {
    "duration": 33,
    "start_time": "2023-11-19T16:45:08.145Z"
   },
   {
    "duration": 11,
    "start_time": "2023-11-19T16:45:08.179Z"
   },
   {
    "duration": 56,
    "start_time": "2023-11-19T16:45:08.191Z"
   },
   {
    "duration": 150,
    "start_time": "2023-11-19T16:45:08.249Z"
   },
   {
    "duration": 20,
    "start_time": "2023-11-19T16:45:08.401Z"
   },
   {
    "duration": 53,
    "start_time": "2023-11-19T16:45:08.422Z"
   },
   {
    "duration": 3168,
    "start_time": "2023-11-19T16:45:08.477Z"
   },
   {
    "duration": 3,
    "start_time": "2023-11-19T16:45:11.646Z"
   },
   {
    "duration": 92073,
    "start_time": "2023-11-19T16:45:11.650Z"
   },
   {
    "duration": 8,
    "start_time": "2023-11-19T16:46:43.815Z"
   },
   {
    "duration": 3,
    "start_time": "2023-11-19T16:46:43.915Z"
   },
   {
    "duration": 22897,
    "start_time": "2023-11-19T16:46:43.920Z"
   },
   {
    "duration": 134,
    "start_time": "2023-11-19T16:47:06.818Z"
   },
   {
    "duration": 3,
    "start_time": "2023-11-19T16:47:07.017Z"
   },
   {
    "duration": 93,
    "start_time": "2023-11-19T16:47:07.023Z"
   },
   {
    "duration": 3,
    "start_time": "2023-11-19T16:51:38.567Z"
   },
   {
    "duration": 16675,
    "start_time": "2023-11-19T16:52:14.744Z"
   },
   {
    "duration": 92,
    "start_time": "2023-11-19T16:55:47.326Z"
   },
   {
    "duration": 12,
    "start_time": "2023-11-19T16:56:14.951Z"
   },
   {
    "duration": 8,
    "start_time": "2023-11-19T16:56:43.788Z"
   },
   {
    "duration": 5,
    "start_time": "2023-11-19T16:56:52.971Z"
   },
   {
    "duration": 28,
    "start_time": "2023-11-19T17:09:51.771Z"
   },
   {
    "duration": 3,
    "start_time": "2023-11-19T17:20:32.561Z"
   },
   {
    "duration": 20313,
    "start_time": "2023-11-19T17:20:55.722Z"
   },
   {
    "duration": 1471,
    "start_time": "2023-11-19T17:22:03.732Z"
   },
   {
    "duration": 2955,
    "start_time": "2023-11-19T17:22:05.205Z"
   },
   {
    "duration": 3,
    "start_time": "2023-11-19T17:22:08.162Z"
   },
   {
    "duration": 13,
    "start_time": "2023-11-19T17:22:08.167Z"
   },
   {
    "duration": 11,
    "start_time": "2023-11-19T17:22:08.181Z"
   },
   {
    "duration": 5,
    "start_time": "2023-11-19T17:22:08.194Z"
   },
   {
    "duration": 4,
    "start_time": "2023-11-19T17:22:08.201Z"
   },
   {
    "duration": 5,
    "start_time": "2023-11-19T17:22:08.206Z"
   },
   {
    "duration": 6,
    "start_time": "2023-11-19T17:22:08.212Z"
   },
   {
    "duration": 5,
    "start_time": "2023-11-19T17:22:08.220Z"
   },
   {
    "duration": 886,
    "start_time": "2023-11-19T17:22:08.226Z"
   },
   {
    "duration": 2,
    "start_time": "2023-11-19T17:22:09.115Z"
   },
   {
    "duration": 1482,
    "start_time": "2023-11-19T17:22:09.118Z"
   },
   {
    "duration": 817,
    "start_time": "2023-11-19T17:22:10.601Z"
   },
   {
    "duration": 3686,
    "start_time": "2023-11-19T17:22:11.419Z"
   },
   {
    "duration": 27,
    "start_time": "2023-11-19T17:22:15.107Z"
   },
   {
    "duration": 36,
    "start_time": "2023-11-19T17:22:15.135Z"
   },
   {
    "duration": 475,
    "start_time": "2023-11-19T17:22:15.173Z"
   },
   {
    "duration": 220,
    "start_time": "2023-11-19T17:22:15.650Z"
   },
   {
    "duration": 3,
    "start_time": "2023-11-19T17:22:15.871Z"
   },
   {
    "duration": 7406,
    "start_time": "2023-11-19T17:22:15.876Z"
   },
   {
    "duration": 18,
    "start_time": "2023-11-19T17:22:23.284Z"
   },
   {
    "duration": 425,
    "start_time": "2023-11-19T17:22:23.315Z"
   },
   {
    "duration": 230,
    "start_time": "2023-11-19T17:22:23.741Z"
   },
   {
    "duration": 3,
    "start_time": "2023-11-19T17:22:23.972Z"
   },
   {
    "duration": 3810,
    "start_time": "2023-11-19T17:22:23.976Z"
   },
   {
    "duration": 17,
    "start_time": "2023-11-19T17:22:27.788Z"
   },
   {
    "duration": 122,
    "start_time": "2023-11-19T17:22:27.816Z"
   },
   {
    "duration": 4,
    "start_time": "2023-11-19T17:22:27.940Z"
   },
   {
    "duration": 452,
    "start_time": "2023-11-19T17:22:27.946Z"
   },
   {
    "duration": 28,
    "start_time": "2023-11-19T17:22:28.400Z"
   },
   {
    "duration": 34,
    "start_time": "2023-11-19T17:22:28.429Z"
   },
   {
    "duration": 450,
    "start_time": "2023-11-19T17:22:28.465Z"
   },
   {
    "duration": 20,
    "start_time": "2023-11-19T17:22:28.916Z"
   },
   {
    "duration": 42,
    "start_time": "2023-11-19T17:22:28.938Z"
   },
   {
    "duration": 133,
    "start_time": "2023-11-19T17:22:28.982Z"
   },
   {
    "duration": 5,
    "start_time": "2023-11-19T17:22:29.116Z"
   },
   {
    "duration": 875,
    "start_time": "2023-11-19T17:22:29.122Z"
   },
   {
    "duration": 102,
    "start_time": "2023-11-19T17:22:29.998Z"
   },
   {
    "duration": 55,
    "start_time": "2023-11-19T17:22:30.102Z"
   },
   {
    "duration": 3,
    "start_time": "2023-11-19T17:22:30.159Z"
   },
   {
    "duration": 64,
    "start_time": "2023-11-19T17:22:30.164Z"
   },
   {
    "duration": 906,
    "start_time": "2023-11-19T17:22:30.229Z"
   },
   {
    "duration": 38,
    "start_time": "2023-11-19T17:22:31.137Z"
   },
   {
    "duration": 81,
    "start_time": "2023-11-19T17:22:31.177Z"
   },
   {
    "duration": 66,
    "start_time": "2023-11-19T17:22:31.260Z"
   },
   {
    "duration": 42,
    "start_time": "2023-11-19T17:22:31.327Z"
   },
   {
    "duration": 890,
    "start_time": "2023-11-19T17:22:31.370Z"
   },
   {
    "duration": 156,
    "start_time": "2023-11-19T17:22:32.262Z"
   },
   {
    "duration": 938,
    "start_time": "2023-11-19T17:22:32.420Z"
   },
   {
    "duration": 43,
    "start_time": "2023-11-19T17:22:33.360Z"
   },
   {
    "duration": 10,
    "start_time": "2023-11-19T17:22:33.405Z"
   },
   {
    "duration": 7,
    "start_time": "2023-11-19T17:22:33.416Z"
   },
   {
    "duration": 32,
    "start_time": "2023-11-19T17:22:33.424Z"
   },
   {
    "duration": 18,
    "start_time": "2023-11-19T17:22:33.457Z"
   },
   {
    "duration": 71,
    "start_time": "2023-11-19T17:22:33.476Z"
   },
   {
    "duration": 150,
    "start_time": "2023-11-19T17:22:33.548Z"
   },
   {
    "duration": 19,
    "start_time": "2023-11-19T17:22:33.700Z"
   },
   {
    "duration": 51,
    "start_time": "2023-11-19T17:22:33.721Z"
   },
   {
    "duration": 2599,
    "start_time": "2023-11-19T17:22:33.773Z"
   },
   {
    "duration": 2,
    "start_time": "2023-11-19T17:22:36.374Z"
   },
   {
    "duration": 16,
    "start_time": "2023-11-19T17:22:36.377Z"
   },
   {
    "duration": 385838,
    "start_time": "2023-11-19T17:25:04.378Z"
   },
   {
    "duration": 22,
    "start_time": "2023-11-19T17:31:45.109Z"
   },
   {
    "duration": 1500,
    "start_time": "2023-11-19T17:33:49.837Z"
   },
   {
    "duration": 10,
    "start_time": "2023-11-19T17:33:59.665Z"
   },
   {
    "duration": 9,
    "start_time": "2023-11-19T17:37:24.400Z"
   },
   {
    "duration": 92594,
    "start_time": "2023-11-19T17:37:31.236Z"
   },
   {
    "duration": 98,
    "start_time": "2023-11-19T17:39:03.917Z"
   },
   {
    "duration": 8,
    "start_time": "2023-11-19T17:39:04.016Z"
   },
   {
    "duration": 4,
    "start_time": "2023-11-19T17:39:39.724Z"
   },
   {
    "duration": 2,
    "start_time": "2023-11-19T17:39:45.251Z"
   },
   {
    "duration": 3,
    "start_time": "2023-11-19T17:41:03.665Z"
   },
   {
    "duration": 99,
    "start_time": "2023-11-19T17:43:02.225Z"
   },
   {
    "duration": 9,
    "start_time": "2023-11-19T17:43:02.393Z"
   },
   {
    "duration": 3,
    "start_time": "2023-11-19T17:43:08.100Z"
   },
   {
    "duration": 3,
    "start_time": "2023-11-19T17:43:08.710Z"
   },
   {
    "duration": 798226,
    "start_time": "2023-11-19T17:43:09.209Z"
   },
   {
    "duration": 26,
    "start_time": "2023-11-19T17:56:27.437Z"
   }
  ],
  "kernelspec": {
   "display_name": "Python 3 (ipykernel)",
   "language": "python",
   "name": "python3"
  },
  "language_info": {
   "codemirror_mode": {
    "name": "ipython",
    "version": 3
   },
   "file_extension": ".py",
   "mimetype": "text/x-python",
   "name": "python",
   "nbconvert_exporter": "python",
   "pygments_lexer": "ipython3",
   "version": "3.9.13"
  },
  "toc": {
   "base_numbering": 1,
   "nav_menu": {},
   "number_sections": true,
   "sideBar": true,
   "skip_h1_title": true,
   "title_cell": "Table of Contents",
   "title_sidebar": "Contents",
   "toc_cell": false,
   "toc_position": {},
   "toc_section_display": true,
   "toc_window_display": false
  }
 },
 "nbformat": 4,
 "nbformat_minor": 2
}
